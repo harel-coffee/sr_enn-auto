{
 "cells": [
  {
   "cell_type": "markdown",
   "metadata": {},
   "source": [
    "# GroupfMRI6a - Use motor rule regions to predict Motor response regions\n",
    "#### Using ActFlow\n",
    "\n",
    "#### Takuya Ito\n",
    "#### 03/01/2019"
   ]
  },
  {
   "cell_type": "code",
   "execution_count": 2,
   "metadata": {},
   "outputs": [],
   "source": [
    "import numpy as np\n",
    "import matplotlib.pyplot as plt\n",
    "%matplotlib inline\n",
    "import multiprocessing as mp\n",
    "import scipy.stats as stats\n",
    "import os\n",
    "os.environ['OMP_NUM_THREADS'] = str(1)\n",
    "import statsmodels.sandbox.stats.multicomp as mc\n",
    "import seaborn as sns\n",
    "import h5py\n",
    "import tools_group\n",
    "import nibabel as nib\n",
    "sns.set_style(\"whitegrid\")\n",
    "plt.rcParams[\"font.family\"] = \"FreeSans\"\n"
   ]
  },
  {
   "cell_type": "code",
   "execution_count": 3,
   "metadata": {},
   "outputs": [],
   "source": [
    "# Excluding 084\n",
    "subjNums = ['013','014','016','017','018','021','023','024','026','027','028','030','031','032','033',\n",
    "            '034','035','037','038','039','040','041','042','043','045','046','047','048','049','050',\n",
    "            '053','055','056','057','058','062','063','066','067','068','069','070','072','074','075',\n",
    "            '076','077','081','085','086','087','088','090','092','093','094','095','097','098','099',\n",
    "            '101','102','103','104','105','106','108','109','110','111','112','114','115','117','119',\n",
    "            '120','121','122','123','124','125','126','127','128','129','130','131','132','134','135',\n",
    "            '136','137','138','139','140','141']\n",
    "\n",
    "\n",
    "\n",
    "basedir = '/projects3/SRActFlow/'\n",
    "\n",
    "# Using final partition\n",
    "networkdef = np.loadtxt('/projects3/NetworkDiversity/data/network_partition.txt')\n",
    "networkorder = np.asarray(sorted(range(len(networkdef)), key=lambda k: networkdef[k]))\n",
    "networkorder.shape = (len(networkorder),1)\n",
    "# network mappings for final partition set\n",
    "networkmappings = {'fpn':7, 'vis1':1, 'vis2':2, 'smn':3, 'aud':8, 'lan':6, 'dan':5, 'con':4, 'dmn':9, \n",
    "                   'pmulti':10, 'none1':11, 'none2':12}\n",
    "networks = networkmappings.keys()\n",
    "\n",
    "xticks = {}\n",
    "reorderednetworkaffil = networkdef[networkorder]\n",
    "for net in networks:\n",
    "    netNum = networkmappings[net]\n",
    "    netind = np.where(reorderednetworkaffil==netNum)[0]\n",
    "    tick = np.max(netind)\n",
    "    xticks[tick] = net\n",
    "\n",
    "## General parameters/variables\n",
    "nParcels = 360\n",
    "nSubjs = len(subjNums)\n",
    "\n",
    "glasserfile2 = '/projects/AnalysisTools/ParcelsGlasser2016/Q1-Q6_RelatedParcellation210.LR.CorticalAreas_dil_Colors.32k_fs_RL.dlabel.nii'\n",
    "glasser2 = nib.load(glasserfile2).get_data()\n",
    "glasser2 = np.squeeze(glasser2)\n",
    "\n",
    "sortednets = np.sort(xticks.keys())\n",
    "orderednetworks = []\n",
    "for net in sortednets: orderednetworks.append(xticks[net])\n",
    "    \n",
    "networkpalette = ['royalblue','slateblue','paleturquoise','darkorchid','limegreen',\n",
    "                  'lightseagreen','yellow','orchid','r','peru','orange','olivedrab']\n",
    "networkpalette = np.asarray(networkpalette)\n",
    "\n",
    "OrderedNetworks = ['VIS1','VIS2','SMN','CON','DAN','LAN','FPN','AUD','DMN','PMM','VMM','ORA']"
   ]
  },
  {
   "cell_type": "markdown",
   "metadata": {},
   "source": [
    "# 1.0 Define functions for motor response decodings"
   ]
  },
  {
   "cell_type": "markdown",
   "metadata": {},
   "source": [
    "#### Load in FC mappings"
   ]
  },
  {
   "cell_type": "code",
   "execution_count": 516,
   "metadata": {},
   "outputs": [],
   "source": [
    "sourcedir = '/projects3/SRActFlow/data/results/GroupfMRI/RuleDecoding/'\n",
    "sourceROIs = np.loadtxt(sourcedir + 'MotorRule_Regions.csv',delimiter=',')\n",
    "targetdir = '/projects3/SRActFlow/data/results/GroupfMRI/MotorResponseDecoding/'\n",
    "motor_resp_regions_LH = np.loadtxt(targetdir + 'MotorResponseRegions_LH.csv',delimiter=',')\n",
    "motor_resp_regions_RH = np.loadtxt(targetdir + 'MotorResponseRegions_RH.csv',delimiter=',')\n",
    "targetROIs = np.hstack((motor_resp_regions_LH,motor_resp_regions_RH))\n",
    "        \n",
    "overlappingROIs = np.intersect1d(sourceROIs,targetROIs)\n",
    "unique_sources = []\n",
    "for roi in sourceROIs:\n",
    "    if roi in overlappingROIs:\n",
    "        continue\n",
    "    else:\n",
    "        unique_sources.append(roi)\n",
    "\n",
    "unique_targets = []\n",
    "for roi in targetROIs:\n",
    "    #if roi in overlappingROIs:\n",
    "    #    continue\n",
    "    #else:\n",
    "    unique_targets.append(roi)\n",
    "\n",
    "####\n",
    "# Step 2 - concatenate indices for unique sources/targets\n",
    "source_ind = []\n",
    "for roi in unique_sources:\n",
    "    roi_ind = np.where(glasser2==roi+1)[0]\n",
    "    source_ind.extend(roi_ind)\n",
    "source_ind = np.asarray(source_ind)\n",
    "\n",
    "target_ind = []\n",
    "for roi in unique_targets:\n",
    "    roi_ind = np.where(glasser2==roi+1)[0]\n",
    "    target_ind.extend(roi_ind)\n",
    "target_ind = np.asarray(target_ind)\n",
    "\n",
    "fcmapping = np.zeros((len(source_ind),len(target_ind),len(subjNums)))\n",
    "\n",
    "scount = 0\n",
    "for subj in subjNums:\n",
    "    fcmapping[:,:,scount] = tools_group.loadMotorRuleToMotorOutputFC(subj)\n",
    "    scount += 1\n",
    "#\n",
    "#fcmapping = np.divide(fcmapping,len(subjNums))"
   ]
  },
  {
   "cell_type": "code",
   "execution_count": 536,
   "metadata": {},
   "outputs": [],
   "source": [
    "fcmapping_tmp = np.mean(fcmapping,axis=2)"
   ]
  },
  {
   "cell_type": "markdown",
   "metadata": {},
   "source": [
    "## 1.01 Load data for RH and LH responses"
   ]
  },
  {
   "cell_type": "code",
   "execution_count": null,
   "metadata": {},
   "outputs": [],
   "source": [
    "tools_group = reload(tools_group)\n",
    "nResponses = 2\n",
    "nRules = 4\n",
    "nStim = 4\n",
    "data_task_rh = np.zeros((len(glasser2),nResponses,len(subjNums)))\n",
    "data_task_lh = np.zeros((len(glasser2),nResponses,len(subjNums)))\n",
    "data_task_input = np.zeros((len(glasser2),nStim,len(subjNums)))\n",
    "data_task_sr = np.zeros((len(glasser2),nRules,len(subjNums)))\n",
    "data_task_motor = np.zeros((len(glasser2),nRules,len(subjNums)))\n",
    "\n",
    "scount = 0\n",
    "for subj in subjNums:\n",
    "    data_task_rh[:,:,scount] = tools_group.loadMotorResponses(subj,hand='Right')\n",
    "    data_task_lh[:,:,scount] = tools_group.loadMotorResponses(subj,hand='Left')\n",
    "    # Load compositional\n",
    "    data_task_input[:,:,scount] = tools_group.loadInputActivity(subj,inputtype='colorStim')\n",
    "    data_task_sr[:,:,scount] = tools_group.loadInputActivity(subj,inputtype='srRed')\n",
    "    data_task_motor[:,:,scount] = tools_group.loadRuleEncoding(subj,rule='Motor')\n",
    "    scount += 1"
   ]
  },
  {
   "cell_type": "code",
   "execution_count": null,
   "metadata": {},
   "outputs": [],
   "source": [
    "# Construct compositional representations for rmid and rind\n",
    "data_composition_rh = np.zeros(data_task_rh.shape)\n",
    "data_composition_lh = np.zeros(data_task_lh.shape)\n",
    "\n",
    "# data_composition_rh[:,0,:] = (data_task_input[:,0,:] + data_task_sr[:,0,:] + data_task_motor[:,2,:]) #mid\n",
    "# data_composition_rh[:,1,:] = (data_task_input[:,2,:] + data_task_sr[:,0,:] + data_task_motor[:,2,:]) #rind \n",
    "# data_composition_rh[:,0,:] = (data_task_input[:,0,:] + data_task_sr[:,0,:] + data_task_motor[:,2,:]) #mid\n",
    "# data_composition_rh[:,1,:] = (np.mean(data_task_input[:,1:,:],axis=1) + data_task_sr[:,0,:] + data_task_motor[:,2,:]) #rind \n",
    "# data_composition_rh[:,0,:] = (data_task_input[:,0,:] + data_task_sr[:,0,:]) #mid\n",
    "# data_composition_rh[:,1,:] = (data_task_input[:,0,:] + data_task_sr[:,0,:]) #rind \n",
    "# data_composition_rh[:,0,:] = (data_task_motor[:,2,:]) #mid\n",
    "# data_composition_rh[:,1,:] = (data_task_motor[:,3,:]) #rind \n",
    "\n",
    "# # RH composition\n",
    "# data_composition_rh[:,0,:] = (data_task_sr[:,0,:] + data_task_input[:,0,:] + data_task_motor[:,2,:]) #bothvert #vertvert #rmid\n",
    "# data_composition_rh[:,1,:] = (data_task_sr[:,0,:] + data_task_input[:,3,:] + data_task_motor[:,2,:]) #bothvert #hinputhinput #rmid \n",
    "\n",
    "# # LH composition\n",
    "# data_composition_lh[:,0,:] = (data_task_sr[:,0,:] + data_task_input[:,0,:] + data_task_motor[:,0,:]) #bothvert #vertvert #lmid\n",
    "# data_composition_lh[:,1,:] = (data_task_sr[:,0,:] + data_task_input[:,3,:] + data_task_motor[:,0,:]) #bothvert #horihori #lmid \n",
    "\n",
    "# RH composition\n",
    "data_composition_rh[:,0,:] = (data_task_sr[:,0,:] + data_task_motor[:,2,:]) #bothvert #vertvert #rmid\n",
    "data_composition_rh[:,1,:] = (data_task_sr[:,0,:] + data_task_motor[:,3,:]) #bothvert #hinputhinput #rmid \n",
    "\n",
    "# LH composition\n",
    "data_composition_lh[:,0,:] = (data_task_sr[:,0,:] + data_task_motor[:,0,:]) #bothvert #vertvert #lmid\n",
    "data_composition_lh[:,1,:] = (data_task_sr[:,0,:] + data_task_motor[:,1,:]) #bothvert #horihori #lmid "
   ]
  },
  {
   "cell_type": "markdown",
   "metadata": {},
   "source": [
    "## 1.02 Generate actflow data for RH responses"
   ]
  },
  {
   "cell_type": "code",
   "execution_count": null,
   "metadata": {},
   "outputs": [],
   "source": [
    "actflow_data = np.zeros((len(glasser2),nResponses,len(subjNums)))\n",
    "\n",
    "bad_rois = []\n",
    "scount = 0\n",
    "for subj in subjNums:\n",
    "#     print 'Subject', subj, '(', scount+1, '/', len(subjNums), ')'\n",
    "        \n",
    "#     # Right Finger 1\n",
    "#     actflow_data[target_ind,0,scount] = np.dot(data_composition_rh[source_ind,0,scount],fcmapping[:,:,scount])\n",
    "#     # Right Finger 2\n",
    "#     actflow_data[target_ind,1,scount] = np.dot(data_composition_rh[source_ind,1,scount],fcmapping[:,:,scount])\n",
    "    # Right Finger 1\n",
    "    actflow_data[target_ind,0,scount] = np.dot(data_composition_rh[source_ind,0,scount],fcmapping_tmp)\n",
    "    # Right Finger 2\n",
    "    actflow_data[target_ind,1,scount] = np.dot(data_composition_rh[source_ind,1,scount],fcmapping_tmp)\n",
    "\n",
    "    scount += 1\n",
    "    "
   ]
  },
  {
   "cell_type": "markdown",
   "metadata": {},
   "source": [
    "## 1.1 Run across subject decoding on right-hand motor responses"
   ]
  },
  {
   "cell_type": "code",
   "execution_count": null,
   "metadata": {},
   "outputs": [],
   "source": [
    "tools_group = reload(tools_group)"
   ]
  },
  {
   "cell_type": "code",
   "execution_count": null,
   "metadata": {},
   "outputs": [],
   "source": [
    "nproc = 20\n",
    "ncvs = 1\n",
    "\n",
    "# realdata = stats.zscore(data_task_rh[target_ind,:,:],axis=0).copy()\n",
    "# flowata = stats.zscore(actflow_data[target_ind,:,:],axis=0).copy()\n",
    "realdata = data_task_rh[target_ind,:,:].copy()\n",
    "flowdata = actflow_data[target_ind,:,:].copy()\n",
    "\n",
    "\n",
    "distances_baseline_rh = np.zeros((1,len(subjNums)*nResponses))\n",
    "distances_baseline_rh[0,:] = tools_group.actflowDecodings(realdata,\n",
    "                                                          flowdata,\n",
    "                                                          ncvs=ncvs, nproc=nproc)\n",
    "\n",
    "# distances_baseline_rh[0,:] = tools_group.actflowDecodings(realdata,\n",
    "#                                                           data_composition_rh[target_ind,:,:],\n",
    "#                                                           ncvs=ncvs, nproc=nproc)\n",
    "    "
   ]
  },
  {
   "cell_type": "markdown",
   "metadata": {},
   "source": [
    "## 1.2 Compute statistics"
   ]
  },
  {
   "cell_type": "code",
   "execution_count": null,
   "metadata": {},
   "outputs": [],
   "source": [
    "statistics_rh = np.zeros((distances_baseline_rh.shape[0],2))\n",
    "ntrials = len(subjNums)*2\n",
    "p = stats.binom_test(np.mean(distances_baseline_rh[0,:])*ntrials,n=ntrials,p=0.5)\n",
    "if np.mean(distances_baseline_rh[0,:])>0.5:\n",
    "    p = p/2.0\n",
    "else:\n",
    "    p = 1.0-p/2.0\n",
    "\n",
    "    \n",
    "statistics_rh[0,0] = np.mean(distances_baseline_rh[0,:])\n",
    "statistics_rh[0,1] = p\n",
    "\n",
    "print 'Activity flow accuracy =', statistics_rh[0,0]\n",
    "print 'p =', statistics_rh[0,1]\n",
    "\n"
   ]
  },
  {
   "cell_type": "markdown",
   "metadata": {},
   "source": [
    "# Run LH predictions"
   ]
  },
  {
   "cell_type": "code",
   "execution_count": null,
   "metadata": {},
   "outputs": [],
   "source": [
    "actflow_data = np.zeros((len(glasser2),nResponses,len(subjNums)))\n",
    "\n",
    "bad_rois = []\n",
    "scount = 0\n",
    "for subj in subjNums:\n",
    "#     print 'Subject', subj, '(', scount+1, '/', len(subjNums), ')'\n",
    "        \n",
    "#     # Right Finger 1\n",
    "#     actflow_data[target_ind,0,scount] = np.dot(data_composition_lh[source_ind,0,scount],fcmapping[:,:,scount])\n",
    "#     # Right Finger 2\n",
    "#     actflow_data[target_ind,1,scount] = np.dot(data_composition_lh[source_ind,1,scount],fcmapping[:,:,scount])\n",
    "    # Right Finger 1\n",
    "    actflow_data[target_ind,0,scount] = np.dot(data_composition_lh[source_ind,0,scount],fcmapping_tmp)\n",
    "    # Right Finger 2_tmp\n",
    "    actflow_data[target_ind,1,scount] = np.dot(data_composition_lh[source_ind,1,scount],fcmapping_tmp)\n",
    "    scount += 1\n",
    "    "
   ]
  },
  {
   "cell_type": "markdown",
   "metadata": {},
   "source": [
    "## 1.1 Run across subject decoding on right-hand motor responses"
   ]
  },
  {
   "cell_type": "code",
   "execution_count": null,
   "metadata": {},
   "outputs": [],
   "source": [
    "tools_group = reload(tools_group)"
   ]
  },
  {
   "cell_type": "code",
   "execution_count": null,
   "metadata": {},
   "outputs": [],
   "source": [
    "nproc = 20\n",
    "ncvs = 1\n",
    "\n",
    "# realdata = stats.zscore(data_task_lh[target_ind,:,:],axis=0).copy()\n",
    "# flowata = stats.zscore(actflow_data[target_ind,:,:],axis=0).copy()\n",
    "realdata = data_task_lh[target_ind,:,:].copy()\n",
    "flowdata = actflow_data[target_ind,:,:].copy()\n",
    "\n",
    "\n",
    "distances_baseline_lh = np.zeros((1,len(subjNums)*nResponses))\n",
    "distances_baseline_lh[0,:] = tools_group.actflowDecodings(realdata,\n",
    "                                                          flowdata,\n",
    "                                                          ncvs=ncvs, nproc=nproc)\n",
    "\n",
    "# distances_baseline_lh[0,:] = tools_group.actflowDecodings(realdata,\n",
    "#                                                           data_composition_lh[target_ind,:,:],\n",
    "#                                                           ncvs=ncvs, nproc=nproc)\n",
    "    "
   ]
  },
  {
   "cell_type": "markdown",
   "metadata": {},
   "source": [
    "## 1.2 Compute statistics"
   ]
  },
  {
   "cell_type": "code",
   "execution_count": null,
   "metadata": {},
   "outputs": [],
   "source": [
    "statistics_lh = np.zeros((distances_baseline_lh.shape[0],2))\n",
    "ntrials = len(subjNums)*2\n",
    "p = stats.binom_test(np.mean(distances_baseline_lh[0,:])*ntrials,n=ntrials,p=0.5)\n",
    "if np.mean(distances_baseline_lh[0,:])>0.5:\n",
    "    p = p/2.0\n",
    "else:\n",
    "    p = 1.0-p/2.0\n",
    "\n",
    "    \n",
    "statistics_lh[0,0] = np.mean(distances_baseline_lh[0,:])\n",
    "statistics_lh[0,1] = p\n",
    "\n",
    "print 'Activity flow accuracy =', statistics_lh[0,0]\n",
    "print 'p =', statistics_lh[0,1]\n",
    "\n"
   ]
  }
 ],
 "metadata": {
  "kernelspec": {
   "display_name": "Python 2",
   "language": "python",
   "name": "python2"
  },
  "language_info": {
   "codemirror_mode": {
    "name": "ipython",
    "version": 2
   },
   "file_extension": ".py",
   "mimetype": "text/x-python",
   "name": "python",
   "nbconvert_exporter": "python",
   "pygments_lexer": "ipython2",
   "version": "2.7.15"
  }
 },
 "nbformat": 4,
 "nbformat_minor": 2
}
