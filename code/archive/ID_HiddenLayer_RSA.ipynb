{
 "cells": [
  {
   "cell_type": "markdown",
   "metadata": {},
   "source": [
    "# Cross-subject decoding - hidden layer identification \n",
    "## Uses RSM of hidden/recurrent layer in ANN model (Model9a)\n",
    "\n",
    "#### Takuya Ito\n",
    "#### 05/15/2019"
   ]
  },
  {
   "cell_type": "code",
   "execution_count": 2,
   "metadata": {},
   "outputs": [],
   "source": [
    "import numpy as np\n",
    "import matplotlib.pyplot as plt\n",
    "%matplotlib inline\n",
    "import multiprocessing as mp\n",
    "import scipy.stats as stats\n",
    "import os\n",
    "os.environ['OMP_NUM_THREADS'] = str(1)\n",
    "import statsmodels.sandbox.stats.multicomp as mc\n",
    "import seaborn as sns\n",
    "import h5py\n",
    "import tools\n",
    "import nibabel as nib\n",
    "from importlib import reload\n",
    "import sklearn\n",
    "\n",
    "sns.set_style(\"whitegrid\")\n",
    "plt.rcParams[\"font.family\"] = \"FreeSans\"\n"
   ]
  },
  {
   "cell_type": "code",
   "execution_count": 3,
   "metadata": {},
   "outputs": [],
   "source": [
    "# Excluding 084\n",
    "subjNums = ['013','014','016','017','018','021','023','024','026','027','028','030','031','032','033',\n",
    "            '034','035','037','038','039','040','041','042','043','045','046','047','048','049','050',\n",
    "            '053','055','056','057','058','062','063','066','067','068','069','070','072','074','075',\n",
    "            '076','077','081','085','086','087','088','090','092','093','094','095','097','098','099',\n",
    "            '101','102','103','104','105','106','108','109','110','111','112','114','115','117','119',\n",
    "            '120','121','122','123','124','125','126','127','128','129','130','131','132','134','135',\n",
    "            '136','137','138','139','140','141']\n",
    "\n",
    "\n",
    "\n",
    "projectdir = '/home/ti61/f_mc1689_1/SRActFlow/'\n",
    "\n",
    "# Using final partition\n",
    "networkdef = np.loadtxt(projectdir + 'data/network_partition.txt')\n",
    "networkorder = np.asarray(sorted(range(len(networkdef)), key=lambda k: networkdef[k]))\n",
    "networkorder.shape = (len(networkorder),1)\n",
    "# network mappings for final partition set\n",
    "networkmappings = {'fpn':7, 'vis1':1, 'vis2':2, 'smn':3, 'aud':8, 'lan':6, 'dan':5, 'con':4, 'dmn':9, \n",
    "                   'pmulti':10, 'none1':11, 'none2':12}\n",
    "networks = networkmappings.keys()\n",
    "\n",
    "xticks = {}\n",
    "reorderednetworkaffil = networkdef[networkorder]\n",
    "for net in networks:\n",
    "    netNum = networkmappings[net]\n",
    "    netind = np.where(reorderednetworkaffil==netNum)[0]\n",
    "    tick = np.max(netind)\n",
    "    xticks[tick] = net\n",
    "\n",
    "## General parameters/variables\n",
    "nParcels = 360\n",
    "nSubjs = len(subjNums)\n",
    "\n",
    "glasserfile2 = projectdir + 'data/Q1-Q6_RelatedParcellation210.LR.CorticalAreas_dil_Colors.32k_fs_RL.dlabel.nii'\n",
    "glasser2 = nib.load(glasserfile2).get_data()\n",
    "glasser2 = np.squeeze(glasser2)\n",
    "\n",
    "sortednets = np.sort(list(xticks.keys()))\n",
    "orderednetworks = []\n",
    "for net in sortednets: orderednetworks.append(xticks[net])\n",
    "    \n",
    "networkpalette = ['royalblue','slateblue','paleturquoise','darkorchid','limegreen',\n",
    "                  'lightseagreen','yellow','orchid','r','peru','orange','olivedrab']\n",
    "networkpalette = np.asarray(networkpalette)\n",
    "\n",
    "OrderedNetworks = ['VIS1','VIS2','SMN','CON','DAN','LAN','FPN','AUD','DMN','PMM','VMM','ORA']"
   ]
  },
  {
   "cell_type": "markdown",
   "metadata": {},
   "source": [
    "# 1.0 Run across subject decoding on RED SR rules\n",
    "### 4-way decoding\n",
    "* both red\n",
    "* notboth red\n",
    "* either red\n",
    "* neither red"
   ]
  },
  {
   "cell_type": "markdown",
   "metadata": {},
   "source": [
    "## 1.1 Load data for rules and stimulus representations"
   ]
  },
  {
   "cell_type": "code",
   "execution_count": 4,
   "metadata": {},
   "outputs": [
    {
     "name": "stdout",
     "output_type": "stream",
     "text": [
      "Loading subject 013\n"
     ]
    },
    {
     "name": "stderr",
     "output_type": "stream",
     "text": [
      "/projects/f_mc1689_1/AnalysisTools/anaconda3/lib/python3.7/site-packages/ipykernel_launcher.py:14: ComplexWarning: Casting complex values to real discards the imaginary part\n",
      "  \n",
      "/projects/f_mc1689_1/AnalysisTools/anaconda3/lib/python3.7/site-packages/ipykernel_launcher.py:19: ComplexWarning: Casting complex values to real discards the imaginary part\n"
     ]
    },
    {
     "name": "stdout",
     "output_type": "stream",
     "text": [
      "Loading subject 014\n",
      "Loading subject 016\n",
      "Loading subject 017\n",
      "Loading subject 018\n",
      "Loading subject 021\n",
      "Loading subject 023\n",
      "Loading subject 024\n",
      "Loading subject 026\n",
      "Loading subject 027\n",
      "Loading subject 028\n",
      "Loading subject 030\n",
      "Loading subject 031\n",
      "Loading subject 032\n",
      "Loading subject 033\n",
      "Loading subject 034\n",
      "Loading subject 035\n",
      "Loading subject 037\n",
      "Loading subject 038\n",
      "Loading subject 039\n",
      "Loading subject 040\n",
      "Loading subject 041\n",
      "Loading subject 042\n",
      "Loading subject 043\n",
      "Loading subject 045\n",
      "Loading subject 046\n",
      "Loading subject 047\n",
      "Loading subject 048\n",
      "Loading subject 049\n",
      "Loading subject 050\n",
      "Loading subject 053\n",
      "Loading subject 055\n",
      "Loading subject 056\n",
      "Loading subject 057\n",
      "Loading subject 058\n",
      "Loading subject 062\n",
      "Loading subject 063\n",
      "Loading subject 066\n",
      "Loading subject 067\n",
      "Loading subject 068\n",
      "Loading subject 069\n",
      "Loading subject 070\n",
      "Loading subject 072\n",
      "Loading subject 074\n",
      "Loading subject 075\n",
      "Loading subject 076\n",
      "Loading subject 077\n",
      "Loading subject 081\n",
      "Loading subject 085\n",
      "Loading subject 086\n",
      "Loading subject 087\n",
      "Loading subject 088\n",
      "Loading subject 090\n",
      "Loading subject 092\n",
      "Loading subject 093\n",
      "Loading subject 094\n",
      "Loading subject 095\n",
      "Loading subject 097\n",
      "Loading subject 098\n",
      "Loading subject 099\n",
      "Loading subject 101\n",
      "Loading subject 102\n",
      "Loading subject 103\n",
      "Loading subject 104\n",
      "Loading subject 105\n",
      "Loading subject 106\n",
      "Loading subject 108\n",
      "Loading subject 109\n",
      "Loading subject 110\n",
      "Loading subject 111\n",
      "Loading subject 112\n",
      "Loading subject 114\n",
      "Loading subject 115\n",
      "Loading subject 117\n",
      "Loading subject 119\n",
      "Loading subject 120\n",
      "Loading subject 121\n",
      "Loading subject 122\n",
      "Loading subject 123\n",
      "Loading subject 124\n",
      "Loading subject 125\n",
      "Loading subject 126\n",
      "Loading subject 127\n",
      "Loading subject 128\n",
      "Loading subject 129\n",
      "Loading subject 130\n",
      "Loading subject 131\n",
      "Loading subject 132\n",
      "Loading subject 134\n",
      "Loading subject 135\n",
      "Loading subject 136\n",
      "Loading subject 137\n",
      "Loading subject 138\n",
      "Loading subject 139\n",
      "Loading subject 140\n",
      "Loading subject 141\n"
     ]
    }
   ],
   "source": [
    "# gsr = True\n",
    "n_features = 28 # 12 rules, 16 stim combos\n",
    "data_task = np.zeros((len(glasser2),n_features,len(subjNums)))\n",
    "rules = ['Logic','Sensory','Motor']\n",
    "stimuli = ['colorStim','oriStim','pitchStim','constantStim']\n",
    "\n",
    "\n",
    "scount = 0\n",
    "for subj in subjNums:\n",
    "    print('Loading subject', subj)\n",
    "    indstart = 0\n",
    "    indend = 4\n",
    "    for rule in rules:\n",
    "        data_task[:,indstart:indend,scount] = tools.loadRuleEncoding(subj,rule)\n",
    "        indstart += 4\n",
    "        indend += 4\n",
    "    \n",
    "    for stim in stimuli:\n",
    "        data_task[:,indstart:indend,scount] = tools.loadInputActivity(subj,stim)\n",
    "        indstart += 4\n",
    "        indend += 4\n",
    "    \n",
    "    scount += 1\n"
   ]
  },
  {
   "cell_type": "markdown",
   "metadata": {},
   "source": [
    "# Run group-level RDM comparisons"
   ]
  },
  {
   "cell_type": "markdown",
   "metadata": {},
   "source": [
    "#### Run RSA and construct RSM"
   ]
  },
  {
   "cell_type": "code",
   "execution_count": 5,
   "metadata": {},
   "outputs": [],
   "source": [
    "group_rsm = np.zeros((n_features, n_features, nParcels))\n",
    "\n",
    "group_data_task = np.mean(data_task,axis=2)\n",
    "for parcel in range(nParcels):\n",
    "    parcel_ind = np.where(glasser2==parcel+1)[0]\n",
    "    tmp = np.corrcoef(group_data_task[parcel_ind,:].T)\n",
    "    np.fill_diagonal(tmp,0)\n",
    "    tmp = np.arctanh(tmp)\n",
    "    group_rsm[:,:,parcel] = tmp.copy()\n",
    "        "
   ]
  },
  {
   "cell_type": "code",
   "execution_count": 7,
   "metadata": {},
   "outputs": [
    {
     "name": "stdout",
     "output_type": "stream",
     "text": [
      "Max RSM similarity: 0.7162909069014064 ROI = [114]\n",
      "Min RSM similarity: -0.21678353995704555 ROI = [196]\n"
     ]
    }
   ],
   "source": [
    "ann_rsm = np.loadtxt(projectdir + 'data/results/MODEL/ANN1280_HiddenLayerRSM_NoDynamics.csv')\n",
    "triu_ind = np.triu_indices(n_features,k=1)\n",
    "rsm_similarities = np.zeros((nParcels,3)) # r, p, q\n",
    "# group_rsm = np.mean(rsm,axis=3)\n",
    "for parcel in range(nParcels):\n",
    "#         r, p = stats.pearsonr(np.arctanh(ann_rsm[triu_ind]),rsm[:,:,parcel,s][triu_ind])\n",
    "    r, p = stats.spearmanr(np.arctanh(ann_rsm[triu_ind]),group_rsm[:,:,parcel][triu_ind])\n",
    "    rsm_similarities[parcel,0] = r\n",
    "    rsm_similarities[parcel,1] = p\n",
    "rsm_similarities[:,2] = mc.fdrcorrection0(rsm_similarities[:,1])[0]\n",
    "    \n",
    "    \n",
    "max_ind = np.where(rsm_similarities[:,0]==np.max(rsm_similarities[:,0]))[0]\n",
    "min_ind = np.where(rsm_similarities[:,0]==np.min(rsm_similarities[:,0]))[0]\n",
    "print('Max RSM similarity:', np.max(rsm_similarities[:,0]), 'ROI =', max_ind+1)\n",
    "print('Min RSM similarity:', np.min(rsm_similarities[:,0]), 'ROI =', min_ind+1)\n"
   ]
  },
  {
   "cell_type": "markdown",
   "metadata": {},
   "source": [
    "#### Save out an ordered list from highest-to-lowest variance explained for ActFlow mapping"
   ]
  },
  {
   "cell_type": "code",
   "execution_count": 35,
   "metadata": {},
   "outputs": [
    {
     "name": "stdout",
     "output_type": "stream",
     "text": [
      "Top 10 MOST similar [113, 279, 116, 216, 293, 226, 104, 76, 208, 221]\n",
      "Top 10 least similar [195, 19, 337, 16, 15, 157, 199, 6, 185, 198]\n"
     ]
    }
   ],
   "source": [
    "tmp = rsm_similarities[:,0]\n",
    "new = sorted(range(len(tmp)), key=lambda k: -tmp[k])\n",
    "print(\"Top 10 MOST similar\", new[:10])\n",
    "\n",
    "leastsimilar = sorted(range(len(tmp)), key=lambda k: tmp[k])\n",
    "print(\"Top 10 least similar\", leastsimilar[:10])\n",
    "\n",
    "# np.savetxt('/projects3/SRActFlow/data/results/GroupfMRI/RSA/RSA_Similarity_SortedRegions2.txt',new)"
   ]
  },
  {
   "cell_type": "code",
   "execution_count": 50,
   "metadata": {},
   "outputs": [
    {
     "data": {
      "image/png": "[encoded data removed]",
      "text/plain": [
       "<Figure size 504x504 with 1 Axes>"
      ]
     },
     "metadata": {},
     "output_type": "display_data"
    },
    {
     "data": {
      "image/png": "[encoded data removed]",
      "text/plain": [
       "<Figure size 504x504 with 1 Axes>"
      ]
     },
     "metadata": {},
     "output_type": "display_data"
    },
    {
     "data": {
      "image/png": "[encoded data removed]",
      "text/plain": [
       "<Figure size 504x504 with 1 Axes>"
      ]
     },
     "metadata": {},
     "output_type": "display_data"
    },
    {
     "data": {
      "image/png": "[encoded data removed]",
      "text/plain": [
       "<Figure size 504x504 with 1 Axes>"
      ]
     },
     "metadata": {},
     "output_type": "display_data"
    },
    {
     "data": {
      "image/png": "[encoded data removed]",
      "text/plain": [
       "<Figure size 504x504 with 1 Axes>"
      ]
     },
     "metadata": {},
     "output_type": "display_data"
    }
   ],
   "source": [
    "plt.figure(figsize=(7,7))\n",
    "# ax = sns.heatmap(np.arctanh(ann_rsm),cmap='bwr', center=0,square=True,cbar_kws={'fraction':0.046},xticklabels=False,yticklabels=False)\n",
    "ax = sns.heatmap(np.arctanh(ann_rsm),cmap='bwr', center=0,square=True,xticklabels=False,yticklabels=False,cbar=False)\n",
    "ax.invert_yaxis()\n",
    "plt.title(\"RSM of ANN Hidden Layer\", fontsize=30, fontname=\"Arial\")\n",
    "plt.tight_layout()\n",
    "plt.savefig('RSM_ANN_HiddenLayer.png', dpi=300)\n",
    "\n",
    "\n",
    "plt.figure(figsize=(7,7))\n",
    "parcelno = 116\n",
    "# ax = sns.heatmap(group_rsm[:,:,parcelno],square=True,center=0,cmap='bwr',cbar_kws={'fraction':0.046},xticklabels=False,yticklabels=False)\n",
    "ax = sns.heatmap(group_rsm[:,:,parcelno],square=True,center=0,cmap='bwr',xticklabels=False,yticklabels=False,cbar=False)\n",
    "ax.invert_yaxis()\n",
    "plt.title(\"RSM of Parcel \" + str(parcelno+1), fontsize=30, fontname=\"Arial\")\n",
    "plt.tight_layout()\n",
    "plt.savefig('RSM_Parcel' + str(parcelno+1) + '.png', dpi=300)\n",
    "\n",
    "\n",
    "plt.figure(figsize=(7,7))\n",
    "parcelno = 279\n",
    "# ax = sns.heatmap(group_rsm[:,:,parcelno],square=True,center=0,cmap='bwr',cbar_kws={'fraction':0.046},xticklabels=False,yticklabels=False)\n",
    "ax = sns.heatmap(group_rsm[:,:,parcelno],square=True,center=0,cmap='bwr',xticklabels=False,yticklabels=False,cbar=False)\n",
    "ax.invert_yaxis()\n",
    "plt.title(\"RSM of Parcel \" + str(parcelno+1), fontsize=30, fontname=\"Arial\")\n",
    "plt.tight_layout()\n",
    "plt.savefig('RSM_Parcel' + str(parcelno+1) + '.png', dpi=300)\n",
    "\n",
    "plt.figure(figsize=(7,7))\n",
    "parcelno = 113\n",
    "# ax = sns.heatmap(group_rsm[:,:,parcelno],square=True,center=0,cmap='bwr',cbar_kws={'fraction':0.046},xticklabels=False,yticklabels=False)\n",
    "ax = sns.heatmap(group_rsm[:,:,parcelno],square=True,center=0,cmap='bwr',xticklabels=False,yticklabels=False,cbar=False)\n",
    "ax.invert_yaxis()\n",
    "plt.title(\"RSM of Parcel \" + str(parcelno+1), fontsize=30, fontname=\"Arial\")\n",
    "plt.tight_layout()\n",
    "plt.savefig('RSM_Parcel' + str(parcelno+1) + '.png', dpi=300)\n",
    "\n",
    "\n",
    "plt.figure(figsize=(7,7))\n",
    "parcelno = 19\n",
    "# ax = sns.heatmap(group_rsm[:,:,parcelno],square=True,center=0,cmap='bwr',cbar_kws={'fraction':0.046},xticklabels=False,yticklabels=False)\n",
    "ax = sns.heatmap(group_rsm[:,:,parcelno],square=True,center=0,cmap='bwr',xticklabels=False,yticklabels=False,cbar=False)\n",
    "ax.invert_yaxis()\n",
    "plt.title(\"RSM of Parcel \" + str(parcelno+1), fontsize=30, fontname=\"Arial\")\n",
    "plt.tight_layout()\n",
    "plt.savefig('RSM_Parcel' + str(parcelno+1) + '.png', dpi=300)\n",
    "\n"
   ]
  },
  {
   "cell_type": "code",
   "execution_count": 29,
   "metadata": {},
   "outputs": [
    {
     "data": {
      "text/plain": [
       "0"
      ]
     },
     "execution_count": 29,
     "metadata": {},
     "output_type": "execute_result"
    }
   ],
   "source": [
    "#### Map back to surface\n",
    "# Put all data into a single matrix (since we only run a single classification)\n",
    "rsm_similarity_64k = np.zeros((glasser2.shape[0],3))\n",
    "top_regions = np.zeros((glasser2.shape[0],4))\n",
    "\n",
    "roicount = 0\n",
    "for roi in range(nParcels):\n",
    "    vertex_ind = np.where(glasser2==roi+1)[0]\n",
    "    rsm_similarity_64k[vertex_ind,0] = rsm_similarities[roicount,0]\n",
    "    rsm_similarity_64k[vertex_ind,1] = rsm_similarities[roicount,1]\n",
    "    rsm_similarity_64k[vertex_ind,2] = np.multiply(rsm_similarities[roicount,2],rsm_similarities[roicount,0]) # threshold q < 0.05\n",
    "    if roi in new[:5]: top_regions[vertex_ind,0] = 1\n",
    "    if roi in new[:10]: top_regions[vertex_ind,1] = 1\n",
    "    if roi in new[:15]: top_regions[vertex_ind,2] = 1\n",
    "    if roi in new[:20]: top_regions[vertex_ind,3] = 1\n",
    "        \n",
    "\n",
    "    roicount += 1\n",
    "    \n",
    "# #### \n",
    "# # Write file to csv and run wb_command\n",
    "# outdir = projectdir + 'data/results/MAIN/RSA/'\n",
    "# filename = 'rsaSimilarity_v2'\n",
    "# np.savetxt(outdir + filename + '.csv', rsm_similarity_64k, fmt='%s')\n",
    "# wb_file = filename + '.dscalar.nii'\n",
    "# wb_command = 'wb_command -cifti-convert -from-text ' + outdir + filename + '.csv ' + glasserfile2 + ' ' + outdir + wb_file + ' -reset-scalars'\n",
    "# os.system(wb_command)\n",
    "\n",
    "\n",
    "# # Write file to csv and run wb_command\n",
    "# outdir = projectdir + 'data/results/MAIN/RSA/'\n",
    "# filename = 'rsaSimilarity_topRegionsMask_v2'\n",
    "# np.savetxt(outdir + filename + '.csv', top_regions, fmt='%s')\n",
    "# wb_file = filename + '.dscalar.nii'\n",
    "# wb_command = 'wb_command -cifti-convert -from-text ' + outdir + filename + '.csv ' + glasserfile2 + ' ' + outdir + wb_file + ' -reset-scalars'\n",
    "# os.system(wb_command)"
   ]
  }
 ],
 "metadata": {
  "kernelspec": {
   "display_name": "Python 3",
   "language": "python",
   "name": "python3"
  },
  "language_info": {
   "codemirror_mode": {
    "name": "ipython",
    "version": 3
   },
   "file_extension": ".py",
   "mimetype": "text/x-python",
   "name": "python",
   "nbconvert_exporter": "python",
   "pygments_lexer": "ipython3",
   "version": "3.7.3"
  }
 },
 "nbformat": 4,
 "nbformat_minor": 4
}
