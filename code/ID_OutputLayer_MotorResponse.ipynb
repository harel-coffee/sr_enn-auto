{
 "cells": [
  {
   "cell_type": "markdown",
   "metadata": {},
   "source": [
    "# Cross-subject decoding Motor responses \n",
    "### (LINDEX v. LMID and RINDEX v. RMID)\n",
    "\n",
    "#### Takuya Ito\n",
    "#### 8/17/2020"
   ]
  },
  {
   "cell_type": "code",
   "execution_count": 1,
   "metadata": {},
   "outputs": [],
   "source": [
    "import numpy as np\n",
    "import matplotlib.pyplot as plt\n",
    "%matplotlib inline\n",
    "import multiprocessing as mp\n",
    "import scipy.stats as stats\n",
    "import os\n",
    "os.environ['OMP_NUM_THREADS'] = str(1)\n",
    "import statsmodels.sandbox.stats.multicomp as mc\n",
    "import seaborn as sns\n",
    "import h5py\n",
    "import tools as tools\n",
    "import nibabel as nib\n",
    "\n",
    "sns.set_style(\"whitegrid\")\n",
    "plt.rcParams[\"font.family\"] = \"FreeSans\"\n"
   ]
  },
  {
   "cell_type": "markdown",
   "metadata": {},
   "source": [
    "## 0.1 Load data"
   ]
  },
  {
   "cell_type": "code",
   "execution_count": 5,
   "metadata": {},
   "outputs": [],
   "source": [
    "# Excluding 084\n",
    "subjNums = ['013','014','016','017','018','021','023','024','026','027','028','030','031','032','033',\n",
    "            '034','035','037','038','039','040','041','042','043','045','046','047','048','049','050',\n",
    "            '053','055','056','057','058','062','063','066','067','068','069','070','072','074','075',\n",
    "            '076','077','081','085','086','087','088','090','092','093','094','095','097','098','099',\n",
    "            '101','102','103','104','105','106','108','109','110','111','112','114','115','117','119',\n",
    "            '120','121','122','123','124','125','126','127','128','129','130','131','132','134','135',\n",
    "            '136','137','138','139','140','141']\n",
    "\n",
    "\n",
    "\n",
    "projectdir = '/home/ti61/f_mc1689_1/SRActFlow/'\n",
    "\n",
    "# Using final partition\n",
    "networkdef = np.loadtxt(projectdir + 'data/network_partition.txt')\n",
    "networkorder = np.asarray(sorted(range(len(networkdef)), key=lambda k: networkdef[k]))\n",
    "networkorder.shape = (len(networkorder),1)\n",
    "# network mappings for final partition set\n",
    "networkmappings = {'fpn':7, 'vis1':1, 'vis2':2, 'smn':3, 'aud':8, 'lan':6, 'dan':5, 'con':4, 'dmn':9, \n",
    "                   'pmulti':10, 'none1':11, 'none2':12}\n",
    "networks = networkmappings.keys()\n",
    "\n",
    "xticks = {}\n",
    "reorderednetworkaffil = networkdef[networkorder]\n",
    "for net in networks:\n",
    "    netNum = networkmappings[net]\n",
    "    netind = np.where(reorderednetworkaffil==netNum)[0]\n",
    "    tick = np.max(netind)\n",
    "    xticks[tick] = net\n",
    "\n",
    "## General parameters/variables\n",
    "nParcels = 360\n",
    "nSubjs = len(subjNums)\n",
    "\n",
    "glasserfile2 = projectdir + 'data/Q1-Q6_RelatedParcellation210.LR.CorticalAreas_dil_Colors.32k_fs_RL.dlabel.nii'\n",
    "glasser2 = nib.load(glasserfile2).get_data()\n",
    "glasser2 = np.squeeze(glasser2)\n",
    "\n",
    "sortednets = np.sort(list(xticks.keys()))\n",
    "orderednetworks = []\n",
    "for net in sortednets: orderednetworks.append(xticks[net])\n",
    "    \n",
    "networkpalette = ['royalblue','slateblue','paleturquoise','darkorchid','limegreen',\n",
    "                  'lightseagreen','yellow','orchid','r','peru','orange','olivedrab']\n",
    "networkpalette = np.asarray(networkpalette)\n",
    "\n",
    "OrderedNetworks = ['VIS1','VIS2','SMN','CON','DAN','LAN','FPN','AUD','DMN','PMM','VMM','ORA']"
   ]
  },
  {
   "cell_type": "code",
   "execution_count": 6,
   "metadata": {},
   "outputs": [],
   "source": [
    "# gsr = True\n",
    "nResponses = 2\n",
    "data_task_rh = np.zeros((len(glasser2),nResponses,len(subjNums)))\n",
    "data_task_lh = np.zeros((len(glasser2),nResponses,len(subjNums)))\n",
    "\n",
    "scount = 0\n",
    "for subj in subjNums:\n",
    "    data_task_rh[:,:,scount] = tools.loadMotorResponses(subj,hand='Right')\n",
    "    data_task_lh[:,:,scount] = tools.loadMotorResponses(subj,hand='Left')\n",
    "    scount += 1"
   ]
  },
  {
   "cell_type": "code",
   "execution_count": 7,
   "metadata": {},
   "outputs": [],
   "source": [
    "roi_ind_rh = []\n",
    "rois_rh = [8, 9, 52]\n",
    "for roi in rois_rh:\n",
    "    roi_ind_rh.extend(np.where(glasser2==roi+1)[0])\n",
    "    \n",
    "roi_ind_lh = []\n",
    "rois_lh = [188, 189, 232]\n",
    "for roi in rois_lh:\n",
    "    roi_ind_lh.extend(np.where(glasser2==roi+1)[0])    \n",
    "    \n",
    "roi_ind_lh = np.asarray(roi_ind_lh)\n",
    "roi_ind_rh = np.asarray(roi_ind_rh)"
   ]
  },
  {
   "cell_type": "markdown",
   "metadata": {},
   "source": [
    "## Significant activations for each finger confined to motor cortex"
   ]
  },
  {
   "cell_type": "code",
   "execution_count": 10,
   "metadata": {},
   "outputs": [],
   "source": [
    "smnROIs = np.where(networkdef==networkmappings['smn'])[0] \n",
    "\n",
    "ind = []\n",
    "\n",
    "for roi in smnROIs:\n",
    "    roi_ind = np.where(glasser2==roi+1)[0]\n",
    "    ind.extend(roi_ind)\n",
    "#for roi in smnrois:\n",
    "#    roi_ind = np.where(glasser2==roi+1)[0]\n",
    "#    ind.extend(roi_ind)\n",
    "\n",
    "ind = np.asarray(ind)\n",
    "\n",
    "out_array = np.zeros((len(glasser2),))\n",
    "t, p = stats.ttest_rel(data_task_rh[roi_ind_rh,0,:],data_task_rh[roi_ind_rh,1,:],axis=1)\n",
    "h0 = mc.fdrcorrection0(p)\n",
    "# tmp_ind = np.intersect1d(ind, roi_ind_rh)\n",
    "out_array[roi_ind_rh] = h0[0]\n",
    "        \n",
    "outputfilename = projectdir + 'data/results/MAIN/MotorRegionsMasksPerSubj/sractflow_smn_outputRH_mask'\n",
    "tools.mapBackToSurface(out_array,outputfilename)\n",
    "\n",
    "out_array = np.zeros((len(glasser2),))\n",
    "t, p = stats.ttest_rel(data_task_lh[roi_ind_lh,0,:],data_task_lh[roi_ind_lh,1,:],axis=1)\n",
    "h0 = mc.fdrcorrection0(p)\n",
    "# tmp_ind = np.intersect1d(ind, roi_ind_lh)\n",
    "out_array[roi_ind_lh] = h0[0]\n",
    "        \n",
    "outputfilename = projectdir + 'data/results/MAIN/MotorRegionsMasksPerSubj/sractflow_smn_outputLH_mask'\n",
    "tools.mapBackToSurface(out_array,outputfilename)"
   ]
  },
  {
   "cell_type": "markdown",
   "metadata": {},
   "source": [
    "# Save out t-values"
   ]
  },
  {
   "cell_type": "code",
   "execution_count": 11,
   "metadata": {},
   "outputs": [],
   "source": [
    "smnROIs = np.where(networkdef==networkmappings['smn'])[0] \n",
    "\n",
    "ind = []\n",
    "\n",
    "for roi in smnROIs:\n",
    "    roi_ind = np.where(glasser2==roi+1)[0]\n",
    "    ind.extend(roi_ind)\n",
    "\n",
    "ind = np.asarray(ind)\n",
    "\n",
    "out_array = np.zeros((len(glasser2),))\n",
    "t, p = stats.ttest_rel(data_task_rh[roi_ind_rh,0,:],data_task_rh[roi_ind_rh,1,:],axis=1)\n",
    "h0 = mc.fdrcorrection0(p)\n",
    "# tmp_ind = np.intersect1d(ind, roi_ind_rh)\n",
    "out_array[roi_ind_rh] = np.multiply(h0[0],t)\n",
    "        \n",
    "\n",
    "outputfilename = projectdir + 'data/results/MAIN/MotorRegionsMasksPerSubj/sractflow_smn_outputRH_mask_tvals'\n",
    "tools.mapBackToSurface(out_array,outputfilename)\n",
    "\n",
    "out_array = np.zeros((len(glasser2),))\n",
    "t, p = stats.ttest_rel(data_task_lh[roi_ind_lh,0,:],data_task_lh[roi_ind_lh,1,:],axis=1)\n",
    "h0 = mc.fdrcorrection0(p)\n",
    "# tmp_ind = np.intersect1d(ind, roi_ind_lh)\n",
    "out_array[roi_ind_lh] = np.multiply(h0[0],t)\n",
    "        \n",
    "outputfilename = projectdir + 'data/results/MAIN/MotorRegionsMasksPerSubj/sractflow_smn_outputLH_mask_tvals'\n",
    "tools.mapBackToSurface(out_array,outputfilename)"
   ]
  }
 ],
 "metadata": {
  "kernelspec": {
   "display_name": "Python 3",
   "language": "python",
   "name": "python3"
  },
  "language_info": {
   "codemirror_mode": {
    "name": "ipython",
    "version": 3
   },
   "file_extension": ".py",
   "mimetype": "text/x-python",
   "name": "python",
   "nbconvert_exporter": "python",
   "pygments_lexer": "ipython3",
   "version": "3.7.10"
  }
 },
 "nbformat": 4,
 "nbformat_minor": 4
}
