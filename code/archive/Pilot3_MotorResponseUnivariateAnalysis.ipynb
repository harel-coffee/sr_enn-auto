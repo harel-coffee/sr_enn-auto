{
 "cells": [
  {
   "cell_type": "markdown",
   "metadata": {},
   "source": [
    "# Pilot 1 -- Compute the the univariate t-test contrast (whole-brain) for motor responses (LINDEX v. LMID and RINDEX v. RMID)\n",
    "\n",
    "\n",
    "## Do a t-test contrast for responses within each hand separately\n",
    "\n",
    "## Takuya Ito\n",
    "#### 02/27/2018"
   ]
  },
  {
   "cell_type": "code",
   "execution_count": 1,
   "metadata": {},
   "outputs": [],
   "source": [
    "import numpy as np\n",
    "import matplotlib.pyplot as plt\n",
    "%matplotlib inline\n",
    "import os\n",
    "import multiprocessing as mp\n",
    "import scipy.stats as stats\n",
    "import nibabel as nib\n",
    "import os\n",
    "os.environ['OMP_NUM_THREADS'] = str(1)\n",
    "import statsmodels.api as sm\n",
    "import sklearn.svm as svm\n",
    "import statsmodels.sandbox.stats.multicomp as mc\n",
    "import sklearn\n",
    "from sklearn.feature_selection import f_classif\n",
    "import seaborn as sns\n",
    "\n",
    "sns.set_style(\"whitegrid\")\n",
    "plt.rcParams[\"font.family\"] = \"FreeSans\"\n"
   ]
  },
  {
   "cell_type": "code",
   "execution_count": 3,
   "metadata": {},
   "outputs": [],
   "source": [
    "# Excluding 084\n",
    "subjNums = ['013','014','016','017','018','021','023','024','026','027','028','030','031','032','033',\n",
    "            '034','035','037','038','039','040','041','042','043','045','046','047','048','049','050',\n",
    "            '053','055','056','057','058','062','063','066','067','068','069','070','072','074','075',\n",
    "            '076','077','081','085','086','087','088','090','092','093','094','095','097','098','099',\n",
    "            '101','102','103','104','105','106','108','109','110','111','112','114','115','117','119',\n",
    "            '120','121','122','123','124','125','126','127','128','129','130','131','132','134','135',\n",
    "            '136','137','138','139','140','141']\n",
    "\n",
    "\n",
    "\n",
    "basedir = '/projects3/SRActFlow/'\n",
    "\n",
    "# Using final partition\n",
    "networkdef = np.loadtxt('/projects3/NetworkDiversity/data/network_partition.txt')\n",
    "networkorder = np.asarray(sorted(range(len(networkdef)), key=lambda k: networkdef[k]))\n",
    "networkorder.shape = (len(networkorder),1)\n",
    "# network mappings for final partition set\n",
    "networkmappings = {'fpn':7, 'vis1':1, 'vis2':2, 'smn':3, 'aud':8, 'lan':6, 'dan':5, 'con':4, 'dmn':9, \n",
    "                   'pmulti':10, 'none1':11, 'none2':12}\n",
    "networks = networkmappings.keys()\n",
    "\n",
    "xticks = {}\n",
    "reorderednetworkaffil = networkdef[networkorder]\n",
    "for net in networks:\n",
    "    netNum = networkmappings[net]\n",
    "    netind = np.where(reorderednetworkaffil==netNum)[0]\n",
    "    tick = np.max(netind)\n",
    "    xticks[tick] = net\n",
    "\n",
    "## General parameters/variables\n",
    "nParcels = 360\n",
    "nSubjs = len(subjNums)\n",
    "\n",
    "glasserfile2 = '/projects/AnalysisTools/ParcelsGlasser2016/Q1-Q6_RelatedParcellation210.LR.CorticalAreas_dil_Colors.32k_fs_RL.dlabel.nii'\n",
    "glasser2 = nib.load(glasserfile2).get_data()\n",
    "glasser2 = np.squeeze(glasser2)\n",
    "\n",
    "sortednets = np.sort(xticks.keys())\n",
    "orderednetworks = []\n",
    "for net in sortednets: orderednetworks.append(xticks[net])\n",
    "    \n",
    "networkpalette = ['royalblue','slateblue','paleturquoise','darkorchid','limegreen',\n",
    "                  'lightseagreen','yellow','orchid','r','peru','orange','olivedrab']\n",
    "networkpalette = np.asarray(networkpalette)\n",
    "\n",
    "OrderedNetworks = ['VIS1','VIS2','SMN','CON','DAN','LAN','FPN','AUD','DMN','PMM','VMM','ORA']"
   ]
  },
  {
   "cell_type": "markdown",
   "metadata": {},
   "source": [
    "# 0.0 Define functions for loading data"
   ]
  },
  {
   "cell_type": "code",
   "execution_count": 5,
   "metadata": {},
   "outputs": [],
   "source": [
    "def loadMotorResponses(subj):\n",
    "    datadir = basedir + 'data/results/GLM_MotorResponse/' \n",
    "    data = np.loadtxt(datadir + subj + '_motorResponse_taskBetas_Surface64k_GSR.csv',delimiter=',')\n",
    "    data = data[:,-4:]\n",
    "    return data\n",
    "\n",
    "# def loadRestFC(subj,fctype='pearson',gsr=True):\n",
    "#     datadir = '/projects3/NetworkDiversity/data/hcppreprocessed/' + subj + '/' \n",
    "#     if fctype=='pearson':\n",
    "#         if gsr:\n",
    "#             data = np.loadtxt(datadir + subj + '_rest1_nuisanceResids_Glasser_GSR.csv',delimiter=',')\n",
    "#         else:\n",
    "#             data = np.loadtxt(datadir + subj + '_rest1_nuisanceResids_Glasser.csv',delimiter=',')\n",
    "#         fc = np.corrcoef(data)\n",
    "#     elif fctype=='multregfc':\n",
    "#         if gsr:\n",
    "#             direc = '/projects3/NetworkDiversity/data/results/multRegRestFC_GlasserParcels_HCPData/' \n",
    "#             fc = np.loadtxt(direc + subj + '_multreg_restfc_gsr.txt', delimiter=',')\n",
    "#         else:\n",
    "#             direc = '/projects3/NetworkDiversity/data/results/multRegRestFC_GlasserParcels_HCPData/' \n",
    "#             fc = np.loadtxt(direc + subj + '_multreg_restfc.txt', delimiter=',')\n",
    "# #             fc = np.loadtxt(direc + subj + '_OutNetToFPN_multreg_restfc.txt', delimiter=',')\n",
    "#     return fc\n",
    "        "
   ]
  },
  {
   "cell_type": "markdown",
   "metadata": {},
   "source": [
    "## 0.1 Load data"
   ]
  },
  {
   "cell_type": "code",
   "execution_count": 8,
   "metadata": {},
   "outputs": [
    {
     "data": {
      "text/plain": [
       "(59412, 4, 96)"
      ]
     },
     "execution_count": 8,
     "metadata": {},
     "output_type": "execute_result"
    }
   ],
   "source": [
    "data_task.shape"
   ]
  },
  {
   "cell_type": "code",
   "execution_count": 6,
   "metadata": {},
   "outputs": [],
   "source": [
    "# gsr = True\n",
    "nResponses = 4\n",
    "data_task = np.zeros((len(glasser2),nResponses,len(subjNums)))\n",
    "\n",
    "scount = 0\n",
    "for subj in subjNums:\n",
    "    data_task[:,:,scount] = loadMotorResponses(subj)\n",
    "    scount += 1"
   ]
  },
  {
   "cell_type": "markdown",
   "metadata": {},
   "source": [
    "# 1.0 Run t-test for LMID v. LINDEX and RMID v. RINDEX"
   ]
  },
  {
   "cell_type": "code",
   "execution_count": 15,
   "metadata": {},
   "outputs": [
    {
     "name": "stdout",
     "output_type": "stream",
     "text": [
      "Number of significant vertices for LMID v. LINDEX contrast: 73\n",
      "Number of significant vertices for RMID v. RINDEX contrast: 206\n"
     ]
    }
   ],
   "source": [
    "statistics_lh = np.zeros((len(glasser2),3)) # vertices x statistics (t, p, q)\n",
    "statistics_rh = np.zeros((len(glasser2),3)) # vertices x statistics (t, p, q)\n",
    "\n",
    "t, p = stats.ttest_rel(data_task[:,0,:], data_task[:,1,:],axis=1) # lmid v. lindex\n",
    "statistics_lh[:,0] = t\n",
    "statistics_lh[:,1] = p\n",
    "statistics_lh[:,2] = np.multiply(mc.fdrcorrection0(p)[0],t)\n",
    "print 'Number of significant vertices for LMID v. LINDEX contrast:', np.sum(mc.fdrcorrection0(p)[0])\n",
    "\n",
    "t, p = stats.ttest_rel(data_task[:,3,:], data_task[:,2,:],axis=1) # rmid v. rindex\n",
    "statistics_rh[:,0] = t\n",
    "statistics_rh[:,1] = p\n",
    "statistics_rh[:,2] = np.multiply(mc.fdrcorrection0(p)[0],t)\n",
    "print 'Number of significant vertices for RMID v. RINDEX contrast:', np.sum(mc.fdrcorrection0(p)[0])"
   ]
  },
  {
   "cell_type": "markdown",
   "metadata": {},
   "source": [
    "## 1.3 Map accuracies back to cortical surface"
   ]
  },
  {
   "cell_type": "code",
   "execution_count": 16,
   "metadata": {
    "scrolled": false
   },
   "outputs": [
    {
     "data": {
      "text/plain": [
       "0"
      ]
     },
     "execution_count": 16,
     "metadata": {},
     "output_type": "execute_result"
    }
   ],
   "source": [
    "  \n",
    "#### \n",
    "# Write file to csv and run wb_command\n",
    "outdir = '/projects3/SRActFlow/data/results/Decoding_MotorResponse/'\n",
    "filename = 'wholeBrainUnivariateContrast_LMID_v_LINDEX'\n",
    "np.savetxt(outdir + filename + '.csv', statistics_lh, fmt='%s')\n",
    "wb_file = filename + '.dscalar.nii'\n",
    "wb_command = 'wb_command -cifti-convert -from-text ' + outdir + filename + '.csv ' + glasserfile2 + ' ' + outdir + wb_file + ' -reset-scalars'\n",
    "os.system(wb_command)\n",
    "\n",
    "outdir = '/projects3/SRActFlow/data/results/Decoding_MotorResponse/'\n",
    "filename = 'wholeBrainUnivariateContrast_RMID_v_RINDEX'\n",
    "np.savetxt(outdir + filename + '.csv', statistics_rh, fmt='%s')\n",
    "wb_file = filename + '.dscalar.nii'\n",
    "wb_command = 'wb_command -cifti-convert -from-text ' + outdir + filename + '.csv ' + glasserfile2 + ' ' + outdir + wb_file + ' -reset-scalars'\n",
    "os.system(wb_command)\n",
    "\n",
    "\n"
   ]
  }
 ],
 "metadata": {
  "kernelspec": {
   "display_name": "Python 2",
   "language": "python",
   "name": "python2"
  },
  "language_info": {
   "codemirror_mode": {
    "name": "ipython",
    "version": 2
   },
   "file_extension": ".py",
   "mimetype": "text/x-python",
   "name": "python",
   "nbconvert_exporter": "python",
   "pygments_lexer": "ipython2",
   "version": "2.7.13"
  }
 },
 "nbformat": 4,
 "nbformat_minor": 2
}
