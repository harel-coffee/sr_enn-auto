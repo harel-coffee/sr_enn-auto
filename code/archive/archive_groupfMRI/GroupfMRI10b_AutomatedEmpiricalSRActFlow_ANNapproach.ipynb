{
 "cells": [
  {
   "cell_type": "markdown",
   "metadata": {},
   "source": [
    "# GroupfMRI10b - Automated SRActFlow using ANN-inspired representations\n",
    "#### Using ActFlow\n",
    "\n",
    "#### Takuya Ito\n",
    "#### 05/15/2019"
   ]
  },
  {
   "cell_type": "code",
   "execution_count": 1,
   "metadata": {},
   "outputs": [],
   "source": [
    "import numpy as np\n",
    "import matplotlib.pyplot as plt\n",
    "%matplotlib inline\n",
    "import multiprocessing as mp\n",
    "import scipy.stats as stats\n",
    "import os\n",
    "os.environ['OMP_NUM_THREADS'] = str(1)\n",
    "import statsmodels.sandbox.stats.multicomp as mc\n",
    "import seaborn as sns\n",
    "import h5py\n",
    "import tools_group_rsa as tools_group\n",
    "import nibabel as nib\n",
    "import EmpiricalSRActFlow_ANN_RSA as esr\n",
    "sns.set_style(\"whitegrid\")\n",
    "plt.rcParams[\"font.family\"] = \"FreeSans\"\n"
   ]
  },
  {
   "cell_type": "code",
   "execution_count": 2,
   "metadata": {},
   "outputs": [],
   "source": [
    "# Excluding 084\n",
    "subjNums = ['013','014','016','017','018','021','023','024','026','027','028','030','031','032','033',\n",
    "            '034','035','037','038','039','040','041','042','043','045','046','047','048','049','050',\n",
    "            '053','055','056','057','058','062','063','066','067','068','069','070','072','074','075',\n",
    "            '076','077','081','085','086','087','088','090','092','093','094','095','097','098','099',\n",
    "            '101','102','103','104','105','106','108','109','110','111','112','114','115','117','119',\n",
    "            '120','121','122','123','124','125','126','127','128','129','130','131','132','134','135',\n",
    "            '136','137','138','139','140','141']\n",
    "\n",
    "\n",
    "\n",
    "basedir = '/projects3/SRActFlow/'\n",
    "\n",
    "# Using final partition\n",
    "networkdef = np.loadtxt('/projects3/NetworkDiversity/data/network_partition.txt')\n",
    "networkorder = np.asarray(sorted(range(len(networkdef)), key=lambda k: networkdef[k]))\n",
    "networkorder.shape = (len(networkorder),1)\n",
    "# network mappings for final partition set\n",
    "networkmappings = {'fpn':7, 'vis1':1, 'vis2':2, 'smn':3, 'aud':8, 'lan':6, 'dan':5, 'con':4, 'dmn':9, \n",
    "                   'pmulti':10, 'none1':11, 'none2':12}\n",
    "networks = networkmappings.keys()\n",
    "\n",
    "xticks = {}\n",
    "reorderednetworkaffil = networkdef[networkorder]\n",
    "for net in networks:\n",
    "    netNum = networkmappings[net]\n",
    "    netind = np.where(reorderednetworkaffil==netNum)[0]\n",
    "    tick = np.max(netind)\n",
    "    xticks[tick] = net\n",
    "\n",
    "## General parameters/variables\n",
    "nParcels = 360\n",
    "nSubjs = len(subjNums)\n",
    "\n",
    "glasserfile2 = '/projects/AnalysisTools/ParcelsGlasser2016/Q1-Q6_RelatedParcellation210.LR.CorticalAreas_dil_Colors.32k_fs_RL.dlabel.nii'\n",
    "glasser2 = nib.load(glasserfile2).get_data()\n",
    "glasser2 = np.squeeze(glasser2)\n",
    "\n",
    "sortednets = np.sort(xticks.keys())\n",
    "orderednetworks = []\n",
    "for net in sortednets: orderednetworks.append(xticks[net])\n",
    "    \n",
    "networkpalette = ['royalblue','slateblue','paleturquoise','darkorchid','limegreen',\n",
    "                  'lightseagreen','yellow','orchid','r','peru','orange','olivedrab']\n",
    "networkpalette = np.asarray(networkpalette)\n",
    "\n",
    "OrderedNetworks = ['VIS1','VIS2','SMN','CON','DAN','LAN','FPN','AUD','DMN','PMM','VMM','ORA']"
   ]
  },
  {
   "cell_type": "markdown",
   "metadata": {},
   "source": [
    "# 1.0 Define functions for motor response decodings"
   ]
  },
  {
   "cell_type": "markdown",
   "metadata": {},
   "source": [
    "#### Load in FC mappings"
   ]
  },
  {
   "cell_type": "code",
   "execution_count": 3,
   "metadata": {},
   "outputs": [],
   "source": [
    "tools_group = reload(tools_group)\n",
    "inputtypes = ['color','ori','pitch','constant']\n",
    "inputkeys = ['RED','VERTICAL','HIGH','CONSTANT']\n",
    "fc_input2hidden = {}\n",
    "i = 0\n",
    "for inputtype in inputtypes:\n",
    "    fc_input2hidden[inputkeys[i]] = tools_group.loadGroupActFlowFC(inputtype)\n",
    "    i += 1\n",
    "    \n",
    "# Load rules to hidden FC mappings\n",
    "fc_logic2hidden = tools_group.loadGroupActFlowFC('Logic')\n",
    "fc_sensory2hidden = tools_group.loadGroupActFlowFC('Sensory')\n",
    "fc_motor2hidden = tools_group.loadGroupActFlowFC('Motor')\n",
    "\n",
    "# Load hidden to motor resp mappings\n",
    "fc_hidden2motorresp = tools_group.loadGroupActFlowFC('hidden2out')"
   ]
  },
  {
   "cell_type": "code",
   "execution_count": null,
   "metadata": {},
   "outputs": [
    {
     "name": "stdout",
     "output_type": "stream",
     "text": [
      "Running 1 out of 96\n",
      "Running 2 out of 96\n",
      "Running 3 out of 96\n",
      "Running 4 out of 96\n",
      "Running 5 out of 96\n",
      "Running 6 out of 96\n",
      "Running 7 out of 96\n",
      "Running 8 out of 96\n",
      "Running 9 out of 96\n",
      "Running 10 out of 96\n",
      "Running 11 out of 96\n",
      "Running 12 out of 96\n",
      "Running 13 out of 96\n",
      "Running 14 out of 96\n",
      "Running 15 out of 96\n",
      "Running 16 out of 96\n",
      "Running 17 out of 96\n",
      "Running 18 out of 96\n",
      "Running 19 out of 96\n",
      "Running 20 out of 96\n",
      "Running 21 out of 96\n",
      "Running 22 out of 96\n",
      "Running 23 out of 96\n",
      "Running 24 out of 96\n",
      "Running 25 out of 96\n",
      "Running 26 out of 96\n",
      "Running 27 out of 96\n",
      "Running 28 out of 96\n",
      "Running 29 out of 96\n",
      "Running 30 out of 96\n",
      "Running 31 out of 96\n",
      "Running 32 out of 96\n",
      "Running 33 out of 96\n",
      "Running 34 out of 96\n",
      "Running 35 out of 96\n",
      "Running 36 out of 96\n"
     ]
    }
   ],
   "source": [
    "esr = reload(esr)\n",
    "def subjSRActFlow((subj, fc_input2hidden, fc_logic2hidden, fc_sensory2hidden, fc_motor2hidden, fc_hidden2motorresp)):\n",
    "    obj = esr.EmpiricalActFlow(subj)\n",
    "    # Input\n",
    "    obj.fc_input2hidden = fc_input2hidden\n",
    "    # Rules\n",
    "    obj.fc_logic2hidden = fc_logic2hidden\n",
    "    obj.fc_sensory2hidden = fc_sensory2hidden\n",
    "    obj.fc_motor2hidden = fc_motor2hidden\n",
    "    # hidden 2 motor\n",
    "    obj.fc_hidden2motorresp = fc_hidden2motorresp\n",
    "    \n",
    "\n",
    "    actflow = obj.generateActFlowPredictions(verbose=False, n_inputs=1)\n",
    "    del obj\n",
    "    return actflow\n",
    "\n",
    "inputs = []\n",
    "for subj in subjNums:\n",
    "    inputs.append((subj, fc_input2hidden, fc_logic2hidden, fc_sensory2hidden, fc_motor2hidden, fc_hidden2motorresp))\n",
    "    \n",
    "# pool = mp.Pool(processes=3)\n",
    "# results = pool.map_async(subjSRActFlow,inputs).get()\n",
    "# pool.close()\n",
    "# pool.join()\n",
    "\n",
    "i = 1\n",
    "results = []\n",
    "for input in inputs:\n",
    "    print('Running ' + str(i) + ' out of ' + str(len(inputs)))\n",
    "    results.append(subjSRActFlow(input))\n",
    "    i += 1\n",
    "\n",
    "actflow_predictions = np.asarray(results)"
   ]
  },
  {
   "cell_type": "markdown",
   "metadata": {},
   "source": [
    "## Load real motor response data"
   ]
  },
  {
   "cell_type": "code",
   "execution_count": 15,
   "metadata": {},
   "outputs": [
    {
     "name": "stderr",
     "output_type": "stream",
     "text": [
      "tools_group_rsa.py:95: ComplexWarning: Casting complex values to real discards the imaginary part\n",
      "  tmpdat[:,0] = data[:,2]\n",
      "tools_group_rsa.py:96: ComplexWarning: Casting complex values to real discards the imaginary part\n",
      "  tmpdat[:,1] = data[:,3]\n",
      "tools_group_rsa.py:98: ComplexWarning: Casting complex values to real discards the imaginary part\n",
      "  tmpdat[:,0] = data[:,0] #lmid\n",
      "tools_group_rsa.py:99: ComplexWarning: Casting complex values to real discards the imaginary part\n",
      "  tmpdat[:,1] = data[:,1] #lind\n"
     ]
    }
   ],
   "source": [
    "tools_group = reload(tools_group)\n",
    "nResponses = 2\n",
    "data_task_rh = np.zeros((len(glasser2),nResponses,len(subjNums)))\n",
    "data_task_lh = np.zeros((len(glasser2),nResponses,len(subjNums)))\n",
    "\n",
    "scount = 0\n",
    "for subj in subjNums:\n",
    "    data_task_rh[:,:,scount] = tools_group.loadMotorResponses(subj,hand='Right')\n",
    "    data_task_lh[:,:,scount] = tools_group.loadMotorResponses(subj,hand='Left')\n",
    "    scount += 1"
   ]
  },
  {
   "cell_type": "code",
   "execution_count": 168,
   "metadata": {},
   "outputs": [],
   "source": [
    "# Set indices for layer-by-layer vertices\n",
    "targetdir = '/projects3/SRActFlow/data/results/GroupfMRI/MotorResponseDecoding/'\n",
    "motor_resp_regions_LH = np.loadtxt(targetdir + 'MotorResponseRegions_LH.csv',delimiter=',')\n",
    "motor_resp_regions_RH = np.loadtxt(targetdir + 'MotorResponseRegions_RH.csv',delimiter=',')\n",
    "targetROIs = np.hstack((motor_resp_regions_LH,motor_resp_regions_RH))\n",
    "\n",
    "target_ind = []\n",
    "for roi in targetROIs:\n",
    "    roi_ind = np.where(glasser2==roi+1)[0]\n",
    "    target_ind.extend(roi_ind)\n",
    "target_ind = np.asarray(target_ind)"
   ]
  },
  {
   "cell_type": "markdown",
   "metadata": {},
   "source": [
    "## 1.1 Run across subject decoding on right-hand motor responses"
   ]
  },
  {
   "cell_type": "markdown",
   "metadata": {},
   "source": [
    "### Compute average activity for each response, for each subject"
   ]
  },
  {
   "cell_type": "code",
   "execution_count": 169,
   "metadata": {},
   "outputs": [],
   "source": [
    "scount = 0\n",
    "actflow_rh = np.zeros(data_task_rh.shape)\n",
    "actflow_lh = np.zeros(data_task_lh.shape)\n",
    "for scount in range(len(subjNums)):\n",
    "    # RMID\n",
    "    actflow_rh[target_ind,0,scount] = actflow_predictions[scount,:,2]\n",
    "    # RIND\n",
    "    actflow_rh[target_ind,1,scount] = actflow_predictions[scount,:,3]\n",
    "    # LMID\n",
    "    actflow_lh[target_ind,0,scount] = actflow_predictions[scount,:,0]\n",
    "    # LIND\n",
    "    actflow_lh[target_ind,1,scount] = actflow_predictions[scount,:,1]\n"
   ]
  },
  {
   "cell_type": "code",
   "execution_count": 183,
   "metadata": {},
   "outputs": [],
   "source": [
    "tools_group = reload(tools_group)\n",
    "nproc = 20\n",
    "nResponses = 2\n",
    "ncvs = 1\n",
    "\n",
    "# rois = np.asarray([8,9])-1\n",
    "rois = np.asarray([8])-1\n",
    "# rois = np.where(networkdef==networkmappings['smn'])[0]\n",
    "roi_ind = []\n",
    "for roi in rois:\n",
    "    roi_ind.extend(np.where(glasser2==roi+1)[0])\n",
    "\n",
    "# realdata = stats.zscore(data_task_rh[target_ind,:,:],axis=0).copy()\n",
    "# flowdata = stats.zscore(actflow_rh[target_ind,:,:],axis=0).copy()\n",
    "realdata = data_task_rh[roi_ind,:,:].copy()\n",
    "flowdata = actflow_rh[roi_ind,:,:].copy()\n",
    "\n",
    "\n",
    "distances_baseline_rh = np.zeros((1,len(subjNums)*nResponses))\n",
    "distances_baseline_rh[0,:],rmatch,rmismatch = tools_group.actflowDecodings(realdata,\n",
    "                                                          flowdata,effects=True,\n",
    "                                                          ncvs=ncvs, nproc=nproc)"
   ]
  },
  {
   "cell_type": "markdown",
   "metadata": {},
   "source": [
    "## 1.2 Compute statistics"
   ]
  },
  {
   "cell_type": "code",
   "execution_count": 184,
   "metadata": {},
   "outputs": [
    {
     "name": "stdout",
     "output_type": "stream",
     "text": [
      "Activity flow accuracy = 0.489583333333\n",
      "p = 0.585668285414\n",
      "Matched spatial correlation: -0.00619998756843\n",
      "Mismatched spatial correlation: 0.00619998756843\n"
     ]
    }
   ],
   "source": [
    "statistics_rh = np.zeros((distances_baseline_rh.shape[0],2))\n",
    "ntrials = len(subjNums)*2\n",
    "p = stats.binom_test(np.mean(distances_baseline_rh[0,:])*ntrials,n=ntrials,p=0.5)\n",
    "if np.mean(distances_baseline_rh[0,:])>0.5:\n",
    "    p = p/2.0\n",
    "else:\n",
    "    p = 1.0-p/2.0\n",
    "\n",
    "    \n",
    "statistics_rh[0,0] = np.mean(distances_baseline_rh[0,:])\n",
    "statistics_rh[0,1] = p\n",
    "\n",
    "print 'Activity flow accuracy =', statistics_rh[0,0]\n",
    "print 'p =', statistics_rh[0,1]\n",
    "print 'Matched spatial correlation:', np.mean(rmatch)\n",
    "print 'Mismatched spatial correlation:', np.mean(rmismatch)\n",
    "\n"
   ]
  },
  {
   "cell_type": "markdown",
   "metadata": {},
   "source": [
    "# 2.0 Run across subject decoding on left-hand motor responses"
   ]
  },
  {
   "cell_type": "code",
   "execution_count": 180,
   "metadata": {},
   "outputs": [],
   "source": [
    "tools_group = reload(tools_group)\n",
    "nproc = 20\n",
    "ncvs = 1\n",
    "\n",
    "# rois = np.asarray([188,189]) - 1\n",
    "# rois = np.asarray([188]) - 1\n",
    "# rois = np.where(networkdef==networkmappings['smn'])[0]\n",
    "roi_ind = []\n",
    "for roi in rois:\n",
    "    roi_ind.extend(np.where(glasser2==roi+1)[0])\n",
    "    \n",
    "# realdata = stats.zscore(data_task_lh[roi_ind,:,:],axis=0).copy()\n",
    "# flowdata = stats.zscore(actflow_lh[roi_ind,:,:],axis=0).copy()\n",
    "realdata = data_task_lh[roi_ind,:,:].copy()\n",
    "flowdata = actflow_lh[roi_ind,:,:].copy()\n",
    "\n",
    "\n",
    "distances_baseline_lh = np.zeros((1,len(subjNums)*nResponses))\n",
    "distances_baseline_lh[0,:],rmatch,rmismatch = tools_group.actflowDecodings(realdata,\n",
    "                                                          flowdata,effects=True,\n",
    "                                                          ncvs=ncvs, nproc=nproc)\n",
    "    "
   ]
  },
  {
   "cell_type": "markdown",
   "metadata": {},
   "source": [
    "## 1.2 Compute statistics"
   ]
  },
  {
   "cell_type": "code",
   "execution_count": 178,
   "metadata": {},
   "outputs": [
    {
     "name": "stdout",
     "output_type": "stream",
     "text": [
      "Activity flow accuracy = 0.4375\n",
      "p = 0.951658234312\n",
      "Matched spatial correlation: -0.00821327907523\n",
      "Mismatched spatial correlation: 0.00821327907523\n"
     ]
    }
   ],
   "source": [
    "statistics_lh = np.zeros((distances_baseline_lh.shape[0],2))\n",
    "ntrials = len(subjNums)*2\n",
    "p = stats.binom_test(np.mean(distances_baseline_lh[0,:])*ntrials,n=ntrials,p=0.5)\n",
    "if np.mean(distances_baseline_lh[0,:])>0.5:\n",
    "    p = p/2.0\n",
    "else:\n",
    "    p = 1.0-p/2.0\n",
    "\n",
    "    \n",
    "statistics_lh[0,0] = np.mean(distances_baseline_lh[0,:])\n",
    "statistics_lh[0,1] = p\n",
    "\n",
    "print 'Activity flow accuracy =', statistics_lh[0,0]\n",
    "print 'p =', statistics_lh[0,1]\n",
    "print 'Matched spatial correlation:', np.mean(rmatch)\n",
    "print 'Mismatched spatial correlation:', np.mean(rmismatch)\n",
    "\n"
   ]
  }
 ],
 "metadata": {
  "kernelspec": {
   "display_name": "Python 2",
   "language": "python",
   "name": "python2"
  },
  "language_info": {
   "codemirror_mode": {
    "name": "ipython",
    "version": 2
   },
   "file_extension": ".py",
   "mimetype": "text/x-python",
   "name": "python",
   "nbconvert_exporter": "python",
   "pygments_lexer": "ipython2",
   "version": "2.7.13"
  }
 },
 "nbformat": 4,
 "nbformat_minor": 2
}
