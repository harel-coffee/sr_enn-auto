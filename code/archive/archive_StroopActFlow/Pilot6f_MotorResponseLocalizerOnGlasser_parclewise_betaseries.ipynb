{
 "cells": [
  {
   "cell_type": "markdown",
   "metadata": {},
   "source": [
    "# StroopActFlow\n",
    "### Identify motor response layer for Stroop Model\n",
    "### Using GLM with for motor responses for neutral trials only\n",
    "\n",
    "### Limit only to SMN network\n",
    "\n",
    "\n",
    "#### Taku Ito\n",
    "#### 02/22/17\n"
   ]
  },
  {
   "cell_type": "code",
   "execution_count": 4,
   "metadata": {
    "collapsed": true
   },
   "outputs": [],
   "source": [
    "import numpy as np\n",
    "import matplotlib.pyplot as plt\n",
    "%matplotlib inline\n",
    "import scipy.stats as stats\n",
    "import statsmodels.sandbox.stats.multicomp as mc\n",
    "import os\n",
    "import nibabel as nib\n",
    "from sklearn.svm import SVC\n",
    "import utils"
   ]
  },
  {
   "cell_type": "markdown",
   "metadata": {},
   "source": [
    "## 0.0 Specify functions for rest of script"
   ]
  },
  {
   "cell_type": "code",
   "execution_count": 5,
   "metadata": {
    "collapsed": true
   },
   "outputs": [],
   "source": [
    "def convertCSVToCIFTI64k(inputfilename,outputfilename):\n",
    "    ciftitemplate = '/projects3/StroopActFlow/data/Q1-Q6_RelatedParcellation210.LR.CorticalAreas_dil_Colors.32k_fs_LR.dlabel.nii'\n",
    "    wb_command = 'wb_command -cifti-convert -from-text' \n",
    "    wb_command += ' ' + inputfilename \n",
    "    wb_command += ' ' + ciftitemplate\n",
    "    wb_command += ' ' + outputfilename\n",
    "    wb_command += \" -col-delim ','\"\n",
    "    wb_command += ' -reset-scalars'\n",
    "    os.system(wb_command)\n",
    "#     print wb_command"
   ]
  },
  {
   "cell_type": "code",
   "execution_count": 6,
   "metadata": {
    "collapsed": false
   },
   "outputs": [],
   "source": [
    "def loadStimBetas(subj):\n",
    "    datadir = '/projects3/StroopActFlow/data/results/GlasserResults/glm_ruleStimBetaSeries/'\n",
    "    betas = np.loadtxt(datadir + subj + '_RuleAndStimBetaSeries_taskBetas_Surface64k.csv',delimiter=',')\n",
    "    \n",
    "    nruleBetas = 60\n",
    "    \n",
    "    betas = betas[:,18+nruleBetas:] # 18 onwards are the two task betas\n",
    "    return betas"
   ]
  },
  {
   "cell_type": "markdown",
   "metadata": {},
   "source": [
    "## 0.1 Set up"
   ]
  },
  {
   "cell_type": "code",
   "execution_count": 7,
   "metadata": {
    "collapsed": false
   },
   "outputs": [],
   "source": [
    "subjNums = ['101', '102']\n",
    "\n",
    "basedir = '/projects3/StroopActFlow/data/'\n",
    "resultsdir = basedir + 'results/'\n",
    "restdir = resultsdir + 'glmRest_GlasserParcels/'\n",
    "\n",
    "glasser_nets = np.loadtxt('/projects/AnalysisTools/netpartitions/ColeLabNetPartition_v1.1/community_order.txt', delimiter=',')\n",
    "# Make into python numbering (starts from 0)\n",
    "glasser_nets -= 1.0\n",
    "networkorder = glasser_nets.astype(int)\n",
    "networkorder.shape = (len(networkorder),1)\n",
    "\n",
    "networkmappings = {'fpn':7, 'vis':1, 'smn':2, 'con':3, 'dmn':6, 'aud1':8, 'aud2':9, 'dan':11}\n",
    "networks = networkmappings.keys()\n",
    "\n",
    "networkdef = '/projects/AnalysisTools/netpartitions/ColeLabNetPartition_v1.1/parcel_network_assignments.txt'\n",
    "networkdef = np.loadtxt(networkdef, delimiter=',')\n",
    "xticks = {}\n",
    "reorderednetworkaffil = networkdef[networkorder]\n",
    "for net in networks:\n",
    "    netNum = networkmappings[net]\n",
    "    netind = np.where(reorderednetworkaffil==netNum)[0]\n",
    "    tick = np.max(netind)\n",
    "    xticks[tick] = net\n",
    "    \n",
    "# Load in Glasser parcels\n",
    "glasserfile = '/projects3/StroopActFlow/data/Q1-Q6_RelatedParcellation210.LR.CorticalAreas_dil_Colors.32k_fs_LR.dlabel.nii'\n",
    "glasser = nib.load(glasserfile).get_data()\n",
    "glasser = np.squeeze(glasser)"
   ]
  },
  {
   "cell_type": "markdown",
   "metadata": {},
   "source": [
    "## 2.1 Run GLM analysis between left and right motor response\n",
    "* Rule 1: Color rule\n",
    "* Rule 2: Word rule"
   ]
  },
  {
   "cell_type": "markdown",
   "metadata": {},
   "source": [
    "##### Load in data as dicts"
   ]
  },
  {
   "cell_type": "code",
   "execution_count": 7,
   "metadata": {
    "collapsed": true
   },
   "outputs": [],
   "source": [
    "behavdata= {}\n",
    "for subj in subjNums:\n",
    "    behavdata[subj] = utils.loadBehavData(subj)   \n"
   ]
  },
  {
   "cell_type": "markdown",
   "metadata": {},
   "source": [
    "## 2.2 Load in beta maps for each hand response, and compute the difference maps. Then Z-score the maps\n",
    "\n",
    "##### This is not a rigorous statistical test. Perform this for each subject, and then compute an 'average' contrast t-map"
   ]
  },
  {
   "cell_type": "code",
   "execution_count": 8,
   "metadata": {
    "collapsed": false
   },
   "outputs": [
    {
     "name": "stdout",
     "output_type": "stream",
     "text": [
      "Loading betas for subject 101\n",
      "Loading betas for subject 102\n"
     ]
    }
   ],
   "source": [
    "nrules = 2\n",
    "\n",
    "beta_dict = {}\n",
    "behavdata = {}\n",
    "allbetas = {}\n",
    "# Organize subject betas by stimulus\n",
    "for subj in subjNums:\n",
    "    print 'Loading betas for subject', subj\n",
    "    betas = loadStimBetas(subj)\n",
    "    behavdata[subj] = utils.loadBehavData(subj)   \n",
    "    # Get indices for task rule blocks\n",
    "    left_ind = np.where(behavdata[subj]['response']=='y')[0]\n",
    "    right_ind = np.where(behavdata[subj]['response']=='g')[0]\n",
    "    neutral_ind = np.where(behavdata[subj]['condition']=='neutral')[0]\n",
    "    left_ind = np.intersect1d(left_ind,neutral_ind)\n",
    "    right_ind = np.intersect1d(right_ind,neutral_ind)\n",
    "    \n",
    "    nminsamples = np.min([left_ind.shape[0],right_ind.shape[0]])\n",
    "    # Organize beta dict\n",
    "    beta_dict[subj] = np.zeros((betas.shape[0],nminsamples,nrules))\n",
    "    beta_dict[subj][:,:,0] = betas[:,left_ind[:nminsamples]]\n",
    "    beta_dict[subj][:,:,1] = betas[:,right_ind[:nminsamples]]\n",
    "    \n",
    "    # Create all betas for ECDF purposes\n",
    "    allbetas[subj] = np.vstack((beta_dict[subj][:,:,0],beta_dict[subj][:,:,1]))\n",
    "\n",
    "jointbetas = np.hstack((beta_dict['101'],beta_dict['102']))\n",
    "        "
   ]
  },
  {
   "cell_type": "markdown",
   "metadata": {},
   "source": [
    "## 2.3 Save t-statistic contrast maps for each subject and average to CSV and dscalar files"
   ]
  },
  {
   "cell_type": "code",
   "execution_count": 24,
   "metadata": {
    "collapsed": false
   },
   "outputs": [],
   "source": [
    "qmat = {}\n",
    "mvpa_mask = {}\n",
    "\n",
    "ttest = {}\n",
    "for subj in subjNums:\n",
    "    ttest[subj] = np.zeros((jointbetas.shape[0],2)) # raw t-vals and thresholded t-vals\n",
    "    ps = np.zeros((jointbetas.shape[0],))\n",
    "    # Only include SMN vertices\n",
    "    rois = np.where(networkdef==networkmappings['smn'])[0]\n",
    "    rois = range(360)\n",
    "    # roi_ind = []\n",
    "    # for roi in rois:\n",
    "    #     roi_ind.extend(np.where(glasser==roi)[0])\n",
    "    # roi_ind = np.reshape(np.asarray(roi_ind),-1)\n",
    "\n",
    "    # Run t-test\n",
    "    for roi in range(len(rois)):\n",
    "        t, ps[roi] = stats.ttest_rel(beta_dict[subj][roi,:,0],beta_dict[subj][roi,:,1])\n",
    "        ttest[subj][roi,0] = t\n",
    "\n",
    "    # Run FDR-correction\n",
    "    h0, q = mc.fdrcorrection0(ps[rois])\n",
    "    ttest[subj][rois,1] = np.multiply(ttest[subj][rois,0],ps[rois]<.05)\n"
   ]
  },
  {
   "cell_type": "code",
   "execution_count": 25,
   "metadata": {
    "collapsed": false
   },
   "outputs": [],
   "source": [
    "basedir = '/projects3/StroopActFlow/data/results/GlasserResults/glm_ruleStimBetaSeries/motorResponse_localizer/'\n",
    "for subj in subjNums:\n",
    "\n",
    "    filename_mvpa = basedir + subj + '_motorResponse_ttest_LeftVRight_v1'\n",
    "\n",
    "    # Remap to vertices\n",
    "    ttest_64k = np.zeros((glasser.shape[0],ttest[subj].shape[1]))\n",
    "    roicount = 0\n",
    "    for roi in np.unique(glasser):\n",
    "        v_ind = np.where(glasser==roi)[0]\n",
    "        for v in v_ind:\n",
    "            ttest_64k[v,0] = ttest[subj][roicount,0]\n",
    "            ttest_64k[v,1] = ttest[subj][roicount,1]\n",
    "    #         ttest_64k[v,2] = ttest[roicount,2]\n",
    "        roicount += 1\n",
    "\n",
    "    np.savetxt(filename_mvpa + '.csv', ttest_64k, delimiter=',')\n",
    "    convertCSVToCIFTI64k(filename_mvpa+'.csv', filename_mvpa+'.dscalar.nii')\n"
   ]
  },
  {
   "cell_type": "markdown",
   "metadata": {},
   "source": [
    "# End"
   ]
  },
  {
   "cell_type": "markdown",
   "metadata": {},
   "source": [
    "___"
   ]
  },
  {
   "cell_type": "markdown",
   "metadata": {},
   "source": [
    "##### Run 2 classifications"
   ]
  },
  {
   "cell_type": "markdown",
   "metadata": {},
   "source": [
    "Function for cross-validation"
   ]
  },
  {
   "cell_type": "code",
   "execution_count": 12,
   "metadata": {
    "collapsed": true
   },
   "outputs": [],
   "source": [
    "def runCV(svmmat, labels, cvs=10, leaveout=5, replacement=False):\n",
    "    \"\"\"\n",
    "    Runs a cross validation given an svm matrix, labels, number of cross validations, and \n",
    "    number of leave outs for test predictions\n",
    "    \n",
    "    Assumes cross validation without replacement (for each train v. test prediction)\n",
    "    \"\"\"\n",
    "    # Get number of classes\n",
    "    classes = np.unique(labels)\n",
    "    \n",
    "    # Run cross-validation using Linear SVMs\n",
    "    leaveout_total = leaveout*len(classes)\n",
    "\n",
    "    # Spatially demean (across features, to ensure that mean activity does not factor into classification)\n",
    "    spatialmean = np.mean(svmmat,axis=1)\n",
    "    spatialmean.shape = (len(spatialmean),1)\n",
    "    svmmat = svmmat - spatialmean\n",
    "    \n",
    "    # Start cross-validation\n",
    "    nsamples = svmmat.shape[0]\n",
    "    acc = []\n",
    "    for cv in range(cvs):\n",
    "        test_ind = []\n",
    "        for stim in classes:\n",
    "            stimlabs = np.where(labels==stim)[0]\n",
    "            test_ind.extend(np.random.choice(stimlabs,leaveout,replace=replacement))\n",
    "            \n",
    "        test_ind = np.asarray(test_ind)\n",
    "        train_ind = np.delete(np.arange(nsamples),test_ind)\n",
    "\n",
    "        trainset = svmmat[train_ind,:]\n",
    "        testset = svmmat[test_ind,:]\n",
    "        # normalize train and test set according to train set mean & std\n",
    "        mean = np.mean(trainset,axis=0)\n",
    "        std = np.std(trainset,axis=0)\n",
    "        trainset = np.divide((trainset - mean),std)\n",
    "        testset = np.divide((testset - mean),std)\n",
    "\n",
    "        # Construct classifier and fit\n",
    "        svc = SVC(kernel='linear')\n",
    "        svc.fit(trainset,labels[train_ind])\n",
    "        # Get acc\n",
    "        acc.append(svc.score(testset,labels[test_ind]))\n",
    "\n",
    "    # Get average accuracy\n",
    "#     accmat[subj][roi_ind,0] = np.mean(acc)\n",
    "    avg_acc = np.mean(acc)\n",
    "\n",
    "    \n",
    "    # Perform within-subject binomial test\n",
    "    ntotal = leaveout_total*cvs\n",
    "    nsuccess = avg_acc*ntotal\n",
    "    chance = 1.0/len(classes)\n",
    "    p = stats.binom_test(nsuccess,ntotal,p=chance)\n",
    "\n",
    "    # Make sure it's a one-sided binomial test\n",
    "    if avg_acc > chance:\n",
    "        p = p/2.0\n",
    "    else:\n",
    "        p = 1.0 - p/2.0\n",
    "    \n",
    "    return avg_acc, p\n"
   ]
  },
  {
   "cell_type": "markdown",
   "metadata": {},
   "source": [
    "#### Run actual code/cross-validations"
   ]
  },
  {
   "cell_type": "code",
   "execution_count": 13,
   "metadata": {
    "collapsed": false
   },
   "outputs": [
    {
     "name": "stdout",
     "output_type": "stream",
     "text": [
      "Running classifications for subject 101\n",
      "Running classifications for subject 102\n"
     ]
    }
   ],
   "source": [
    "accmat = {}\n",
    "pmat = {}\n",
    "qmat = {}\n",
    "accmat_thresh = {}\n",
    "nparcels = 360\n",
    "\n",
    "for subj in subjNums:\n",
    "    print 'Running classifications for subject', subj\n",
    "    accmat[subj] = np.zeros((glasser.shape[0],2)) # 2 for accuracies and thresholded accuracies    \n",
    "    pmat[subj] = np.zeros((nparcels,))\n",
    "    \n",
    "    for roi in range(nparcels):\n",
    "        if nparcels%100==0:\n",
    "            print 'Running classifications on ROI,', roi + 1\n",
    "        roi_ind = np.where(glasser==roi+1)[0]\n",
    "        \n",
    "        ####\n",
    "        ## Color V Word Rule classification        \n",
    "        # Set up SVM Matrix\n",
    "        mat_tmp = [] # For a 2-way classification\n",
    "        labels_tmp = [] \n",
    "        for rule in range(nrules):\n",
    "            mat_tmp.append(beta_dict[subj][roi_ind,:,rule].T)\n",
    "            labels_tmp.append(np.ones((nsamples_perrule,1))*rule)\n",
    "        svmmat_color = np.vstack(mat_tmp)\n",
    "        labels_color = np.squeeze(np.vstack(labels_tmp))\n",
    "        \n",
    "        # Run cross-validation using Linear SVMs\n",
    "        crossvalidations = 30 # 30-fold cross validation; 60 samples, 58 train; 2 test\n",
    "        leaveout = 2 # leave out 2 samples of each stim\n",
    "\n",
    "        acc, p = runCV(svmmat_color, labels_color, cvs=crossvalidations, leaveout=leaveout, replacement=False)\n",
    "        accmat[subj][roi_ind,0] = acc\n",
    "        pmat[subj][roi] = p\n",
    "#         h0, qs = mc.fdrcorrection0(pmat[subj][:,0])\n",
    "        \n",
    "   "
   ]
  },
  {
   "cell_type": "markdown",
   "metadata": {},
   "source": [
    "#### Run FDR correction for each test"
   ]
  },
  {
   "cell_type": "code",
   "execution_count": 14,
   "metadata": {
    "collapsed": false
   },
   "outputs": [
    {
     "data": {
      "text/plain": [
       "(59412, 2)"
      ]
     },
     "execution_count": 14,
     "metadata": {},
     "output_type": "execute_result"
    }
   ],
   "source": [
    "accmat['101'].shape"
   ]
  },
  {
   "cell_type": "code",
   "execution_count": 16,
   "metadata": {
    "collapsed": false
   },
   "outputs": [],
   "source": [
    "qmat = {}\n",
    "mvpa_mask = {}\n",
    "\n",
    "for subj in subjNums:\n",
    "    mvpa_mask[subj] = np.zeros(accmat[subj].shape)\n",
    "    \n",
    "    h0,qs = mc.fdrcorrection0(pmat[subj])\n",
    "\n",
    "    # Iterate through each ROI and make sure it is significant\n",
    "    for roi in range(nparcels):\n",
    "        roi_ind = np.where(glasser==roi+1)[0]\n",
    "        if qs[roi] < 0.05:\n",
    "            mvpa_mask[subj][roi_ind,0] = 1.0\n",
    "            accmat[subj][roi_ind,1] = accmat[subj][roi_ind,0]\n",
    "#     tmp = np.max(accmat[subj][:,0])\n",
    "#     roi_ind = accmat[subj][:,0] == tmp\n",
    "#     for roi in rois: \n",
    "#         roi_ind = np.where(glasser==roi+1)[0]\n",
    "#     mvpa_mask[subj][roi_ind,0] = 1.0\n",
    "#     mvpa_mask[subj][:,0] = 1.0\n",
    "#     accmat[subj][roi_ind,1] = accmat[subj][roi_ind,0]\n",
    "            \n"
   ]
  },
  {
   "cell_type": "markdown",
   "metadata": {},
   "source": [
    "### 2.2 Save MVPA maps to CSV and dscalar files"
   ]
  },
  {
   "cell_type": "code",
   "execution_count": 17,
   "metadata": {
    "collapsed": false
   },
   "outputs": [],
   "source": [
    "basedir = '/projects3/StroopActFlow/data/results/glm_ruleStimBetaSeries/taskRule_localizer/'\n",
    "for subj in subjNums:\n",
    "    \n",
    "    filename_mvpa = basedir + subj + '_taskEncoding_MVPA_WordVColor_v2'\n",
    "        \n",
    "    np.savetxt(filename_mvpa + '.csv', accmat[subj], delimiter=',')\n",
    "    convertCSVToCIFTI64k(filename_mvpa+'.csv', filename_mvpa+'.dscalar.nii')\n"
   ]
  }
 ],
 "metadata": {
  "kernelspec": {
   "display_name": "Python 2",
   "language": "python",
   "name": "python2"
  },
  "language_info": {
   "codemirror_mode": {
    "name": "ipython",
    "version": 2
   },
   "file_extension": ".py",
   "mimetype": "text/x-python",
   "name": "python",
   "nbconvert_exporter": "python",
   "pygments_lexer": "ipython2",
   "version": "2.7.11"
  }
 },
 "nbformat": 4,
 "nbformat_minor": 0
}
