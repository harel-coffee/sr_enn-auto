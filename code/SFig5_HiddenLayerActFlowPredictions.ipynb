{
 "cells": [
  {
   "cell_type": "markdown",
   "metadata": {},
   "source": [
    "# Compare the actflow-predicted hidden layers to the ANN and actual hidden layer activations\n",
    "\n",
    "#### Takuya Ito\n",
    "#### 10/22/2021"
   ]
  },
  {
   "cell_type": "code",
   "execution_count": 1,
   "metadata": {},
   "outputs": [],
   "source": [
    "import numpy as np\n",
    "import matplotlib.pyplot as plt\n",
    "%matplotlib inline\n",
    "import multiprocessing as mp\n",
    "import scipy.stats as stats\n",
    "import os\n",
    "os.environ['OMP_NUM_THREADS'] = str(1)\n",
    "import statsmodels.sandbox.stats.multicomp as mc\n",
    "import seaborn as sns\n",
    "import h5py\n",
    "import tools\n",
    "import nibabel as nib\n",
    "from importlib import reload\n",
    "import sklearn\n",
    "import pandas as pd\n",
    "plt.rcParams[\"font.family\"] = \"Arial\"\n"
   ]
  },
  {
   "cell_type": "code",
   "execution_count": 2,
   "metadata": {},
   "outputs": [],
   "source": [
    "# Excluding 084\n",
    "subjNums = ['013','014','016','017','018','021','023','024','026','027','028','030','031','032','033',\n",
    "            '034','035','037','038','039','040','041','042','043','045','046','047','048','049','050',\n",
    "            '053','055','056','057','058','062','063','066','067','068','069','070','072','074','075',\n",
    "            '076','077','081','085','086','087','088','090','092','093','094','095','097','098','099',\n",
    "            '101','102','103','104','105','106','108','109','110','111','112','114','115','117','119',\n",
    "            '120','121','122','123','124','125','126','127','128','129','130','131','132','134','135',\n",
    "            '136','137','138','139','140','141']\n",
    "\n",
    "\n",
    "figuredir = '../figures/manuscriptFigures/SFig_HiddenRSMsActFlowAndReal/'\n",
    "if not os.path.exists(figuredir): os.makedirs(figuredir)\n",
    "# projectdir = '/home/ti61/f_mc1689_1/SRActFlow/'\n",
    "\n",
    "# # Using final partition\n",
    "# networkdef = np.loadtxt(projectdir + 'data/network_partition.txt')\n",
    "# networkorder = np.asarray(sorted(range(len(networkdef)), key=lambda k: networkdef[k]))\n",
    "# networkorder.shape = (len(networkorder),1)\n",
    "# # network mappings for final partition set\n",
    "# networkmappings = {'fpn':7, 'vis1':1, 'vis2':2, 'smn':3, 'aud':8, 'lan':6, 'dan':5, 'con':4, 'dmn':9, \n",
    "#                    'pmulti':10, 'vmm':11, 'ora':12}\n",
    "# networks = networkmappings.keys()\n",
    "\n",
    "# xticks = {}\n",
    "# reorderednetworkaffil = networkdef[networkorder]\n",
    "# for net in networks:\n",
    "#     netNum = networkmappings[net]\n",
    "#     netind = np.where(reorderednetworkaffil==netNum)[0]\n",
    "#     tick = np.max(netind)\n",
    "#     xticks[tick] = net\n",
    "\n",
    "# ## General parameters/variables\n",
    "# nParcels = 360\n",
    "# nSubjs = len(subjNums)\n",
    "\n",
    "# glasserfile2 = projectdir + 'data/Q1-Q6_RelatedParcellation210.LR.CorticalAreas_dil_Colors.32k_fs_RL.dlabel.nii'\n",
    "# glasser2 = nib.load(glasserfile2).get_data()\n",
    "# glasser2 = np.squeeze(glasser2)\n",
    "\n",
    "# sortednets = np.sort(list(xticks.keys()))\n",
    "# orderednetworks = []\n",
    "# for net in sortednets: orderednetworks.append(xticks[net])\n",
    "    \n",
    "# networkpalette = ['royalblue','slateblue','paleturquoise','darkorchid','limegreen',\n",
    "#                   'lightseagreen','yellow','orchid','r','peru','orange','olivedrab']\n",
    "# networkpalette = np.asarray(networkpalette)\n",
    "\n",
    "OrderedNetworks = ['VIS1','VIS2','SMN','CON','DAN','LAN','FPN','AUD','DMN','PMM','VMM','ORA']"
   ]
  },
  {
   "cell_type": "markdown",
   "metadata": {},
   "source": [
    "# Load actflow-predicted hidden activations"
   ]
  },
  {
   "cell_type": "code",
   "execution_count": 3,
   "metadata": {},
   "outputs": [],
   "source": [
    "h5f = h5py.File('../../data/results/MAIN/srModelPredictionAccuracies/hiddenRSMs/HiddenActivations.h5','a')\n",
    "hidden_thresh = h5f['actflow_thresh'][:].copy()\n",
    "hidden_unthresh = h5f['actflow_unthresh'][:].copy()\n",
    "true_activity = h5f['true_activity'][:].copy()\n",
    "h5f.close()\n",
    "\n",
    "rsm_labels = np.loadtxt('../../data/results/MAIN/srModelPredictionAccuracies/hiddenRSMs/HiddenActivations.txt',dtype=str)\n",
    "\n",
    "ann_rsm = np.loadtxt('../../data/results/MODEL/ANN1280_HiddenLayerRSM_NoDynamics.csv')\n"
   ]
  },
  {
   "cell_type": "markdown",
   "metadata": {},
   "source": [
    "# Construct RSMs for thresholded and unthresholded"
   ]
  },
  {
   "cell_type": "code",
   "execution_count": 12,
   "metadata": {},
   "outputs": [],
   "source": [
    "# rsm_thresh = np.corrcoef(np.mean(hidden_thresh,axis=0))\n",
    "# rsm_unthresh = np.corrcoef(np.mean(hidden_unthresh,axis=0))\n",
    "# rsm_true = np.corrcoef(np.mean(true_activity,axis=0))\n",
    "# np.fill_diagonal(rsm_thresh,0)\n",
    "# np.fill_diagonal(rsm_unthresh,0)\n",
    "# np.fill_diagonal(rsm_true,0)\n",
    "\n",
    "# plt.figure(figsize=(5,5))\n",
    "# ax = sns.heatmap(rsm_thresh,square=True,center=0,cmap='bwr',cbar_kws={'fraction':0.046})\n",
    "# ax.invert_yaxis()\n",
    "# plt.ylabel('Task conditions',fontsize=9)\n",
    "# plt.xlabel('Task conditions', fontsize=9)\n",
    "# plt.title('Actflow-predicted hidden RSM\\nthresholded')\n",
    "# plt.xticks(np.arange(len(rsm_labels)), rsm_labels,rotation=-90)\n",
    "\n",
    "# plt.figure(figsize=(5,5))\n",
    "# ax = sns.heatmap(rsm_unthresh,square=True,center=0,cmap='bwr',cbar_kws={'fraction':0.046})\n",
    "# ax.invert_yaxis()\n",
    "# plt.ylabel('Task conditions',fontsize=9)\n",
    "# plt.xlabel('Task conditions', fontsize=9)\n",
    "# plt.title('Actflow-predicted hidden RSM\\nunthresholded')\n",
    "\n",
    "# plt.figure(figsize=(5,5))\n",
    "# ax = sns.heatmap(rsm_true,square=True,center=0,cmap='bwr',cbar_kws={'fraction':0.046})\n",
    "# ax.invert_yaxis()\n",
    "# plt.ylabel('Task conditions',fontsize=9)\n",
    "# plt.xlabel('Task conditions', fontsize=9)\n",
    "# plt.title('True fMRI RSM')\n",
    "\n",
    "# plt.figure(figsize=(5,5))\n",
    "# ax = sns.heatmap(ann_rsm,square=True,center=0,cmap='bwr',cbar_kws={'fraction':0.046})\n",
    "# ax.invert_yaxis()\n",
    "# plt.ylabel('Task conditions',fontsize=9)\n",
    "# plt.xlabel('Task conditions', fontsize=9)\n",
    "# plt.title('ANN hidden layer')"
   ]
  },
  {
   "cell_type": "markdown",
   "metadata": {},
   "source": [
    "# Subject-specific RSMs, then averaged"
   ]
  },
  {
   "cell_type": "code",
   "execution_count": 8,
   "metadata": {},
   "outputs": [
    {
     "name": "stdout",
     "output_type": "stream",
     "text": [
      "fMRI data cosine value: 0.9185882576243364\n",
      "ReLU data cosine value: 0.604172341899044\n",
      "No ReLU data cosine value: 0.44363672076631294\n"
     ]
    },
    {
     "data": {
      "image/png": "[encoded data removed]",
      "text/plain": [
       "<Figure size 216x144 with 1 Axes>"
      ]
     },
     "metadata": {
      "needs_background": "light"
     },
     "output_type": "display_data"
    }
   ],
   "source": [
    "triu_ind = np.triu_indices(len(rsm_labels),k=1)\n",
    "df_rsms = {}\n",
    "df_rsms['Correlation'] = []\n",
    "df_rsms['Cosine'] = []\n",
    "df_rsms['Type'] = []\n",
    "\n",
    "df_rsms['Correlation'].append(stats.pearsonr(rsm_true[triu_ind],ann_rsm[triu_ind])[0])\n",
    "df_rsms['Cosine'].append(np.dot(rsm_true[triu_ind],ann_rsm[triu_ind])/(np.linalg.norm(rsm_true[triu_ind])*np.linalg.norm(ann_rsm[triu_ind])))\n",
    "df_rsms['Type'].append('fMRI data')\n",
    "\n",
    "triu_ind = np.triu_indices(len(rsm_labels),k=1)\n",
    "df_rsms['Correlation'].append(stats.pearsonr(rsm_thresh[triu_ind],ann_rsm[triu_ind])[0])\n",
    "df_rsms['Cosine'].append(np.dot(rsm_thresh[triu_ind],ann_rsm[triu_ind])/(np.linalg.norm(rsm_thresh[triu_ind])*np.linalg.norm(ann_rsm[triu_ind])))\n",
    "df_rsms['Type'].append('ReLU')\n",
    "\n",
    "df_rsms['Correlation'].append(stats.pearsonr(rsm_unthresh[triu_ind],ann_rsm[triu_ind])[0])\n",
    "df_rsms['Cosine'].append(np.dot(rsm_unthresh[triu_ind],ann_rsm[triu_ind])/(np.linalg.norm(rsm_unthresh[triu_ind])*np.linalg.norm(ann_rsm[triu_ind])))\n",
    "df_rsms['Type'].append('No ReLU')\n",
    "\n",
    "df_rsms = pd.DataFrame(df_rsms)\n",
    "# plt.figure(figsize=(3,2))\n",
    "fig, ax = plt.subplots(figsize=(3, 2))\n",
    "sns.barplot(x=\"Type\",y='Cosine',data=df_rsms,palette='Set2',ax=ax)\n",
    "plt.xticks(rotation=-20,fontsize=10)\n",
    "plt.yticks(fontsize=9)\n",
    "plt.ylabel('Cosine',fontsize=10)\n",
    "plt.xlabel(None)\n",
    "plt.title(\"fMRI-ANN hidden layer\\nsimilarity (group averaged RSMs)\",fontsize=12)\n",
    "sns.despine()\n",
    "plt.ylim([0.4,1.0])\n",
    "plt.tight_layout()\n",
    "# plt.savefig(figuredir + 'SimilarityToANNRSM_Group.pdf',transparent='True')\n",
    "\n",
    "print('fMRI data cosine value:', df_rsms.loc[df_rsms.Type=='fMRI data'].Cosine.mean())\n",
    "print('ReLU data cosine value:', df_rsms.loc[df_rsms.Type=='ReLU'].Cosine.mean())\n",
    "print('No ReLU data cosine value:', df_rsms.loc[df_rsms.Type=='No ReLU'].Cosine.mean())\n",
    "\n",
    "write = False\n",
    "if write:\n",
    "    with pd.ExcelWriter(\"../../data/NatComms_SourceData.xlsx\",mode='a', engine=\"openpyxl\") as writer:\n",
    "        df_rsms.to_excel(writer,sheet_name='SFig5f')"
   ]
  },
  {
   "cell_type": "code",
   "execution_count": 10,
   "metadata": {},
   "outputs": [
    {
     "name": "stdout",
     "output_type": "stream",
     "text": [
      "Run group statistics\n",
      "fMRI data versus Thresholded: t = 46.1096257290979 | p = 7.96408977702316e-67\n",
      "ReLU vs. Non-ReLU: t = 14.880690287096378 | p = 1.4652595250989057e-26\n"
     ]
    },
    {
     "data": {
      "image/png": "[encoded data removed]",
      "text/plain": [
       "<Figure size 216x144 with 1 Axes>"
      ]
     },
     "metadata": {
      "needs_background": "light"
     },
     "output_type": "display_data"
    }
   ],
   "source": [
    "triu_ind = np.triu_indices(len(rsm_labels),k=1)\n",
    "df_rsm_group = {}\n",
    "df_rsm_group['Correlation'] = []\n",
    "df_rsm_group['Cosine'] = []\n",
    "df_rsm_group['Type'] = []\n",
    "df_rsm_group['Subject'] = []\n",
    "\n",
    "for s in range(true_activity.shape[0]):\n",
    "    tmp_thresh = np.corrcoef(hidden_thresh[s])\n",
    "    tmp_unthresh = np.corrcoef(hidden_unthresh[s])\n",
    "    tmp_true = np.corrcoef(true_activity[s])\n",
    "\n",
    "    df_rsm_group['Correlation'].append(stats.pearsonr(tmp_true[triu_ind],ann_rsm[triu_ind])[0])\n",
    "    df_rsm_group['Cosine'].append(np.dot(tmp_true[triu_ind],ann_rsm[triu_ind])/(np.linalg.norm(tmp_true[triu_ind])*np.linalg.norm(ann_rsm[triu_ind])))\n",
    "    df_rsm_group['Type'].append('fMRI data')\n",
    "    df_rsm_group['Subject'].append(s)\n",
    "\n",
    "    triu_ind = np.triu_indices(len(rsm_labels),k=1)\n",
    "    df_rsm_group['Correlation'].append(stats.pearsonr(tmp_thresh[triu_ind],ann_rsm[triu_ind])[0])\n",
    "    df_rsm_group['Cosine'].append(np.dot(tmp_thresh[triu_ind],ann_rsm[triu_ind])/(np.linalg.norm(tmp_thresh[triu_ind])*np.linalg.norm(ann_rsm[triu_ind])))\n",
    "    df_rsm_group['Type'].append('ReLU')\n",
    "    df_rsm_group['Subject'].append(s)\n",
    "\n",
    "    df_rsm_group['Correlation'].append(stats.pearsonr(tmp_unthresh[triu_ind],ann_rsm[triu_ind])[0])\n",
    "    df_rsm_group['Cosine'].append(np.dot(tmp_unthresh[triu_ind],ann_rsm[triu_ind])/(np.linalg.norm(tmp_unthresh[triu_ind])*np.linalg.norm(ann_rsm[triu_ind])))\n",
    "    df_rsm_group['Type'].append('No ReLU')\n",
    "    df_rsm_group['Subject'].append(s)\n",
    "\n",
    "df_rsm_group = pd.DataFrame(df_rsm_group)\n",
    "plt.figure(figsize=(3,2))\n",
    "ax = sns.stripplot(x=\"Type\",y='Cosine',data=df_rsm_group,palette='Set2',zorder=0)\n",
    "sns.boxplot(x=\"Type\",y='Cosine',data=df_rsm_group,palette='Set2',sym='',whis=[2.5,97.5],zorder=2)\n",
    "plt.xticks(rotation=-20,fontsize=10)\n",
    "plt.yticks(fontsize=9)\n",
    "plt.ylabel('Cosine',fontsize=10)\n",
    "plt.xlabel(None)\n",
    "plt.title(\"fMRI-ANN hidden layer\\nsimilarity (by subject)\",fontsize=12)\n",
    "sns.despine()\n",
    "plt.ylim([0,1.2])\n",
    "plt.tight_layout()\n",
    "# plt.savefig(figuredir + 'SimilarityToANNRSM_Subjectwise.pdf',transparent='True')\n",
    "\n",
    "print('Run group statistics')\n",
    "t, p = stats.ttest_rel(df_rsm_group.loc[df_rsm_group.Type=='fMRI data'].Cosine.values,df_rsm_group.loc[df_rsm_group.Type=='ReLU'].Cosine.values)\n",
    "print('fMRI data versus Thresholded: t =', t, '| p =', p)\n",
    "t, p = stats.ttest_rel(df_rsm_group.loc[df_rsm_group.Type=='ReLU'].Cosine.values,df_rsm_group.loc[df_rsm_group.Type=='No ReLU'].Cosine.values)\n",
    "print('ReLU vs. Non-ReLU: t =', t, '| p =', p)\n",
    "\n",
    "write = False\n",
    "if write:\n",
    "    with pd.ExcelWriter(\"../../data/NatComms_SourceData.xlsx\",mode='a', engine=\"openpyxl\") as writer:\n",
    "        df_rsm_group.to_excel(writer,sheet_name='SFig5g')"
   ]
  },
  {
   "cell_type": "markdown",
   "metadata": {},
   "source": [
    "# Visualize RSMs, first computed per subject, then averaged"
   ]
  },
  {
   "cell_type": "code",
   "execution_count": 11,
   "metadata": {},
   "outputs": [],
   "source": [
    "# rsm_thresh_all = []\n",
    "# rsm_unthresh_all = []\n",
    "# rsm_true_all = []\n",
    "# for s in range(true_activity.shape[0]):\n",
    "    \n",
    "#     rsm_thresh_all.append(np.corrcoef(hidden_thresh[s]))\n",
    "#     rsm_unthresh_all.append(np.corrcoef(hidden_unthresh[s]))\n",
    "#     rsm_true_all.append(np.corrcoef(true_activity[s]))\n",
    "\n",
    "# group_rsm_thresh = np.mean(rsm_thresh_all,axis=0)\n",
    "# group_rsm_unthresh = np.mean(rsm_thresh_all,axis=0)\n",
    "# group_rsm_true = np.mean(rsm_true_all,axis=0)\n",
    "                        \n",
    "# np.fill_diagonal(group_rsm_thresh,0)\n",
    "# np.fill_diagonal(group_rsm_unthresh,0)\n",
    "# np.fill_diagonal(group_rsm_true,0)\n",
    "\n",
    "# plt.figure(figsize=(5,5))\n",
    "# ax = sns.heatmap(group_rsm_thresh,square=True,center=0,cmap='bwr',cbar_kws={'fraction':0.046})\n",
    "# ax.invert_yaxis()\n",
    "# plt.ylabel('Task conditions',fontsize=9)\n",
    "# plt.xlabel('Task conditions', fontsize=9)\n",
    "# plt.title('Actflow-predicted hidden RSM\\nthresholded')\n",
    "# plt.xticks(np.arange(len(rsm_labels)), rsm_labels,rotation=-90)\n",
    "\n",
    "# plt.figure(figsize=(5,5))\n",
    "# ax = sns.heatmap(group_rsm_unthresh,square=True,center=0,cmap='bwr',cbar_kws={'fraction':0.046})\n",
    "# ax.invert_yaxis()\n",
    "# plt.ylabel('Task conditions',fontsize=9)\n",
    "# plt.xlabel('Task conditions', fontsize=9)\n",
    "# plt.title('Actflow-predicted hidden RSM\\nunthresholded')\n",
    "\n",
    "# plt.figure(figsize=(5,5))\n",
    "# ax = sns.heatmap(group_rsm_true,square=True,center=0,cmap='bwr',cbar_kws={'fraction':0.046})\n",
    "# ax.invert_yaxis()\n",
    "# plt.ylabel('Task conditions',fontsize=9)\n",
    "# plt.xlabel('Task conditions', fontsize=9)\n",
    "# plt.title('True fMRI RSM')\n",
    "\n",
    "# plt.figure(figsize=(5,5))\n",
    "# ax = sns.heatmap(ann_rsm,square=True,center=0,cmap='bwr',cbar_kws={'fraction':0.046})\n",
    "# ax.invert_yaxis()\n",
    "# plt.ylabel('Task conditions',fontsize=9)\n",
    "# plt.xlabel('Task conditions', fontsize=9)\n",
    "# plt.title('ANN hidden layer')"
   ]
  },
  {
   "cell_type": "code",
   "execution_count": null,
   "metadata": {},
   "outputs": [],
   "source": []
  }
 ],
 "metadata": {
  "kernelspec": {
   "display_name": "Python 3",
   "language": "python",
   "name": "python3"
  },
  "language_info": {
   "codemirror_mode": {
    "name": "ipython",
    "version": 3
   },
   "file_extension": ".py",
   "mimetype": "text/x-python",
   "name": "python",
   "nbconvert_exporter": "python",
   "pygments_lexer": "ipython3",
   "version": "3.7.3"
  }
 },
 "nbformat": 4,
 "nbformat_minor": 4
}
