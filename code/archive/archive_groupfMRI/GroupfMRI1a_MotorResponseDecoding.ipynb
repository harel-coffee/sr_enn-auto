{
 "cells": [
  {
   "cell_type": "markdown",
   "metadata": {},
   "source": [
    "# Cross-subject decoding Motor responses \n",
    "### (LINDEX v. LMID and RINDEX v. RMID)\n",
    "\n",
    "#### Takuya Ito\n",
    "#### 2/28/2018"
   ]
  },
  {
   "cell_type": "code",
   "execution_count": 1,
   "metadata": {},
   "outputs": [],
   "source": [
    "import numpy as np\n",
    "import matplotlib.pyplot as plt\n",
    "%matplotlib inline\n",
    "import multiprocessing as mp\n",
    "import scipy.stats as stats\n",
    "import os\n",
    "os.environ['OMP_NUM_THREADS'] = str(1)\n",
    "import statsmodels.sandbox.stats.multicomp as mc\n",
    "import seaborn as sns\n",
    "import h5py\n",
    "import tools_group_rsa_python3 as tools_group\n",
    "from importlib import reload\n",
    "import nibabel as nib\n",
    "\n",
    "sns.set_style(\"whitegrid\")\n",
    "plt.rcParams[\"font.family\"] = \"FreeSans\"\n"
   ]
  },
  {
   "cell_type": "markdown",
   "metadata": {},
   "source": [
    "## 0.1 Load data"
   ]
  },
  {
   "cell_type": "code",
   "execution_count": 2,
   "metadata": {},
   "outputs": [],
   "source": [
    "# Excluding 084\n",
    "subjNums = ['013','014','016','017','018','021','023','024','026','027','028','030','031','032','033',\n",
    "            '034','035','037','038','039','040','041','042','043','045','046','047','048','049','050',\n",
    "            '053','055','056','057','058','062','063','066','067','068','069','070','072','074','075',\n",
    "            '076','077','081','085','086','087','088','090','092','093','094','095','097','098','099',\n",
    "            '101','102','103','104','105','106','108','109','110','111','112','114','115','117','119',\n",
    "            '120','121','122','123','124','125','126','127','128','129','130','131','132','134','135',\n",
    "            '136','137','138','139','140','141']\n",
    "\n",
    "\n",
    "\n",
    "basedir = '/projects3/SRActFlow/'\n",
    "\n",
    "# Using final partition\n",
    "networkdef = np.loadtxt('/projects3/NetworkDiversity/data/network_partition.txt')\n",
    "networkorder = np.asarray(sorted(range(len(networkdef)), key=lambda k: networkdef[k]))\n",
    "networkorder.shape = (len(networkorder),1)\n",
    "# network mappings for final partition set\n",
    "networkmappings = {'fpn':7, 'vis1':1, 'vis2':2, 'smn':3, 'aud':8, 'lan':6, 'dan':5, 'con':4, 'dmn':9, \n",
    "                   'pmulti':10, 'none1':11, 'none2':12}\n",
    "networks = networkmappings.keys()\n",
    "\n",
    "xticks = {}\n",
    "reorderednetworkaffil = networkdef[networkorder]\n",
    "for net in networks:\n",
    "    netNum = networkmappings[net]\n",
    "    netind = np.where(reorderednetworkaffil==netNum)[0]\n",
    "    tick = np.max(netind)\n",
    "    xticks[tick] = net\n",
    "\n",
    "## General parameters/variables\n",
    "nParcels = 360\n",
    "nSubjs = len(subjNums)\n",
    "\n",
    "glasserfile2 = '/projects/AnalysisTools/ParcelsGlasser2016/Q1-Q6_RelatedParcellation210.LR.CorticalAreas_dil_Colors.32k_fs_RL.dlabel.nii'\n",
    "glasser2 = nib.load(glasserfile2).get_data()\n",
    "glasser2 = np.squeeze(glasser2)\n",
    "\n",
    "sortednets = np.sort(list(xticks.keys()))\n",
    "orderednetworks = []\n",
    "for net in sortednets: orderednetworks.append(xticks[net])\n",
    "    \n",
    "networkpalette = ['royalblue','slateblue','paleturquoise','darkorchid','limegreen',\n",
    "                  'lightseagreen','yellow','orchid','r','peru','orange','olivedrab']\n",
    "networkpalette = np.asarray(networkpalette)\n",
    "\n",
    "OrderedNetworks = ['VIS1','VIS2','SMN','CON','DAN','LAN','FPN','AUD','DMN','PMM','VMM','ORA']"
   ]
  },
  {
   "cell_type": "code",
   "execution_count": 3,
   "metadata": {},
   "outputs": [],
   "source": [
    "# gsr = True\n",
    "nResponses = 2\n",
    "data_task_rh = np.zeros((len(glasser2),nResponses,len(subjNums)))\n",
    "data_task_lh = np.zeros((len(glasser2),nResponses,len(subjNums)))\n",
    "\n",
    "scount = 0\n",
    "for subj in subjNums:\n",
    "    data_task_rh[:,:,scount] = tools_group.loadMotorResponses(subj,hand='Right')\n",
    "    data_task_lh[:,:,scount] = tools_group.loadMotorResponses(subj,hand='Left')\n",
    "    scount += 1"
   ]
  },
  {
   "cell_type": "markdown",
   "metadata": {},
   "source": [
    "## 1.1 Run across subject decoding on hand-specific motor responses"
   ]
  },
  {
   "cell_type": "code",
   "execution_count": 4,
   "metadata": {},
   "outputs": [
    {
     "name": "stdout",
     "output_type": "stream",
     "text": [
      "Running decoding for Right hand responses\n"
     ]
    },
    {
     "name": "stderr",
     "output_type": "stream",
     "text": [
      "/mnt/linuxlocal2/projects3/SRActFlow/docs/scripts/tools_group_rsa_python3.py:295: RuntimeWarning: Mean of empty slice\n",
      "  trainset_downsampled[:,1] = np.nanmean(trainset[:,feat2_mask],axis=1)\n",
      "/mnt/linuxlocal2/projects3/SRActFlow/docs/scripts/tools_group_rsa_python3.py:300: RuntimeWarning: Mean of empty slice\n",
      "  testset_downsampled[:,1] = np.nanmean(testset[:,feat2_mask],axis=1)\n",
      "/mnt/linuxlocal2/projects3/SRActFlow/docs/scripts/tools_group_rsa_python3.py:294: RuntimeWarning: Mean of empty slice\n",
      "  trainset_downsampled[:,0] = np.nanmean(trainset[:,feat1_mask],axis=1)\n",
      "/mnt/linuxlocal2/projects3/SRActFlow/docs/scripts/tools_group_rsa_python3.py:299: RuntimeWarning: Mean of empty slice\n",
      "  testset_downsampled[:,0] = np.nanmean(testset[:,feat1_mask],axis=1)\n"
     ]
    },
    {
     "name": "stdout",
     "output_type": "stream",
     "text": [
      "Running decoding for Left hand responses\n"
     ]
    }
   ],
   "source": [
    "nproc = 30\n",
    "# ncvs = 50\n",
    "tools_group = reload(tools_group)\n",
    "ncvs = 1\n",
    "rois = np.where(networkdef==networkmappings['smn'])[0]\n",
    "print('Running decoding for Right hand responses')\n",
    "distances_baseline_rh, rmatches_rh, rmismatches_rh = tools_group.conditionDecodings(data_task_rh, rois, ncvs=ncvs, effects=True, motorOutput=True, nproc=nproc)\n",
    "print('Running decoding for Left hand responses')\n",
    "distances_baseline_lh, rmatches_lh, rmismatches_lh = tools_group.conditionDecodings(data_task_lh, rois, ncvs=ncvs, effects=True, motorOutput=True, nproc=nproc)\n",
    "\n"
   ]
  },
  {
   "cell_type": "markdown",
   "metadata": {},
   "source": [
    "## 1.2 Compute statistics"
   ]
  },
  {
   "cell_type": "markdown",
   "metadata": {},
   "source": [
    "####  Right-hand decoding statistics"
   ]
  },
  {
   "cell_type": "code",
   "execution_count": 5,
   "metadata": {},
   "outputs": [],
   "source": [
    "smnROIs = np.where(networkdef==networkmappings['smn'])[0] \n",
    "\n",
    "ntrials = distances_baseline_rh.shape[1] \n",
    "statistics_rh = np.zeros((len(smnROIs),3)) # acc, q, acc_thresh\n",
    "for roicount in range(len(smnROIs)):\n",
    "    p = stats.binom_test(np.mean(distances_baseline_rh[roicount,:])*ntrials,n=ntrials,p=1/float(data_task_rh.shape[1]))\n",
    "    if np.mean(distances_baseline_rh[roicount,:])>1/float(data_task_rh.shape[1]):\n",
    "        p = p/2.0\n",
    "    else:\n",
    "        p = 1.0-p/2.0\n",
    "\n",
    "    statistics_rh[roicount,0] = np.mean(distances_baseline_rh[roicount,:])\n",
    "    statistics_rh[roicount,1] = p\n",
    "\n",
    "h0, qs = mc.fdrcorrection0(statistics_rh[:,1])\n",
    "for roicount in range(len(smnROIs)):\n",
    "    statistics_rh[roicount,1] = qs[roicount]\n",
    "    statistics_rh[roicount,2] = h0[roicount]*statistics_rh[roicount,0]\n",
    "\n",
    "    "
   ]
  },
  {
   "cell_type": "code",
   "execution_count": 11,
   "metadata": {},
   "outputs": [
    {
     "ename": "TypeError",
     "evalue": "only integer scalar arrays can be converted to a scalar index",
     "output_type": "error",
     "traceback": [
      "\u001b[0;31m---------------------------------------------------------------------------\u001b[0m",
      "\u001b[0;31mTypeError\u001b[0m                                 Traceback (most recent call last)",
      "\u001b[0;32m<ipython-input-11-486aa95957ca>\u001b[0m in \u001b[0;36m<module>\u001b[0;34m\u001b[0m\n\u001b[0;32m----> 1\u001b[0;31m \u001b[0mrmatches_rh\u001b[0m\u001b[0;34m[\u001b[0m\u001b[0msig_ind\u001b[0m\u001b[0;34m]\u001b[0m\u001b[0;34m\u001b[0m\u001b[0;34m\u001b[0m\u001b[0m\n\u001b[0m",
      "\u001b[0;31mTypeError\u001b[0m: only integer scalar arrays can be converted to a scalar index"
     ]
    }
   ],
   "source": [
    "rmatches_rh[sig_ind]"
   ]
  },
  {
   "cell_type": "code",
   "execution_count": 14,
   "metadata": {},
   "outputs": [
    {
     "name": "stdout",
     "output_type": "stream",
     "text": [
      "Number of ROIs significant for right hand responses: 15\n",
      "Significant ROIs: [  8   9  51  52  53  54  56 101 188 189 220 221 236 281 295]\n",
      "Accuracies: [0.77083333 0.83333333 0.66666667 0.625      0.80208333 0.67708333\n",
      " 0.65625    0.58333333 0.625      0.63541667 0.58333333 0.64583333\n",
      " 0.66666667 0.58333333 0.59375   ]\n"
     ]
    }
   ],
   "source": [
    "# Count number of significant ROIs for RH decoding\n",
    "sig_ind = np.where(statistics_rh[:,1]<0.05)[0]\n",
    "sig_ind = np.asarray(sig_ind,dtype=int)\n",
    "print('Number of ROIs significant for right hand responses:', sig_ind.shape[0])\n",
    "if sig_ind.shape[0]>0:\n",
    "    print('Significant ROIs:', smnROIs[sig_ind]+1)\n",
    "#     print('R_matched effect-size:', rmatches_rh[sig_ind])\n",
    "#     print('R_mismatched effect-size:', rmismatches_rh[sig_ind])\n",
    "print('Accuracies:', statistics_rh[sig_ind,0])"
   ]
  },
  {
   "cell_type": "markdown",
   "metadata": {},
   "source": [
    "####  Left-hand decoding statistics"
   ]
  },
  {
   "cell_type": "code",
   "execution_count": 15,
   "metadata": {},
   "outputs": [],
   "source": [
    "smnROIs = np.where(networkdef==networkmappings['smn'])[0] \n",
    "\n",
    "ntrials = distances_baseline_lh.shape[1] \n",
    "statistics_lh = np.zeros((len(smnROIs),3)) # acc, q, acc_thresh\n",
    "for roicount in range(len(smnROIs)):\n",
    "    p = stats.binom_test(np.mean(distances_baseline_lh[roicount,:])*ntrials,n=ntrials,p=1/float(data_task_lh.shape[1]))\n",
    "    if np.mean(distances_baseline_lh[roicount,:])>1/float(data_task_lh.shape[1]):\n",
    "        p = p/2.0\n",
    "    else:\n",
    "        p = 1.0-p/2.0\n",
    "\n",
    "    statistics_lh[roicount,0] = np.mean(distances_baseline_lh[roicount,:])\n",
    "    statistics_lh[roicount,1] = p\n",
    "\n",
    "h0, qs = mc.fdrcorrection0(statistics_lh[:,1])\n",
    "for roicount in range(len(smnROIs)):\n",
    "    statistics_lh[roicount,1] = qs[roicount]\n",
    "    statistics_lh[roicount,2] = h0[roicount]*statistics_lh[roicount,0]\n",
    "\n",
    "    "
   ]
  },
  {
   "cell_type": "code",
   "execution_count": 16,
   "metadata": {},
   "outputs": [
    {
     "name": "stdout",
     "output_type": "stream",
     "text": [
      "Number of ROIs significant for right hand responses: 11\n",
      "Significant ROIs: [ 41  51  54 102 188 189 220 231 232 233 284]\n",
      "Accuracies: [0.59375    0.59375    0.61458333 0.65625    0.73958333 0.89583333\n",
      " 0.59375    0.76041667 0.625      0.70833333 0.625     ]\n"
     ]
    }
   ],
   "source": [
    "# Count number of significant ROIs for LH decoding\n",
    "sig_ind = np.where(statistics_lh[:,1]<0.05)[0]\n",
    "print('Number of ROIs significant for right hand responses:', sig_ind.shape[0])\n",
    "if sig_ind.shape[0]>0:\n",
    "    print('Significant ROIs:', smnROIs[sig_ind] + 1)\n",
    "#     print 'R_matched effect-size:', rmatches_lh[sig_ind]\n",
    "#     print 'R_mismatched effect-size:', rmismatches_lh[sig_ind]\n",
    "print('Accuracies:', statistics_lh[sig_ind,0])"
   ]
  },
  {
   "cell_type": "markdown",
   "metadata": {},
   "source": [
    "## 1.3 Map accuracies back to cortical surface"
   ]
  },
  {
   "cell_type": "code",
   "execution_count": 27,
   "metadata": {},
   "outputs": [
    {
     "data": {
      "text/plain": [
       "0"
      ]
     },
     "execution_count": 27,
     "metadata": {},
     "output_type": "execute_result"
    }
   ],
   "source": [
    "# Put all data into a single matrix (since we only run a single classification)\n",
    "lefthand = np.zeros((glasser2.shape[0],3))\n",
    "righthand = np.zeros((glasser2.shape[0],3))\n",
    "\n",
    "roicount = 0\n",
    "for roi in smnROIs:\n",
    "    # Print significant parcel number\n",
    "    vertex_ind = np.where(glasser2==roi+1)[0]\n",
    "    lefthand[vertex_ind,0] = statistics_lh[roicount,0]\n",
    "    lefthand[vertex_ind,1] = statistics_lh[roicount,1]\n",
    "    lefthand[vertex_ind,2] = statistics_lh[roicount,2]\n",
    "\n",
    "    righthand[vertex_ind,0] = statistics_rh[roicount,0]\n",
    "    righthand[vertex_ind,1] = statistics_rh[roicount,1]\n",
    "    righthand[vertex_ind,2] = statistics_rh[roicount,2]\n",
    "\n",
    "    roicount += 1\n",
    "\n",
    "np.savetxt('/projects3/SRActFlow/data/results/GroupfMRI/MotorResponseDecoding/MotorResponseRegions_LH.csv', smnROIs[np.where(statistics_lh[:,1]<0.05)[0]], delimiter=',')\n",
    "np.savetxt('/projects3/SRActFlow/data/results/GroupfMRI/MotorResponseDecoding/MotorResponseRegions_RH.csv', smnROIs[np.where(statistics_rh[:,1]<0.05)[0]], delimiter=',')\n",
    "    \n",
    "#### \n",
    "# Write file to csv and run wb_command\n",
    "outdir = '/projects3/SRActFlow/data/results/GroupfMRI/MotorResponseDecoding/'\n",
    "filename = 'MotorResponseDecodingsLH'\n",
    "np.savetxt(outdir + filename + '.csv', lefthand,fmt='%s')\n",
    "wb_file = filename + '.dscalar.nii'\n",
    "wb_command = 'wb_command -cifti-convert -from-text ' + outdir + filename + '.csv ' + glasserfile2 + ' ' + outdir + wb_file + ' -reset-scalars'\n",
    "os.system(wb_command)\n",
    "\n",
    "filename = 'MotorResponseDecodingsRH'\n",
    "np.savetxt(outdir + filename + '.csv', righthand,fmt='%s')\n",
    "wb_file = filename + '.dscalar.nii'\n",
    "wb_command = 'wb_command -cifti-convert -from-text ' + outdir + filename + '.csv ' + glasserfile2 + ' ' + outdir + wb_file + ' -reset-scalars'\n",
    "os.system(wb_command)\n",
    "\n",
    "\n"
   ]
  }
 ],
 "metadata": {
  "kernelspec": {
   "display_name": "Python 3",
   "language": "python",
   "name": "python3"
  },
  "language_info": {
   "codemirror_mode": {
    "name": "ipython",
    "version": 3
   },
   "file_extension": ".py",
   "mimetype": "text/x-python",
   "name": "python",
   "nbconvert_exporter": "python",
   "pygments_lexer": "ipython3",
   "version": "3.7.3"
  }
 },
 "nbformat": 4,
 "nbformat_minor": 4
}
