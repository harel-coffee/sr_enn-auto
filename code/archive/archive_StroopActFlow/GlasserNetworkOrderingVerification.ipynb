{
 "cells": [
  {
   "cell_type": "markdown",
   "metadata": {},
   "source": [
    "# Verifying the hemispheric ordering of the Glasser parcels and network partitions\n",
    "\n",
    "#### Taku Ito\n",
    "#### 02/26/2017"
   ]
  },
  {
   "cell_type": "code",
   "execution_count": 1,
   "metadata": {
    "collapsed": true
   },
   "outputs": [],
   "source": [
    "import numpy as np\n",
    "import matplotlib.pyplot as plt\n",
    "%matplotlib inline\n",
    "import scipy.stats as stats\n",
    "import statsmodels.sandbox.stats.multicomp as mc\n",
    "import os\n",
    "import nibabel as nib\n",
    "from sklearn.svm import SVC\n",
    "import utils"
   ]
  },
  {
   "cell_type": "code",
   "execution_count": 2,
   "metadata": {
    "collapsed": true
   },
   "outputs": [],
   "source": [
    "def convertCSVToCIFTI64k(inputfilename,outputfilename):\n",
    "#     basedir = '/projects/AnalysisTools/ParcelsGlasser2016/'\n",
    "    ciftitemplate = '/projects3/StroopActFlow/data/Q1-Q6_RelatedParcellation210.LR.CorticalAreas_dil_Colors.32k_fs_LR.dlabel.nii'\n",
    "#     ciftitemplate = '/projects/AnalysisTools/ParcelsGlasser2016/Q1-Q6_RelatedParcellation210.LR.CorticalAreas_dil_Colors.32k_fs_RL.dlabel.nii'\n",
    "    wb_command = 'wb_command -cifti-convert -from-text' \n",
    "    wb_command += ' ' + inputfilename \n",
    "    wb_command += ' ' + ciftitemplate\n",
    "    wb_command += ' ' + outputfilename\n",
    "    wb_command += \" -col-delim ','\"\n",
    "    wb_command += ' -reset-scalars'\n",
    "    os.system(wb_command)\n",
    "#     print wb_command"
   ]
  },
  {
   "cell_type": "code",
   "execution_count": 16,
   "metadata": {
    "collapsed": true
   },
   "outputs": [],
   "source": [
    "def convertCSVToCIFTI64k2(inputfilename,outputfilename):\n",
    "#     basedir = '/projects/AnalysisTools/ParcelsGlasser2016/'\n",
    "    ciftitemplate = '/projects3/StroopActFlow/data/Q1-Q6_RelatedParcellation210.RL.CorticalAreas_dil_Colors.32k_fs_RL.dlabel.nii'\n",
    "#     ciftitemplate = '/projects/AnalysisTools/ParcelsGlasser2016/Q1-Q6_RelatedParcellation210.LR.CorticalAreas_dil_Colors.32k_fs_RL.dlabel.nii'\n",
    "    wb_command = 'wb_command -cifti-convert -from-text' \n",
    "    wb_command += ' ' + inputfilename \n",
    "    wb_command += ' ' + ciftitemplate\n",
    "    wb_command += ' ' + outputfilename\n",
    "    wb_command += \" -col-delim ','\"\n",
    "    wb_command += ' -reset-scalars'\n",
    "    os.system(wb_command)"
   ]
  },
  {
   "cell_type": "code",
   "execution_count": 19,
   "metadata": {
    "collapsed": true
   },
   "outputs": [],
   "source": [
    "subjNums = ['101', '102']\n",
    "\n",
    "basedir = '/projects3/StroopActFlow/data/'\n",
    "resultsdir = basedir + 'results/'\n",
    "restdir = resultsdir + 'glmRest_GlasserParcels/'\n",
    "\n",
    "glasser_nets = np.loadtxt(basedir + 'NetworkPartitions3.1/indexsort.txt', delimiter=',')\n",
    "# Make into python numbering (starts from 0)\n",
    "glasser_nets -= 1.0\n",
    "networkorder = glasser_nets.astype(int)\n",
    "networkorder.shape = (len(networkorder),1)\n",
    "\n",
    "networkmappings = {'fpn':6, 'vis':1, 'smn':2, 'con':3, 'dmn':8, 'aud':7, 'van':5, 'dan':4}\n",
    "networks = networkmappings.keys()\n",
    "\n",
    "networkdef = basedir + 'NetworkPartitions3.1/network_partition.txt'\n",
    "networkdef = np.loadtxt(networkdef, delimiter=',')\n",
    "xticks = {}\n",
    "reorderednetworkaffil = networkdef[networkorder]\n",
    "for net in networks:\n",
    "    netNum = networkmappings[net]\n",
    "    netind = np.where(reorderednetworkaffil==netNum)[0]\n",
    "    tick = np.max(netind)\n",
    "    xticks[tick] = net\n",
    "    \n",
    "# Load in Glasser parcels\n",
    "glasserfile = '/projects3/StroopActFlow/data/Q1-Q6_RelatedParcellation210.LR.CorticalAreas_dil_Colors.32k_fs_LR.dlabel.nii'\n",
    "glasser = nib.load(glasserfile).get_data()\n",
    "glasser = np.squeeze(glasser)\n",
    "\n",
    "# Load in Glasser parcels2\n",
    "glasserfile = '/projects3/StroopActFlow/data/Q1-Q6_RelatedParcellation210.RL.CorticalAreas_dil_Colors.32k_fs_RL.dlabel.nii'\n",
    "glasser2 = nib.load(glasserfile).get_data()\n",
    "glasser2 = np.squeeze(glasser2)"
   ]
  },
  {
   "cell_type": "markdown",
   "metadata": {},
   "source": [
    "## Visualize VAN when parcels are ordered from Left -> Right"
   ]
  },
  {
   "cell_type": "code",
   "execution_count": 30,
   "metadata": {
    "collapsed": false
   },
   "outputs": [
    {
     "data": {
      "text/plain": [
       "memmap([ 215.,  219.,  192.,  206.,  193.,  329.,  265.,  340.,  313.,\n",
       "        282.,  311.,  214.,  214.,  214.,  214.,  194.,  194.,  194.,\n",
       "        194.,  194.,  214.,  214.,  214.,  214.,  214.,  214.,  213.,\n",
       "        213.,  213.,  213.,  213.,  213.,  213.,  213.,  213.,  213.,\n",
       "        211.,  211.,  211.,  211.,  211.,  211.,  211.,  211.,  211.,\n",
       "        301.,  301.,  301.,  301.,  301.,  301.,  301.,  301.,  301.,\n",
       "        181.,  181.,  181.,  181.,  181.,  181.,  181.,  181.,  181.,\n",
       "        184.,  184.,  184.,  184.,  333.,  333.,  333.,  333.,  333.,\n",
       "        333.,  333.,  333.,  333.,  300.,  300.,  300.,  299.,  299.,\n",
       "        299.,  299.,  299.,  306.,  306.,  306.,  306.,  306.,  306.,\n",
       "        333.,  333.,  333.,  333.,  333.,  214.,  214.,  214.,  194.,  194.], dtype=float32)"
      ]
     },
     "execution_count": 30,
     "metadata": {},
     "output_type": "execute_result"
    }
   ],
   "source": [
    "glasser2[0:100]"
   ]
  },
  {
   "cell_type": "code",
   "execution_count": 37,
   "metadata": {
    "collapsed": false
   },
   "outputs": [
    {
     "data": {
      "text/plain": [
       "memmap([ 213.,  194.,  194., ...,  133.,  133.,  133.], dtype=float32)"
      ]
     },
     "execution_count": 37,
     "metadata": {},
     "output_type": "execute_result"
    }
   ],
   "source": [
    "glasser[180:]"
   ]
  },
  {
   "cell_type": "code",
   "execution_count": 33,
   "metadata": {
    "collapsed": true
   },
   "outputs": [],
   "source": [
    "networkdef2 = np.zeros((networkdef.shape))\n",
    "networkdef2[0:180] = networkdef[180:]\n",
    "networkdef2[180:] = networkdef[0:180]\n",
    "# networkdef = networkdef2"
   ]
  },
  {
   "cell_type": "code",
   "execution_count": 25,
   "metadata": {
    "collapsed": true
   },
   "outputs": [],
   "source": [
    "van_ind = np.where(networkdef2==networkmappings['van'])[0]\n",
    "\n",
    "v_ind = []\n",
    "for roi in van_ind:\n",
    "    vertices = np.where(glasser==roi+1)[0]\n",
    "    v_ind.extend(vertices)\n",
    "    \n",
    "v_ind = np.asarray(v_ind)\n",
    "\n",
    "van_left2right = np.zeros((glasser.shape[0],))\n",
    "van_left2right[v_ind] = 1.0\n",
    "\n",
    "dire = '/projects3/StroopActFlow/data/results/GlasserNetworkHemisphereValidation/'\n",
    "filename = dire+'netpartitions_van_left2right'\n",
    "np.savetxt(filename+'.csv', van_left2right, delimiter=',')\n",
    "\n",
    "convertCSVToCIFTI64k(filename+'.csv',filename+'.dscalar.nii')"
   ]
  },
  {
   "cell_type": "markdown",
   "metadata": {},
   "source": [
    "## Visualize VAN when parcels are ordered from Right -> Left"
   ]
  },
  {
   "cell_type": "code",
   "execution_count": 26,
   "metadata": {
    "collapsed": false
   },
   "outputs": [],
   "source": [
    "van_ind = np.where(networkdef==networkmappings['van'])[0]\n",
    "\n",
    "v_ind = []\n",
    "for roi in van_ind:\n",
    "    vertices = np.where(glasser2==roi+1)[0]\n",
    "    v_ind.extend(vertices)\n",
    "    \n",
    "v_ind = np.asarray(v_ind)\n",
    "\n",
    "van_right2left = np.zeros((glasser2.shape[0],))\n",
    "van_right2left[v_ind] = 1.0\n",
    "\n",
    "dire = '/projects3/StroopActFlow/data/results/GlasserNetworkHemisphereValidation/'\n",
    "filename = dire+'netpartitions_van_right2left'\n",
    "np.savetxt(filename+'.csv', van_right2left, delimiter=',')\n",
    "\n",
    "convertCSVToCIFTI64k2(filename+'.csv',filename+'.dscalar.nii')"
   ]
  }
 ],
 "metadata": {
  "kernelspec": {
   "display_name": "Python 2",
   "language": "python",
   "name": "python2"
  },
  "language_info": {
   "codemirror_mode": {
    "name": "ipython",
    "version": 2
   },
   "file_extension": ".py",
   "mimetype": "text/x-python",
   "name": "python",
   "nbconvert_exporter": "python",
   "pygments_lexer": "ipython2",
   "version": "2.7.11"
  }
 },
 "nbformat": 4,
 "nbformat_minor": 0
}
