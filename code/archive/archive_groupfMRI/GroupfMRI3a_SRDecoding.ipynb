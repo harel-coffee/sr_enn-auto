{
 "cells": [
  {
   "cell_type": "markdown",
   "metadata": {},
   "source": [
    "# Cross-subject decoding Logic-Sensory rule gating (SR)\n",
    "### Ex: Gating red rule information ([both, red] v. [not both, red] v. [either, red] v. [neither, red])\n",
    "\n",
    "#### Takuya Ito\n",
    "#### 2/28/2018"
   ]
  },
  {
   "cell_type": "code",
   "execution_count": 75,
   "metadata": {},
   "outputs": [],
   "source": [
    "import numpy as np\n",
    "import matplotlib.pyplot as plt\n",
    "%matplotlib inline\n",
    "import multiprocessing as mp\n",
    "import scipy.stats as stats\n",
    "import os\n",
    "os.environ['OMP_NUM_THREADS'] = str(1)\n",
    "import statsmodels.sandbox.stats.multicomp as mc\n",
    "import seaborn as sns\n",
    "import h5py\n",
    "import tools_group\n",
    "import nibabel as nib\n",
    "tools_group = reload(tools_group)\n",
    "\n",
    "sns.set_style(\"whitegrid\")\n",
    "plt.rcParams[\"font.family\"] = \"FreeSans\"\n"
   ]
  },
  {
   "cell_type": "code",
   "execution_count": 76,
   "metadata": {},
   "outputs": [],
   "source": [
    "# Excluding 084\n",
    "subjNums = ['013','014','016','017','018','021','023','024','026','027','028','030','031','032','033',\n",
    "            '034','035','037','038','039','040','041','042','043','045','046','047','048','049','050',\n",
    "            '053','055','056','057','058','062','063','066','067','068','069','070','072','074','075',\n",
    "            '076','077','081','085','086','087','088','090','092','093','094','095','097','098','099',\n",
    "            '101','102','103','104','105','106','108','109','110','111','112','114','115','117','119',\n",
    "            '120','121','122','123','124','125','126','127','128','129','130','131','132','134','135',\n",
    "            '136','137','138','139','140','141']\n",
    "\n",
    "\n",
    "\n",
    "basedir = '/projects3/SRActFlow/'\n",
    "\n",
    "# Using final partition\n",
    "networkdef = np.loadtxt('/projects3/NetworkDiversity/data/network_partition.txt')\n",
    "networkorder = np.asarray(sorted(range(len(networkdef)), key=lambda k: networkdef[k]))\n",
    "networkorder.shape = (len(networkorder),1)\n",
    "# network mappings for final partition set\n",
    "networkmappings = {'fpn':7, 'vis1':1, 'vis2':2, 'smn':3, 'aud':8, 'lan':6, 'dan':5, 'con':4, 'dmn':9, \n",
    "                   'pmulti':10, 'none1':11, 'none2':12}\n",
    "networks = networkmappings.keys()\n",
    "\n",
    "xticks = {}\n",
    "reorderednetworkaffil = networkdef[networkorder]\n",
    "for net in networks:\n",
    "    netNum = networkmappings[net]\n",
    "    netind = np.where(reorderednetworkaffil==netNum)[0]\n",
    "    tick = np.max(netind)\n",
    "    xticks[tick] = net\n",
    "\n",
    "## General parameters/variables\n",
    "nParcels = 360\n",
    "nSubjs = len(subjNums)\n",
    "\n",
    "glasserfile2 = '/projects/AnalysisTools/ParcelsGlasser2016/Q1-Q6_RelatedParcellation210.LR.CorticalAreas_dil_Colors.32k_fs_RL.dlabel.nii'\n",
    "glasser2 = nib.load(glasserfile2).get_data()\n",
    "glasser2 = np.squeeze(glasser2)\n",
    "\n",
    "sortednets = np.sort(xticks.keys())\n",
    "orderednetworks = []\n",
    "for net in sortednets: orderednetworks.append(xticks[net])\n",
    "    \n",
    "networkpalette = ['royalblue','slateblue','paleturquoise','darkorchid','limegreen',\n",
    "                  'lightseagreen','yellow','orchid','r','peru','orange','olivedrab']\n",
    "networkpalette = np.asarray(networkpalette)\n",
    "\n",
    "OrderedNetworks = ['VIS1','VIS2','SMN','CON','DAN','LAN','FPN','AUD','DMN','PMM','VMM','ORA']"
   ]
  },
  {
   "cell_type": "markdown",
   "metadata": {},
   "source": [
    "# 1.0 Run across subject decoding on RED SR rules\n",
    "### 4-way decoding\n",
    "* both red\n",
    "* notboth red\n",
    "* either red\n",
    "* neither red"
   ]
  },
  {
   "cell_type": "markdown",
   "metadata": {},
   "source": [
    "## 1.1 Load data for RED SR integration"
   ]
  },
  {
   "cell_type": "code",
   "execution_count": 77,
   "metadata": {},
   "outputs": [
    {
     "name": "stderr",
     "output_type": "stream",
     "text": [
      "/home/tito/miniconda2/lib/python2.7/site-packages/ipykernel_launcher.py:8: ComplexWarning: Casting complex values to real discards the imaginary part\n",
      "  \n"
     ]
    }
   ],
   "source": [
    "# gsr = True\n",
    "nStims = 4\n",
    "data_task = np.zeros((len(glasser2),nStims,len(subjNums)))\n",
    "sr_rule = 'srRed'\n",
    "\n",
    "scount = 0\n",
    "for subj in subjNums:\n",
    "    data_task[:,:,scount] = tools_group.loadInputActivity(subj,sr_rule)\n",
    "    scount += 1"
   ]
  },
  {
   "cell_type": "markdown",
   "metadata": {},
   "source": [
    "#### Run decoding "
   ]
  },
  {
   "cell_type": "code",
   "execution_count": 80,
   "metadata": {},
   "outputs": [],
   "source": [
    "nproc = 30\n",
    "ncvs = 1\n",
    "rois = np.arange(nParcels)\n",
    "\n",
    "distances_baseline_srRed = tools_group.conditionDecodings(data_task, rois, motorOutput=False, ncvs=ncvs, nproc=nproc)"
   ]
  },
  {
   "cell_type": "markdown",
   "metadata": {},
   "source": [
    "#### Compute statistics"
   ]
  },
  {
   "cell_type": "code",
   "execution_count": 97,
   "metadata": {},
   "outputs": [
    {
     "name": "stdout",
     "output_type": "stream",
     "text": [
      "Number of ROIs significant for srRed Stimuli: 5\n",
      "Accuracies: [ 0.33854167  0.32552083  0.39583333  0.3359375   0.328125  ]\n"
     ]
    },
    {
     "data": {
      "text/plain": [
       "0"
      ]
     },
     "execution_count": 97,
     "metadata": {},
     "output_type": "execute_result"
    }
   ],
   "source": [
    "sr_rule = 'srRed'\n",
    "statistics_srRed = np.zeros((len(rois),3)) # acc, q, acc_thresh\n",
    "for roicount in range(len(rois)):\n",
    "    ntrials = distances_baseline_srRed.shape[1]\n",
    "    p = stats.binom_test(np.mean(distances_baseline_srRed[roicount,:])*ntrials,n=ntrials,p=1/float(nStims))\n",
    "    if np.mean(distances_baseline_srRed[roicount,:])>1/float(nStims):\n",
    "        p = p/2.0\n",
    "    else:\n",
    "        p = 1.0-p/2.0\n",
    "        \n",
    "\n",
    "    statistics_srRed[roicount,0] = np.mean(distances_baseline_srRed[roicount,:])\n",
    "    statistics_srRed[roicount,1] = p\n",
    "\n",
    "# h0, qs = mc.fdrcorrection0(statistics_srRed[:,1])\n",
    "# for roicount in range(len(rois)):\n",
    "#     statistics_srRed[roicount,1] = qs[roicount]\n",
    "#     statistics_srRed[roicount,2] = h0[roicount]*statistics_srRed[roicount,0]\n",
    "    \n",
    "roi_ind = np.where(networkdef!=networkmappings['smn'])[0]\n",
    "h0, qs = mc.fdrcorrection0(statistics_srRed[roi_ind,1])\n",
    "statistics_srRed[:,1] = 1.0\n",
    "for roicount in range(len(roi_ind)):\n",
    "    roi = roi_ind[roicount]\n",
    "    statistics_srRed[roi,1] = qs[roicount]\n",
    "    statistics_srRed[roi,2] = h0[roicount]*statistics_srRed[roi,0]\n",
    "    \n",
    "# Count number of significant ROIs for LH decoding\n",
    "sig_ind = np.where(statistics_srRed[:,1]<0.05)[0]\n",
    "print 'Number of ROIs significant for', sr_rule, 'Stimuli:', sig_ind.shape[0]\n",
    "print 'Accuracies:', statistics_srRed[sig_ind,0]\n",
    "\n",
    "#### Map back to surface\n",
    "# Put all data into a single matrix (since we only run a single classification)\n",
    "inputStim = np.zeros((glasser2.shape[0],3))\n",
    "\n",
    "roicount = 0\n",
    "for roi in rois:\n",
    "    vertex_ind = np.where(glasser2==roi+1)[0]\n",
    "    inputStim[vertex_ind,0] = statistics_srRed[roicount,0]\n",
    "    inputStim[vertex_ind,1] = statistics_srRed[roicount,1]\n",
    "    inputStim[vertex_ind,2] = statistics_srRed[roicount,2]\n",
    "\n",
    "    roicount += 1\n",
    "\n",
    "np.savetxt('/projects3/SRActFlow/data/results/GroupfMRI/SRDecoding/srRed_Regions.csv', np.where(statistics_srRed[:,1]<0.05)[0], delimiter=',')\n",
    "    \n",
    "#### \n",
    "# Write file to csv and run wb_command\n",
    "outdir = '/projects3/SRActFlow/data/results/GroupfMRI/SRDecoding/'\n",
    "filename = sr_rule + 'Decoding'\n",
    "np.savetxt(outdir + filename + '.csv', inputStim,fmt='%s')\n",
    "wb_file = filename + '.dscalar.nii'\n",
    "wb_command = 'wb_command -cifti-convert -from-text ' + outdir + filename + '.csv ' + glasserfile2 + ' ' + outdir + wb_file + ' -reset-scalars'\n",
    "os.system(wb_command)\n"
   ]
  },
  {
   "cell_type": "markdown",
   "metadata": {},
   "source": [
    "# 2.0 Run across subject decoding on VERTICAL SR rules\n",
    "### 4-way decoding\n",
    "* both vertical\n",
    "* notboth vertical\n",
    "* either vertical\n",
    "* neither vertical"
   ]
  },
  {
   "cell_type": "markdown",
   "metadata": {},
   "source": [
    "## 2.1 Load data for VERTICAL SR integration"
   ]
  },
  {
   "cell_type": "code",
   "execution_count": 99,
   "metadata": {},
   "outputs": [
    {
     "name": "stderr",
     "output_type": "stream",
     "text": [
      "/home/tito/miniconda2/lib/python2.7/site-packages/ipykernel_launcher.py:8: ComplexWarning: Casting complex values to real discards the imaginary part\n",
      "  \n"
     ]
    }
   ],
   "source": [
    "# gsr = True\n",
    "nStims = 4\n",
    "data_task = np.zeros((len(glasser2),nStims,len(subjNums)))\n",
    "sr_rule = 'srVertical'\n",
    "\n",
    "scount = 0\n",
    "for subj in subjNums:\n",
    "    data_task[:,:,scount] = tools_group.loadInputActivity(subj,sr_rule)\n",
    "    scount += 1"
   ]
  },
  {
   "cell_type": "markdown",
   "metadata": {},
   "source": [
    "#### Run decoding "
   ]
  },
  {
   "cell_type": "code",
   "execution_count": 100,
   "metadata": {},
   "outputs": [],
   "source": [
    "nproc = 30\n",
    "ncvs = 1\n",
    "rois = np.arange(nParcels)\n",
    "\n",
    "distances_baseline_srVertical = tools_group.conditionDecodings(data_task, rois, motorOutput=False, ncvs=ncvs, nproc=nproc)\n"
   ]
  },
  {
   "cell_type": "markdown",
   "metadata": {},
   "source": [
    "#### Compute statistics"
   ]
  },
  {
   "cell_type": "code",
   "execution_count": 101,
   "metadata": {},
   "outputs": [
    {
     "name": "stdout",
     "output_type": "stream",
     "text": [
      "Number of ROIs significant for srVertical Stimuli: 2\n",
      "Accuracies: [ 0.328125    0.33072917]\n"
     ]
    },
    {
     "data": {
      "text/plain": [
       "0"
      ]
     },
     "execution_count": 101,
     "metadata": {},
     "output_type": "execute_result"
    }
   ],
   "source": [
    "sr_rule = 'srVertical'\n",
    "statistics_srVertical = np.zeros((len(rois),3)) # acc, q, acc_thresh\n",
    "for roicount in range(len(rois)):\n",
    "    ntrials = distances_baseline_srVertical.shape[1]\n",
    "    p = stats.binom_test(np.mean(distances_baseline_srVertical[roicount,:])*ntrials,n=ntrials,p=1/float(nStims))\n",
    "    if np.mean(distances_baseline_srVertical[roicount,:])>1/float(nStims):\n",
    "        p = p/2.0\n",
    "    else:\n",
    "        p = 1.0-p/2.0\n",
    "        \n",
    "\n",
    "    statistics_srVertical[roicount,0] = np.mean(distances_baseline_srVertical[roicount,:])\n",
    "    statistics_srVertical[roicount,1] = p\n",
    "\n",
    "# h0, qs = mc.fdrcorrection0(statistics_srVertical[:,1])\n",
    "# for roicount in range(len(rois)):\n",
    "#     statistics_srVertical[roicount,1] = qs[roicount]\n",
    "#     statistics_srVertical[roicount,2] = h0[roicount]*statistics_srVertical[roicount,0]\n",
    "    \n",
    "roi_ind = np.where(networkdef!=networkmappings['smn'])[0]\n",
    "h0, qs = mc.fdrcorrection0(statistics_srVertical[roi_ind,1])\n",
    "statistics_srVertical[:,1] = 1.0\n",
    "for roicount in range(len(roi_ind)):\n",
    "    roi = roi_ind[roicount]\n",
    "    statistics_srVertical[roi,1] = qs[roicount]\n",
    "    statistics_srVertical[roi,2] = h0[roicount]*statistics_srVertical[roi,0]\n",
    "    \n",
    "# Count number of significant ROIs for LH decoding\n",
    "sig_ind = np.where(statistics_srVertical[:,1]<0.05)[0]\n",
    "print 'Number of ROIs significant for', sr_rule, 'Stimuli:', sig_ind.shape[0]\n",
    "print 'Accuracies:', statistics_srVertical[sig_ind,0]\n",
    "\n",
    "#### Map back to surface\n",
    "# Put all data into a single matrix (since we only run a single classification)\n",
    "inputStim = np.zeros((glasser2.shape[0],3))\n",
    "\n",
    "roicount = 0\n",
    "for roi in rois:\n",
    "    vertex_ind = np.where(glasser2==roi+1)[0]\n",
    "    inputStim[vertex_ind,0] = statistics_srVertical[roicount,0]\n",
    "    inputStim[vertex_ind,1] = statistics_srVertical[roicount,1]\n",
    "    inputStim[vertex_ind,2] = statistics_srVertical[roicount,2]\n",
    "\n",
    "    roicount += 1\n",
    "\n",
    "np.savetxt('/projects3/SRActFlow/data/results/GroupfMRI/SRDecoding/srVertical_Regions.csv', np.where(statistics_srVertical[:,1]<0.05)[0], delimiter=',')\n",
    "    \n",
    "#### \n",
    "# Write file to csv and run wb_command\n",
    "outdir = '/projects3/SRActFlow/data/results/GroupfMRI/SRDecoding/'\n",
    "filename = sr_rule + 'Decoding'\n",
    "np.savetxt(outdir + filename + '.csv', inputStim,fmt='%s')\n",
    "wb_file = filename + '.dscalar.nii'\n",
    "wb_command = 'wb_command -cifti-convert -from-text ' + outdir + filename + '.csv ' + glasserfile2 + ' ' + outdir + wb_file + ' -reset-scalars'\n",
    "os.system(wb_command)\n"
   ]
  },
  {
   "cell_type": "markdown",
   "metadata": {},
   "source": [
    "# 3.0 Run across subject decoding on HIGH SR rules\n",
    "### 4-way decoding\n",
    "* both high\n",
    "* notboth high\n",
    "* either high\n",
    "* neither high"
   ]
  },
  {
   "cell_type": "markdown",
   "metadata": {},
   "source": [
    "## 3.1 Load data for HIGH SR integration"
   ]
  },
  {
   "cell_type": "code",
   "execution_count": 85,
   "metadata": {},
   "outputs": [
    {
     "name": "stderr",
     "output_type": "stream",
     "text": [
      "/home/tito/miniconda2/lib/python2.7/site-packages/ipykernel_launcher.py:8: ComplexWarning: Casting complex values to real discards the imaginary part\n",
      "  \n"
     ]
    }
   ],
   "source": [
    "# gsr = True\n",
    "nStims = 4\n",
    "data_task = np.zeros((len(glasser2),nStims,len(subjNums)))\n",
    "sr_rule = 'srHigh'\n",
    "\n",
    "scount = 0\n",
    "for subj in subjNums:\n",
    "    data_task[:,:,scount] = tools_group.loadInputActivity(subj,sr_rule)\n",
    "    scount += 1"
   ]
  },
  {
   "cell_type": "markdown",
   "metadata": {},
   "source": [
    "#### Run decoding "
   ]
  },
  {
   "cell_type": "code",
   "execution_count": 86,
   "metadata": {},
   "outputs": [],
   "source": [
    "nproc = 30\n",
    "ncvs = 1\n",
    "rois = np.arange(nParcels)\n",
    "\n",
    "distances_baseline_srHigh = tools_group.conditionDecodings(data_task, rois, motorOutput=False, ncvs=ncvs, nproc=nproc)\n"
   ]
  },
  {
   "cell_type": "markdown",
   "metadata": {},
   "source": [
    "#### Compute statistics"
   ]
  },
  {
   "cell_type": "code",
   "execution_count": 95,
   "metadata": {},
   "outputs": [
    {
     "name": "stdout",
     "output_type": "stream",
     "text": [
      "Number of ROIs significant for srHigh Stimuli: 5\n",
      "Accuracies: [ 0.3359375   0.33072917  0.3359375   0.33333333  0.328125  ]\n"
     ]
    },
    {
     "data": {
      "text/plain": [
       "0"
      ]
     },
     "execution_count": 95,
     "metadata": {},
     "output_type": "execute_result"
    }
   ],
   "source": [
    "sr_rule = 'srHigh'\n",
    "statistics_srHigh = np.zeros((len(rois),3)) # acc, q, acc_thresh\n",
    "for roicount in range(len(rois)):\n",
    "    ntrials = distances_baseline_srHigh.shape[1]\n",
    "    p = stats.binom_test(np.mean(distances_baseline_srHigh[roicount,:])*ntrials,n=ntrials,p=1/float(nStims))\n",
    "    if np.mean(distances_baseline_srHigh[roicount,:])>1/float(nStims):\n",
    "        p = p/2.0\n",
    "    else:\n",
    "        p = 1.0-p/2.0\n",
    "        \n",
    "\n",
    "    statistics_srHigh[roicount,0] = np.mean(distances_baseline_srHigh[roicount,:])\n",
    "    statistics_srHigh[roicount,1] = p\n",
    "\n",
    "# h0, qs = mc.fdrcorrection0(statistics_srHigh[:,1])\n",
    "# for roicount in range(len(rois)):\n",
    "#     statistics_srHigh[roicount,1] = qs[roicount]\n",
    "#     statistics_srHigh[roicount,2] = h0[roicount]*statistics_srHigh[roicount,0]\n",
    "    \n",
    "roi_ind = np.where(networkdef!=networkmappings['smn'])[0]\n",
    "h0, qs = mc.fdrcorrection0(statistics_srHigh[roi_ind,1])\n",
    "statistics_srHigh[:,1] = 1.0\n",
    "for roicount in range(len(roi_ind)):\n",
    "    roi = roi_ind[roicount]\n",
    "    statistics_srHigh[roi,1] = qs[roicount]\n",
    "    statistics_srHigh[roi,2] = h0[roicount]*statistics_srHigh[roi,0]\n",
    "    \n",
    "# Count number of significant ROIs for LH decoding\n",
    "sig_ind = np.where(statistics_srHigh[:,1]<0.05)[0]\n",
    "print 'Number of ROIs significant for', sr_rule, 'Stimuli:', sig_ind.shape[0]\n",
    "print 'Accuracies:', statistics_srHigh[sig_ind,0]\n",
    "\n",
    "#### Map back to surface\n",
    "# Put all data into a single matrix (since we only run a single classification)\n",
    "inputStim = np.zeros((glasser2.shape[0],3))\n",
    "\n",
    "roicount = 0\n",
    "for roi in rois:\n",
    "    vertex_ind = np.where(glasser2==roi+1)[0]\n",
    "    inputStim[vertex_ind,0] = statistics_srHigh[roicount,0]\n",
    "    inputStim[vertex_ind,1] = statistics_srHigh[roicount,1]\n",
    "    inputStim[vertex_ind,2] = statistics_srHigh[roicount,2]\n",
    "\n",
    "    roicount += 1\n",
    "\n",
    "np.savetxt('/projects3/SRActFlow/data/results/GroupfMRI/SRDecoding/srHigh_Regions.csv', np.where(statistics_srHigh[:,1]<0.05)[0], delimiter=',')\n",
    "    \n",
    "#### \n",
    "# Write file to csv and run wb_command\n",
    "outdir = '/projects3/SRActFlow/data/results/GroupfMRI/SRDecoding/'\n",
    "filename = sr_rule + 'Decoding'\n",
    "np.savetxt(outdir + filename + '.csv', inputStim,fmt='%s')\n",
    "wb_file = filename + '.dscalar.nii'\n",
    "wb_command = 'wb_command -cifti-convert -from-text ' + outdir + filename + '.csv ' + glasserfile2 + ' ' + outdir + wb_file + ' -reset-scalars'\n",
    "os.system(wb_command)\n"
   ]
  },
  {
   "cell_type": "markdown",
   "metadata": {},
   "source": [
    "# 4.0 Run across subject decoding on CONSTANT SR rules\n",
    "### 4-way decoding\n",
    "* both constant\n",
    "* notboth constant\n",
    "* either constant\n",
    "* neither constant"
   ]
  },
  {
   "cell_type": "markdown",
   "metadata": {},
   "source": [
    "## 4.1 Load data for CONSTANT SR integration"
   ]
  },
  {
   "cell_type": "code",
   "execution_count": 88,
   "metadata": {},
   "outputs": [
    {
     "name": "stderr",
     "output_type": "stream",
     "text": [
      "/home/tito/miniconda2/lib/python2.7/site-packages/ipykernel_launcher.py:8: ComplexWarning: Casting complex values to real discards the imaginary part\n",
      "  \n"
     ]
    }
   ],
   "source": [
    "# gsr = True\n",
    "nStims = 4\n",
    "data_task = np.zeros((len(glasser2),nStims,len(subjNums)))\n",
    "sr_rule = 'srConstant'\n",
    "\n",
    "scount = 0\n",
    "for subj in subjNums:\n",
    "    data_task[:,:,scount] = tools_group.loadInputActivity(subj,sr_rule)\n",
    "    scount += 1"
   ]
  },
  {
   "cell_type": "markdown",
   "metadata": {},
   "source": [
    "#### Run decoding "
   ]
  },
  {
   "cell_type": "code",
   "execution_count": 90,
   "metadata": {},
   "outputs": [],
   "source": [
    "nproc = 30\n",
    "ncvs = 1\n",
    "rois = np.arange(nParcels)\n",
    "\n",
    "distances_baseline_srConstant = tools_group.conditionDecodings(data_task, rois, motorOutput=False, ncvs=ncvs, nproc=nproc)\n"
   ]
  },
  {
   "cell_type": "markdown",
   "metadata": {},
   "source": [
    "#### Compute statistics"
   ]
  },
  {
   "cell_type": "code",
   "execution_count": 94,
   "metadata": {},
   "outputs": [
    {
     "name": "stdout",
     "output_type": "stream",
     "text": [
      "Number of ROIs significant for srConstant Stimuli: 2\n",
      "Accuracies: [ 0.3359375  0.3359375]\n"
     ]
    },
    {
     "data": {
      "text/plain": [
       "0"
      ]
     },
     "execution_count": 94,
     "metadata": {},
     "output_type": "execute_result"
    }
   ],
   "source": [
    "sr_rule = 'srConstant'\n",
    "statistics_srConstant = np.zeros((len(rois),3)) # acc, q, acc_thresh\n",
    "for roicount in range(len(rois)):\n",
    "    ntrials = distances_baseline_srConstant.shape[1]\n",
    "    p = stats.binom_test(np.mean(distances_baseline_srConstant[roicount,:])*ntrials,n=ntrials,p=1/float(nStims))\n",
    "    if np.mean(distances_baseline_srConstant[roicount,:])>1/float(nStims):\n",
    "        p = p/2.0\n",
    "    else:\n",
    "        p = 1.0-p/2.0\n",
    "        \n",
    "\n",
    "    statistics_srConstant[roicount,0] = np.mean(distances_baseline_srConstant[roicount,:])\n",
    "    statistics_srConstant[roicount,1] = p\n",
    "\n",
    "#h0, qs = mc.fdrcorrection0(statistics_srConstant[:,1])\n",
    "#for roicount in range(len(rois)):\n",
    "#    statistics_srConstant[roicount,1] = qs[roicount]\n",
    "#    statistics_srConstant[roicount,2] = h0[roicount]*statistics_srConstant[roicount,0]\n",
    "\n",
    "roi_ind = np.where(networkdef!=networkmappings['smn'])[0]\n",
    "h0, qs = mc.fdrcorrection0(statistics_srConstant[roi_ind,1])\n",
    "statistics_srConstant[:,1] = 1.0\n",
    "for roicount in range(len(roi_ind)):\n",
    "    roi = roi_ind[roicount]\n",
    "    statistics_srConstant[roi,1] = qs[roicount]\n",
    "    statistics_srConstant[roi,2] = h0[roicount]*statistics_srConstant[roi,0]\n",
    "    \n",
    "# Count number of significant ROIs for LH decoding\n",
    "sig_ind = np.where(statistics_srConstant[:,1]<0.05)[0]\n",
    "print 'Number of ROIs significant for', sr_rule, 'Stimuli:', sig_ind.shape[0]\n",
    "print 'Accuracies:', statistics_srConstant[sig_ind,0]\n",
    "\n",
    "#### Map back to surface\n",
    "# Put all data into a single matrix (since we only run a single classification)\n",
    "inputStim = np.zeros((glasser2.shape[0],3))\n",
    "\n",
    "roicount = 0\n",
    "for roi in rois:\n",
    "    vertex_ind = np.where(glasser2==roi+1)[0]\n",
    "    inputStim[vertex_ind,0] = statistics_srConstant[roicount,0]\n",
    "    inputStim[vertex_ind,1] = statistics_srConstant[roicount,1]\n",
    "    inputStim[vertex_ind,2] = statistics_srConstant[roicount,2]\n",
    "\n",
    "    roicount += 1\n",
    "\n",
    "np.savetxt('/projects3/SRActFlow/data/results/GroupfMRI/SRDecoding/srConstant_Regions.csv', np.where(statistics_srConstant[:,1]<0.05)[0], delimiter=',')\n",
    "    \n",
    "#### \n",
    "# Write file to csv and run wb_command\n",
    "outdir = '/projects3/SRActFlow/data/results/GroupfMRI/SRDecoding/'\n",
    "filename = sr_rule + 'Decoding'\n",
    "np.savetxt(outdir + filename + '.csv', inputStim,fmt='%s')\n",
    "wb_file = filename + '.dscalar.nii'\n",
    "wb_command = 'wb_command -cifti-convert -from-text ' + outdir + filename + '.csv ' + glasserfile2 + ' ' + outdir + wb_file + ' -reset-scalars'\n",
    "os.system(wb_command)\n"
   ]
  }
 ],
 "metadata": {
  "kernelspec": {
   "display_name": "Python 2",
   "language": "python",
   "name": "python2"
  },
  "language_info": {
   "codemirror_mode": {
    "name": "ipython",
    "version": 2
   },
   "file_extension": ".py",
   "mimetype": "text/x-python",
   "name": "python",
   "nbconvert_exporter": "python",
   "pygments_lexer": "ipython2",
   "version": "2.7.15"
  }
 },
 "nbformat": 4,
 "nbformat_minor": 2
}
