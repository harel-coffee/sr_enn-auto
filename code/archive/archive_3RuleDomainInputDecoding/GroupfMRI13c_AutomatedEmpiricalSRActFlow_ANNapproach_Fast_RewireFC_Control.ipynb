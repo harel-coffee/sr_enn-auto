{
 "cells": [
  {
   "cell_type": "markdown",
   "metadata": {},
   "source": [
    "# GroupfMRI13a - Automated SRActFlow using ANN-inspired representations\n",
    "#### Analysis 1 - Full model, SRActFlow decoding\n",
    "#### Control 1 - Remove nonlinearities\n",
    "\n",
    "\n",
    "Takuya Ito\n",
    "\n",
    "10/24/2019"
   ]
  },
  {
   "cell_type": "code",
   "execution_count": 1,
   "metadata": {},
   "outputs": [],
   "source": [
    "import numpy as np\n",
    "import matplotlib.pyplot as plt\n",
    "%matplotlib inline\n",
    "import multiprocessing as mp\n",
    "import scipy.stats as stats\n",
    "import os\n",
    "os.environ['OMP_NUM_THREADS'] = str(1)\n",
    "import statsmodels.sandbox.stats.multicomp as mc\n",
    "import seaborn as sns\n",
    "import h5py\n",
    "import tools_group_rsa as tools_group\n",
    "import nibabel as nib\n",
    "import EmpiricalSRActFlow_ANN_RSA_v2 as esr\n",
    "sns.set_style(\"whitegrid\")\n",
    "plt.rcParams[\"font.family\"] = \"FreeSans\"\n",
    "import pandas as pd\n",
    "import time\n"
   ]
  },
  {
   "cell_type": "code",
   "execution_count": 2,
   "metadata": {},
   "outputs": [],
   "source": [
    "# Excluding 084\n",
    "subjNums = ['013','014','016','017','018','021','023','024','026','027','028','030','031','032','033',\n",
    "            '034','035','037','038','039','040','041','042','043','045','046','047','048','049','050',\n",
    "            '053','055','056','057','058','062','063','066','067','068','069','070','072','074','075',\n",
    "            '076','077','081','085','086','087','088','090','092','093','094','095','097','098','099',\n",
    "            '101','102','103','104','105','106','108','109','110','111','112','114','115','117','119',\n",
    "            '120','121','122','123','124','125','126','127','128','129','130','131','132','134','135',\n",
    "            '136','137','138','139','140','141']\n",
    "\n",
    "\n",
    "\n",
    "basedir = '/projects3/SRActFlow/'\n",
    "\n",
    "# Using final partition\n",
    "networkdef = np.loadtxt('/projects3/NetworkDiversity/data/network_partition.txt')\n",
    "networkorder = np.asarray(sorted(range(len(networkdef)), key=lambda k: networkdef[k]))\n",
    "networkorder.shape = (len(networkorder),1)\n",
    "# network mappings for final partition set\n",
    "networkmappings = {'fpn':7, 'vis1':1, 'vis2':2, 'smn':3, 'aud':8, 'lan':6, 'dan':5, 'con':4, 'dmn':9, \n",
    "                   'pmulti':10, 'none1':11, 'none2':12}\n",
    "networks = networkmappings.keys()\n",
    "\n",
    "xticks = {}\n",
    "reorderednetworkaffil = networkdef[networkorder]\n",
    "for net in networks:\n",
    "    netNum = networkmappings[net]\n",
    "    netind = np.where(reorderednetworkaffil==netNum)[0]\n",
    "    tick = np.max(netind)\n",
    "    xticks[tick] = net\n",
    "\n",
    "## General parameters/variables\n",
    "nParcels = 360\n",
    "nSubjs = len(subjNums)\n",
    "\n",
    "glasserfile2 = '/projects/AnalysisTools/ParcelsGlasser2016/Q1-Q6_RelatedParcellation210.LR.CorticalAreas_dil_Colors.32k_fs_RL.dlabel.nii'\n",
    "glasser2 = nib.load(glasserfile2).get_data()\n",
    "glasser2 = np.squeeze(glasser2)\n",
    "\n",
    "sortednets = np.sort(xticks.keys())\n",
    "orderednetworks = []\n",
    "for net in sortednets: orderednetworks.append(xticks[net])\n",
    "    \n",
    "networkpalette = ['royalblue','slateblue','paleturquoise','darkorchid','limegreen',\n",
    "                  'lightseagreen','yellow','orchid','r','peru','orange','olivedrab']\n",
    "networkpalette = np.asarray(networkpalette)\n",
    "\n",
    "OrderedNetworks = ['VIS1','VIS2','SMN','CON','DAN','LAN','FPN','AUD','DMN','PMM','VMM','ORA']"
   ]
  },
  {
   "cell_type": "markdown",
   "metadata": {},
   "source": [
    "# Load real motor response data"
   ]
  },
  {
   "cell_type": "code",
   "execution_count": 3,
   "metadata": {},
   "outputs": [],
   "source": [
    "tools_group = reload(tools_group)\n",
    "nResponses = 2\n",
    "data_task_rh = np.zeros((len(glasser2),nResponses,len(subjNums)))\n",
    "data_task_lh = np.zeros((len(glasser2),nResponses,len(subjNums)))\n",
    "\n",
    "scount = 0\n",
    "for subj in subjNums:\n",
    "    data_task_rh[:,:,scount] = np.real(tools_group.loadMotorResponses(subj,hand='Right'))\n",
    "    data_task_lh[:,:,scount] = np.real(tools_group.loadMotorResponses(subj,hand='Left'))\n",
    "    scount += 1"
   ]
  },
  {
   "cell_type": "markdown",
   "metadata": {},
   "source": [
    "#### Identify target vertices"
   ]
  },
  {
   "cell_type": "code",
   "execution_count": 4,
   "metadata": {},
   "outputs": [],
   "source": [
    "# Set indices for layer-by-layer vertices\n",
    "targetdir = '/projects3/SRActFlow/data/results/GroupfMRI/MotorResponseDecoding/'\n",
    "motor_resp_regions_LH = np.loadtxt(targetdir + 'MotorResponseRegions_LH.csv',delimiter=',')\n",
    "motor_resp_regions_RH = np.loadtxt(targetdir + 'MotorResponseRegions_RH.csv',delimiter=',')\n",
    "targetROIs = np.hstack((motor_resp_regions_LH,motor_resp_regions_RH))\n",
    "\n",
    "target_ind = []\n",
    "for roi in targetROIs:\n",
    "    roi_ind = np.where(glasser2==roi+1)[0]\n",
    "    target_ind.extend(roi_ind)\n",
    "target_ind = np.asarray(target_ind)"
   ]
  },
  {
   "cell_type": "markdown",
   "metadata": {},
   "source": [
    "# Define functions for motor response decodings"
   ]
  },
  {
   "cell_type": "markdown",
   "metadata": {},
   "source": [
    "#### Load in FC mappings"
   ]
  },
  {
   "cell_type": "code",
   "execution_count": 5,
   "metadata": {},
   "outputs": [],
   "source": [
    "tools_group = reload(tools_group)\n",
    "inputtypes = ['color','ori','pitch','constant']\n",
    "inputkeys = ['RED','VERTICAL','HIGH','CONSTANT']\n",
    "fc_input2hidden = {}\n",
    "eig_input2hidden = {}\n",
    "i = 0\n",
    "for inputtype in inputtypes:\n",
    "    fc_input2hidden[inputkeys[i]], eig_input2hidden[inputkeys[i]] = tools_group.loadGroupActFlowFC(inputtype,pc_space=True)\n",
    "    i += 1\n",
    "    \n",
    "# Load rules to hidden FC mappings\n",
    "fc_logic2hidden, eig_logic2hidden = tools_group.loadGroupActFlowFC('Logic',pc_space=True)\n",
    "fc_sensory2hidden, eig_sensory2hidden = tools_group.loadGroupActFlowFC('Sensory',pc_space=True)\n",
    "fc_motor2hidden, eig_motor2hidden = tools_group.loadGroupActFlowFC('Motor',pc_space=True)\n",
    "\n",
    "# Load hidden to motor resp mappings\n",
    "fc_hidden2motorresp, eig_hidden2motorresp = tools_group.loadGroupActFlowFC('hidden2out',pc_space=True)"
   ]
  },
  {
   "cell_type": "markdown",
   "metadata": {},
   "source": [
    "#### Generate trials to simulate empirical brain computational models"
   ]
  },
  {
   "cell_type": "code",
   "execution_count": 6,
   "metadata": {},
   "outputs": [],
   "source": [
    "esr = reload(esr)\n",
    "filename='/projects3/SRActFlow/data/results/GroupfMRI/RSA/EmpiricalSRActFlow_AllTrialKeys_15stims_v2.csv' # Good\n",
    "filename='/projects3/SRActFlow/data/results/GroupfMRI/RSA/EmpiricalSRActFlow_AllTrialKeys_15stims_v3.csv' # Great\n",
    "# filename='/projects3/SRActFlow/data/results/GroupfMRI/RSA/tmp.csv'\n",
    "# esr.constructTasks(n_stims=15,filename=filename)\n",
    "\n",
    "trial_metadata = pd.read_csv(filename)"
   ]
  },
  {
   "cell_type": "markdown",
   "metadata": {},
   "source": [
    "#### Define wrapper function for SRActFlow"
   ]
  },
  {
   "cell_type": "code",
   "execution_count": 7,
   "metadata": {},
   "outputs": [
    {
     "name": "stdout",
     "output_type": "stream",
     "text": [
      "Subject 013... Simulating 960 Trials\n",
      "Subject 017... Simulating 960 Trials\n",
      "Subject 023... Simulating 960 Trials\n",
      "Subject 027... Simulating 960 Trials\n",
      "Subject 031... Simulating 960 Trials\n",
      "Subject 034... Simulating 960 Trials\n",
      "Subject 038... Simulating 960 Trials\n",
      "Subject 041... Simulating 960 Trials\n",
      "Subject 032... Simulating 960 Trials\n",
      "Subject 035... Simulating 960 Trials\n",
      "Subject 024... Simulating 960 Trials\n",
      "Subject 042... Simulating 960 Trials\n",
      "Subject 039... Simulating 960 Trials\n",
      "Subject 018... Simulating 960 Trials\n",
      "Subject 014... Simulating 960 Trials\n",
      "Subject 028... Simulating 960 Trials\n",
      "Subject 037... Simulating 960 Trials\n",
      "Subject 043... Simulating 960 Trials\n",
      "Subject 040... Simulating 960 Trials\n",
      "Subject 033... Simulating 960 Trials\n",
      "Subject 026... Simulating 960 Trials\n",
      "Subject 021... Simulating 960 Trials\n",
      "Subject 016... Simulating 960 Trials\n",
      "Subject 030... Simulating 960 Trials\n",
      "Subject 045... Simulating 960 Trials\n",
      "Subject 048... Simulating 960 Trials\n",
      "Subject 053... Simulating 960 Trials\n",
      "Subject 057... Simulating 960 Trials\n",
      "Subject 063... Simulating 960 Trials\n",
      "Subject 068... Simulating 960 Trials\n",
      "Subject 072... Simulating 960 Trials\n",
      "Subject 076... Simulating 960 Trials\n",
      "Subject 046... Simulating 960 Trials\n",
      "Subject 058... Simulating 960 Trials\n",
      "Subject 055... Simulating 960 Trials\n",
      "Subject 049... Simulating 960 Trials\n",
      "Subject 074... Simulating 960 Trials\n",
      "Subject 069... Simulating 960 Trials\n",
      "Subject 047... Simulating 960 Trials\n",
      "Subject 066... Simulating 960 Trials\n",
      "Subject 077... Simulating 960 Trials\n",
      "Subject 062... Simulating 960 Trials\n",
      "Subject 056... Simulating 960 Trials\n",
      "Subject 050... Simulating 960 Trials\n",
      "Subject 075... Simulating 960 Trials\n",
      "Subject 070... Simulating 960 Trials\n",
      "Subject 067... Simulating 960 Trials\n",
      "Subject 081... Simulating 960 Trials\n",
      "Subject 085... Simulating 960 Trials\n",
      "Subject 088... Simulating 960 Trials\n",
      "Subject 093... Simulating 960 Trials\n",
      "Subject 097... Simulating 960 Trials\n",
      "Subject 101... Simulating 960 Trials\n",
      "Subject 104... Simulating 960 Trials\n",
      "Subject 108... Simulating 960 Trials\n",
      "Subject 090... Simulating 960 Trials\n",
      "Subject 086... Simulating 960 Trials\n",
      "Subject 111... Simulating 960 Trials\n",
      "Subject 094... Simulating 960 Trials\n",
      "Subject 098... Simulating 960 Trials\n",
      "Subject 105... Simulating 960 Trials\n",
      "Subject 102... Simulating 960 Trials\n",
      "Subject 109... Simulating 960 Trials\n",
      "Subject 087... Simulating 960 Trials\n",
      "Subject 092... Simulating 960 Trials\n",
      "Subject 112... Simulating 960 Trials\n",
      "Subject 095... Simulating 960 Trials\n",
      "Subject 106... Simulating 960 Trials\n",
      "Subject 099... Simulating 960 Trials\n",
      "Subject 103... Simulating 960 Trials\n",
      "Subject 110... Simulating 960 Trials\n",
      "Subject 115... Simulating 960 Trials\n",
      "Subject 120... Simulating 960 Trials\n",
      "Subject 114... Simulating 960 Trials\n",
      "Subject 123... Simulating 960 Trials\n",
      "Subject 126... Simulating 960 Trials\n",
      "Subject 129... Simulating 960 Trials\n",
      "Subject 121... Simulating 960 Trials\n",
      "Subject 117... Simulating 960 Trials\n",
      "Subject 132... Simulating 960 Trials\n",
      "Subject 136... Simulating 960 Trials\n",
      "Subject 124... Simulating 960 Trials\n",
      "Subject 139... Simulating 960 Trials\n",
      "Subject 130... Simulating 960 Trials\n",
      "Subject 127... Simulating 960 Trials\n",
      "Subject 122... Simulating 960 Trials\n",
      "Subject 134... Simulating 960 Trials\n",
      "Subject 125... Simulating 960 Trials\n",
      "Subject 119... Simulating 960 Trials\n",
      "Subject 137... Simulating 960 Trials\n",
      "Subject 131... Simulating 960 Trials\n",
      "Subject 128... Simulating 960 Trials\n",
      "Subject 140... Simulating 960 Trials\n",
      "Subject 135... Simulating 960 Trials\n",
      "Subject 138... Simulating 960 Trials\n",
      "Subject 141... Simulating 960 Trials\n",
      "time elapsed: 887.492388964\n"
     ]
    }
   ],
   "source": [
    "esr = reload(esr)\n",
    "def subjSRActFlow_PCFC((subj,trial_metadata)):\n",
    "    print('Subject ' + subj + '... Simulating ' + str(len(trial_metadata)) + ' Trials')\n",
    "    obj = esr.EmpiricalActFlow(subj)\n",
    "    # Input\n",
    "    obj.fc_input2hidden = fc_input2hidden\n",
    "    obj.eig_input2hidden = eig_input2hidden\n",
    "    # Rules\n",
    "    obj.fc_logic2hidden = fc_logic2hidden\n",
    "    obj.eig_logic2hidden = eig_logic2hidden\n",
    "    obj.fc_sensory2hidden = fc_sensory2hidden\n",
    "    obj.eig_sensory2hidden = eig_sensory2hidden\n",
    "    obj.fc_motor2hidden = fc_motor2hidden\n",
    "    obj.eig_motor2hidden = eig_motor2hidden\n",
    "    # hidden 2 motor\n",
    "    obj.fc_hidden2motorresp = fc_hidden2motorresp\n",
    "    obj.eig_hidden2motorresp = eig_hidden2motorresp\n",
    "    \n",
    "    obj.extractAllActivations(trial_metadata)\n",
    "\n",
    "    actflow = obj.generateActFlowPredictions_PCFC(thresh=0,verbose=False)\n",
    "    actflow_control = obj.generateActFlowPredictions_PCFC(thresh=None,verbose=False)\n",
    "    del obj\n",
    "    return actflow, actflow_control\n",
    "\n",
    "global fc_input2hidden\n",
    "global fc_logic2hidden\n",
    "global fc_sensory2hidden\n",
    "global fc_motor2hidden\n",
    "\n",
    "inputs = []\n",
    "for i in range(len(subjNums)):\n",
    "    inputs.append((subjNums[i],trial_metadata))\n",
    "\n",
    "timestart = time.time()\n",
    "pool = mp.Pool(processes=8)\n",
    "results = pool.map_async(subjSRActFlow_PCFC,inputs).get()\n",
    "pool.close()\n",
    "pool.join()\n",
    "timeend = time.time()\n",
    "print \"time elapsed:\", timeend-timestart\n",
    "\n",
    "actflow_predictions = np.zeros((len(subjNums),len(target_ind),4))\n",
    "actflow_predictions_control = np.zeros((len(subjNums),len(target_ind),4))\n",
    "scount = 0\n",
    "for result in results:\n",
    "    actflow_predictions[scount,:,:] = result[0]\n",
    "    actflow_predictions_control[scount,:,:] = result[1]\n",
    "    scount += 1\n",
    "\n"
   ]
  },
  {
   "cell_type": "markdown",
   "metadata": {},
   "source": [
    "#### Compute average activity for each response, for each subject"
   ]
  },
  {
   "cell_type": "code",
   "execution_count": 8,
   "metadata": {},
   "outputs": [],
   "source": [
    "scount = 0\n",
    "actflow_rh = np.zeros(data_task_rh.shape)\n",
    "actflow_lh = np.zeros(data_task_lh.shape)\n",
    "for scount in range(len(subjNums)):\n",
    "    # RMID\n",
    "    actflow_rh[target_ind,0,scount] = actflow_predictions[scount,:,2]\n",
    "    # RIND\n",
    "    actflow_rh[target_ind,1,scount] = actflow_predictions[scount,:,3]\n",
    "    # LMID\n",
    "    actflow_lh[target_ind,0,scount] = actflow_predictions[scount,:,0]\n",
    "    # LIND\n",
    "    actflow_lh[target_ind,1,scount] = actflow_predictions[scount,:,1]\n"
   ]
  },
  {
   "cell_type": "markdown",
   "metadata": {},
   "source": [
    "# Run across subject decoding on right-hand motor responses"
   ]
  },
  {
   "cell_type": "markdown",
   "metadata": {},
   "source": [
    "#### Run decoding"
   ]
  },
  {
   "cell_type": "code",
   "execution_count": 9,
   "metadata": {},
   "outputs": [],
   "source": [
    "tmp = np.squeeze(nib.load('/projects3/SRActFlow/data/results/GroupfMRI/MotorRegionsMasksPerSubj/sractflow_smn_outputRH_mask.dscalar.nii').get_data())\n",
    "\n",
    "targetmask_ind = np.where(tmp==True)[0]\n",
    "\n",
    "# tvals = np.squeeze(nib.load('/projects3/SRActFlow/data/results/GroupfMRI/MotorRegionsMasksPerSubj/sractflow_smn_outputRH_mask_tvals.dscalar.nii').get_data())\n",
    "# pos_ind = np.where(tvals>0)[0]\n",
    "# neg_ind = np.where(tvals<0)[0]\n",
    "\n",
    "# actflow_rh_downsampled = np.zeros((2,2,len(subjNums)))\n",
    "# data_rh_downsampled =  np.zeros((2,2,len(subjNums)))\n",
    "\n",
    "# actflow_rh_copy = stats.zscore(actflow_rh,axis=0)\n",
    "# data_rh_copy = stats.zscore(data_task_rh,axis=0)\n",
    "# actflow_rh_downsampled[0,:,:] = np.mean(actflow_rh_copy[pos_ind,:,:],axis=0)\n",
    "# actflow_rh_downsampled[1,:,:] = np.mean(actflow_rh_copy[neg_ind,:,:],axis=0)\n",
    "# data_rh_downsampled[0,:,:] = np.mean(data_rh_copy[pos_ind,:,:],axis=0)\n",
    "# data_rh_downsampled[1,:,:] = np.mean(data_rh_copy[neg_ind,:,:],axis=0)\n"
   ]
  },
  {
   "cell_type": "code",
   "execution_count": 10,
   "metadata": {},
   "outputs": [],
   "source": [
    "tools_group = reload(tools_group)\n",
    "nproc = 20\n",
    "nResponses = 2\n",
    "ncvs = 1\n",
    "\n",
    "# rois = np.asarray([8,52,9])-1\n",
    "# rois = np.asarray([8,52])-1\n",
    "rois = np.where(networkdef==networkmappings['smn'])[0]\n",
    "roi_ind = []\n",
    "for roi in rois:\n",
    "    roi_ind.extend(np.where(glasser2==roi+1)[0])\n",
    "\n",
    "roi_ind = np.intersect1d(targetmask_ind,roi_ind)\n",
    "# roi_ind = targetmask_ind\n",
    "\n",
    "# realdata = stats.zscore(data_task_rh[target_ind,:,:],axis=0).copy()\n",
    "# flowdata = stats.zscore(actflow_rh[target_ind,:,:],axis=0).copy()\n",
    "realdata = data_task_rh[roi_ind,:,:].copy()\n",
    "flowdata = actflow_rh[roi_ind,:,:].copy()\n",
    "\n",
    "\n",
    "distances_baseline_rh = np.zeros((1,len(subjNums)*nResponses))\n",
    "distances_baseline_rh[0,:],rmatch,rmismatch = tools_group.actflowDecodings(realdata,\n",
    "                                                          flowdata,effects=True,\n",
    "                                                          ncvs=ncvs, nproc=nproc)"
   ]
  },
  {
   "cell_type": "markdown",
   "metadata": {},
   "source": [
    "#### Compute statistics"
   ]
  },
  {
   "cell_type": "code",
   "execution_count": 11,
   "metadata": {},
   "outputs": [
    {
     "name": "stdout",
     "output_type": "stream",
     "text": [
      "Activity flow accuracy = 0.6875\n",
      "p = 1.0909303308852291e-07\n",
      "Matched spatial correlation: 0.014503924042703514\n",
      "Mismatched spatial correlation: -0.014503924042703753\n"
     ]
    }
   ],
   "source": [
    "statistics_rh = np.zeros((distances_baseline_rh.shape[0],2))\n",
    "ntrials = len(subjNums)*2\n",
    "p = stats.binom_test(np.mean(distances_baseline_rh[0,:])*ntrials,n=ntrials,p=0.5)\n",
    "if np.mean(distances_baseline_rh[0,:])>0.5:\n",
    "    p = p/2.0\n",
    "else:\n",
    "    p = 1.0-p/2.0\n",
    "\n",
    "    \n",
    "statistics_rh[0,0] = np.mean(distances_baseline_rh[0,:])\n",
    "statistics_rh[0,1] = p\n",
    "\n",
    "print 'Activity flow accuracy =', statistics_rh[0,0]\n",
    "print 'p =', statistics_rh[0,1]\n",
    "print 'Matched spatial correlation:', np.mean(rmatch)\n",
    "print 'Mismatched spatial correlation:', np.mean(rmismatch)\n",
    "\n"
   ]
  },
  {
   "cell_type": "markdown",
   "metadata": {},
   "source": [
    "#### Load permutation distributions"
   ]
  },
  {
   "cell_type": "code",
   "execution_count": 24,
   "metadata": {},
   "outputs": [
    {
     "name": "stdout",
     "output_type": "stream",
     "text": [
      "Permutation p-value: p = 0.046\n"
     ]
    },
    {
     "data": {
      "text/plain": [
       "Text(0.5,0,'Accuracy')"
      ]
     },
     "execution_count": 24,
     "metadata": {},
     "output_type": "execute_result"
    },
    {
     "data": {
      "image/png": "[encoded data removed]",
      "text/plain": [
       "<Figure size 504x360 with 1 Axes>"
      ]
     },
     "metadata": {
      "needs_background": "light"
     },
     "output_type": "display_data"
    }
   ],
   "source": [
    "dist = np.loadtxt('PermutationTest_ConnectivityRewire_RH_all.csv',delimiter=',')\n",
    "print 'Permutation p-value: p =', np.sum(dist>statistics_rh[0,0])/float(len(dist))\n",
    "plt.figure(figsize=(7,5))\n",
    "sns.distplot(dist)\n",
    "plt.title('Rewiring permutation distribution RH - LOGIC',fontsize=24)\n",
    "plt.xlabel('Accuracy',fontsize=20)"
   ]
  },
  {
   "cell_type": "markdown",
   "metadata": {},
   "source": [
    "# Run across subject decoding on left-hand motor responses"
   ]
  },
  {
   "cell_type": "code",
   "execution_count": 26,
   "metadata": {},
   "outputs": [
    {
     "name": "stdout",
     "output_type": "stream",
     "text": [
      "\n"
     ]
    }
   ],
   "source": [
    "tmp = np.squeeze(nib.load('/projects3/SRActFlow/data/results/GroupfMRI/MotorRegionsMasksPerSubj/sractflow_smn_outputLH_mask.dscalar.nii').get_data())\n",
    "\n",
    "targetmask_ind = np.where(tmp==True)[0]"
   ]
  },
  {
   "cell_type": "markdown",
   "metadata": {},
   "source": [
    "#### Run decoding"
   ]
  },
  {
   "cell_type": "code",
   "execution_count": 27,
   "metadata": {},
   "outputs": [],
   "source": [
    "tools_group = reload(tools_group)\n",
    "nproc = 20\n",
    "ncvs = 1\n",
    "\n",
    "# rois = np.asarray([188,189,232]) - 1\n",
    "# rois = np.asarray([188,232]) - 1\n",
    "# rois = np.asarray([189]) - 1\n",
    "rois = np.where(networkdef==networkmappings['smn'])[0]\n",
    "roi_ind = []\n",
    "for roi in rois:\n",
    "    roi_ind.extend(np.where(glasser2==roi+1)[0])\n",
    "    \n",
    "roi_ind = np.intersect1d(targetmask_ind,roi_ind)\n",
    "# roi_ind = targetmask_ind\n",
    "\n",
    "# realdata = stats.zscore(data_task_lh[roi_ind,:,:],axis=0).copy()\n",
    "# flowdata = stats.zscore(actflow_lh[roi_ind,:,:],axis=0).copy()\n",
    "realdata = data_task_lh[roi_ind,:,:].copy()\n",
    "flowdata = actflow_lh[roi_ind,:,:].copy()\n",
    "\n",
    "\n",
    "distances_baseline_lh = np.zeros((1,len(subjNums)*nResponses))\n",
    "distances_baseline_lh[0,:],rmatch,rmismatch = tools_group.actflowDecodings(realdata,\n",
    "                                                          flowdata,effects=True,\n",
    "                                                          ncvs=ncvs, nproc=nproc)\n",
    "    "
   ]
  },
  {
   "cell_type": "markdown",
   "metadata": {},
   "source": [
    "#### Compute statistics"
   ]
  },
  {
   "cell_type": "code",
   "execution_count": 28,
   "metadata": {},
   "outputs": [
    {
     "name": "stdout",
     "output_type": "stream",
     "text": [
      "Activity flow accuracy = 0.6041666666666666\n",
      "p = 0.0023776187427737637\n",
      "Matched spatial correlation: 0.014166793023292518\n",
      "Mismatched spatial correlation: -0.014166793023291184\n"
     ]
    }
   ],
   "source": [
    "statistics_lh = np.zeros((distances_baseline_lh.shape[0],2))\n",
    "ntrials = len(subjNums)*2\n",
    "p = stats.binom_test(np.mean(distances_baseline_lh[0,:])*ntrials,n=ntrials,p=0.5)\n",
    "if np.mean(distances_baseline_lh[0,:])>0.5:\n",
    "    p = p/2.0\n",
    "else:\n",
    "    p = 1.0-p/2.0\n",
    "\n",
    "    \n",
    "statistics_lh[0,0] = np.mean(distances_baseline_lh[0,:])\n",
    "statistics_lh[0,1] = p\n",
    "\n",
    "print 'Activity flow accuracy =', statistics_lh[0,0]\n",
    "print 'p =', statistics_lh[0,1]\n",
    "print 'Matched spatial correlation:', np.mean(rmatch)\n",
    "print 'Mismatched spatial correlation:', np.mean(rmismatch)\n",
    "\n"
   ]
  },
  {
   "cell_type": "markdown",
   "metadata": {},
   "source": [
    "#### Load permutation distributions"
   ]
  },
  {
   "cell_type": "code",
   "execution_count": 29,
   "metadata": {},
   "outputs": [
    {
     "name": "stdout",
     "output_type": "stream",
     "text": [
      "Permutation p-value: p = 0.382\n"
     ]
    },
    {
     "data": {
      "text/plain": [
       "Text(0.5,0,'Accuracy')"
      ]
     },
     "execution_count": 29,
     "metadata": {},
     "output_type": "execute_result"
    },
    {
     "data": {
      "image/png": "[encoded data removed]",
      "text/plain": [
       "<Figure size 504x360 with 1 Axes>"
      ]
     },
     "metadata": {
      "needs_background": "light"
     },
     "output_type": "display_data"
    }
   ],
   "source": [
    "dist = np.loadtxt('PermutationTest_ConnectivityRewire_LH_all.csv',delimiter=',')\n",
    "print 'Permutation p-value: p =', np.sum(dist>statistics_lh[0,0])/float(len(dist))\n",
    "plt.figure(figsize=(7,5))\n",
    "sns.distplot(dist)\n",
    "plt.title('Rewiring permutation distribution LH - LOGIC',fontsize=24)\n",
    "plt.xlabel('Accuracy',fontsize=20)"
   ]
  },
  {
   "cell_type": "markdown",
   "metadata": {},
   "source": [
    "___"
   ]
  },
  {
   "cell_type": "markdown",
   "metadata": {},
   "source": [
    "# Run analysis for Control (No threshold) variant"
   ]
  },
  {
   "cell_type": "markdown",
   "metadata": {},
   "source": [
    "#### Compute average activity for each response, for each subject"
   ]
  },
  {
   "cell_type": "code",
   "execution_count": 816,
   "metadata": {},
   "outputs": [],
   "source": [
    "scount = 0\n",
    "actflow_rh = np.zeros(data_task_rh.shape)\n",
    "actflow_lh = np.zeros(data_task_lh.shape)\n",
    "for scount in range(len(subjNums)):\n",
    "    # RMID\n",
    "    actflow_rh[target_ind,0,scount] = actflow_predictions_control[scount,:,2]\n",
    "    # RIND\n",
    "    actflow_rh[target_ind,1,scount] = actflow_predictions_control[scount,:,3]\n",
    "    # LMID\n",
    "    actflow_lh[target_ind,0,scount] = actflow_predictions_control[scount,:,0]\n",
    "    # LIND\n",
    "    actflow_lh[target_ind,1,scount] = actflow_predictions_control[scount,:,1]\n"
   ]
  },
  {
   "cell_type": "markdown",
   "metadata": {},
   "source": [
    "# Run across subject decoding on right-hand motor responses"
   ]
  },
  {
   "cell_type": "markdown",
   "metadata": {},
   "source": [
    "#### Run decoding"
   ]
  },
  {
   "cell_type": "code",
   "execution_count": 817,
   "metadata": {},
   "outputs": [],
   "source": [
    "tmp = np.squeeze(nib.load('/projects3/SRActFlow/data/results/GroupfMRI/MotorRegionsMasksPerSubj/sractflow_smn_outputRH_mask.dscalar.nii').get_data())\n",
    "\n",
    "targetmask_ind = np.where(tmp==True)[0]\n",
    "\n",
    "# tvals = np.squeeze(nib.load('/projects3/SRActFlow/data/results/GroupfMRI/MotorRegionsMasksPerSubj/sractflow_smn_outputRH_mask_tvals.dscalar.nii').get_data())\n",
    "# pos_ind = np.where(tvals>0)[0]\n",
    "# neg_ind = np.where(tvals<0)[0]\n",
    "\n",
    "# actflow_rh_downsampled = np.zeros((2,2,len(subjNums)))\n",
    "# data_rh_downsampled =  np.zeros((2,2,len(subjNums)))\n",
    "\n",
    "# actflow_rh_copy = stats.zscore(actflow_rh,axis=0)\n",
    "# data_rh_copy = stats.zscore(data_task_rh,axis=0)\n",
    "# actflow_rh_downsampled[0,:,:] = np.mean(actflow_rh_copy[pos_ind,:,:],axis=0)\n",
    "# actflow_rh_downsampled[1,:,:] = np.mean(actflow_rh_copy[neg_ind,:,:],axis=0)\n",
    "# data_rh_downsampled[0,:,:] = np.mean(data_rh_copy[pos_ind,:,:],axis=0)\n",
    "# data_rh_downsampled[1,:,:] = np.mean(data_rh_copy[neg_ind,:,:],axis=0)\n"
   ]
  },
  {
   "cell_type": "code",
   "execution_count": 818,
   "metadata": {},
   "outputs": [],
   "source": [
    "tools_group = reload(tools_group)\n",
    "nproc = 20\n",
    "nResponses = 2\n",
    "ncvs = 1\n",
    "\n",
    "# rois = np.asarray([8,52,9])-1\n",
    "# rois = np.asarray([8,52])-1\n",
    "rois = np.where(networkdef==networkmappings['smn'])[0]\n",
    "roi_ind = []\n",
    "for roi in rois:\n",
    "    roi_ind.extend(np.where(glasser2==roi+1)[0])\n",
    "\n",
    "roi_ind = np.intersect1d(targetmask_ind,roi_ind)\n",
    "# roi_ind = targetmask_ind\n",
    "\n",
    "# realdata = stats.zscore(data_task_rh[target_ind,:,:],axis=0).copy()\n",
    "# flowdata = stats.zscore(actflow_rh[target_ind,:,:],axis=0).copy()\n",
    "realdata = data_task_rh[roi_ind,:,:].copy()\n",
    "flowdata = actflow_rh[roi_ind,:,:].copy()\n",
    "\n",
    "\n",
    "distances_baseline_rh = np.zeros((1,len(subjNums)*nResponses))\n",
    "distances_baseline_rh[0,:],rmatch,rmismatch = tools_group.actflowDecodings(realdata,\n",
    "                                                          flowdata,effects=True,\n",
    "                                                          ncvs=ncvs, nproc=nproc)"
   ]
  },
  {
   "cell_type": "markdown",
   "metadata": {},
   "source": [
    "#### Compute statistics"
   ]
  },
  {
   "cell_type": "code",
   "execution_count": 819,
   "metadata": {},
   "outputs": [
    {
     "name": "stdout",
     "output_type": "stream",
     "text": [
      "Activity flow accuracy = 0.510416666667\n",
      "p = 0.414331714586\n",
      "Matched spatial correlation: -0.00689735174473\n",
      "Mismatched spatial correlation: -0.00799503441578\n"
     ]
    }
   ],
   "source": [
    "statistics_rh = np.zeros((distances_baseline_rh.shape[0],2))\n",
    "ntrials = len(subjNums)*2\n",
    "p = stats.binom_test(np.mean(distances_baseline_rh[0,:])*ntrials,n=ntrials,p=0.5)\n",
    "if np.mean(distances_baseline_rh[0,:])>0.5:\n",
    "    p = p/2.0\n",
    "else:\n",
    "    p = 1.0-p/2.0\n",
    "\n",
    "    \n",
    "statistics_rh[0,0] = np.mean(distances_baseline_rh[0,:])\n",
    "statistics_rh[0,1] = p\n",
    "\n",
    "print 'Activity flow accuracy =', statistics_rh[0,0]\n",
    "print 'p =', statistics_rh[0,1]\n",
    "print 'Matched spatial correlation:', np.mean(rmatch)\n",
    "print 'Mismatched spatial correlation:', np.mean(rmismatch)\n",
    "\n"
   ]
  },
  {
   "cell_type": "markdown",
   "metadata": {},
   "source": [
    "# Run across subject decoding on left-hand motor responses"
   ]
  },
  {
   "cell_type": "code",
   "execution_count": 820,
   "metadata": {},
   "outputs": [],
   "source": [
    "tmp = np.squeeze(nib.load('/projects3/SRActFlow/data/results/GroupfMRI/MotorRegionsMasksPerSubj/sractflow_smn_outputLH_mask.dscalar.nii').get_data())\n",
    "\n",
    "targetmask_ind = np.where(tmp==True)[0]"
   ]
  },
  {
   "cell_type": "markdown",
   "metadata": {},
   "source": [
    "#### Run decoding"
   ]
  },
  {
   "cell_type": "code",
   "execution_count": 821,
   "metadata": {},
   "outputs": [],
   "source": [
    "tools_group = reload(tools_group)\n",
    "nproc = 20\n",
    "ncvs = 1\n",
    "\n",
    "# rois = np.asarray([188,189,232]) - 1\n",
    "# rois = np.asarray([188,232]) - 1\n",
    "# rois = np.asarray([189]) - 1\n",
    "rois = np.where(networkdef==networkmappings['smn'])[0]\n",
    "roi_ind = []\n",
    "for roi in rois:\n",
    "    roi_ind.extend(np.where(glasser2==roi+1)[0])\n",
    "    \n",
    "roi_ind = np.intersect1d(targetmask_ind,roi_ind)\n",
    "# roi_ind = targetmask_ind\n",
    "\n",
    "# realdata = stats.zscore(data_task_lh[roi_ind,:,:],axis=0).copy()\n",
    "# flowdata = stats.zscore(actflow_lh[roi_ind,:,:],axis=0).copy()\n",
    "realdata = data_task_lh[roi_ind,:,:].copy()\n",
    "flowdata = actflow_lh[roi_ind,:,:].copy()\n",
    "\n",
    "\n",
    "distances_baseline_lh = np.zeros((1,len(subjNums)*nResponses))\n",
    "distances_baseline_lh[0,:],rmatch,rmismatch = tools_group.actflowDecodings(realdata,\n",
    "                                                          flowdata,effects=True,\n",
    "                                                          ncvs=ncvs, nproc=nproc)\n",
    "    "
   ]
  },
  {
   "cell_type": "markdown",
   "metadata": {},
   "source": [
    "#### Compute statistics"
   ]
  },
  {
   "cell_type": "code",
   "execution_count": 822,
   "metadata": {},
   "outputs": [
    {
     "name": "stdout",
     "output_type": "stream",
     "text": [
      "Activity flow accuracy = 0.484375\n",
      "p = 0.640840572891\n",
      "Matched spatial correlation: 0.00283976933987\n",
      "Mismatched spatial correlation: 0.00257008178502\n"
     ]
    }
   ],
   "source": [
    "statistics_lh = np.zeros((distances_baseline_lh.shape[0],2))\n",
    "ntrials = len(subjNums)*2\n",
    "p = stats.binom_test(np.mean(distances_baseline_lh[0,:])*ntrials,n=ntrials,p=0.5)\n",
    "if np.mean(distances_baseline_lh[0,:])>0.5:\n",
    "    p = p/2.0\n",
    "else:\n",
    "    p = 1.0-p/2.0\n",
    "\n",
    "    \n",
    "statistics_lh[0,0] = np.mean(distances_baseline_lh[0,:])\n",
    "statistics_lh[0,1] = p\n",
    "\n",
    "print 'Activity flow accuracy =', statistics_lh[0,0]\n",
    "print 'p =', statistics_lh[0,1]\n",
    "print 'Matched spatial correlation:', np.mean(rmatch)\n",
    "print 'Mismatched spatial correlation:', np.mean(rmismatch)\n",
    "\n"
   ]
  },
  {
   "cell_type": "markdown",
   "metadata": {},
   "source": [
    "___"
   ]
  }
 ],
 "metadata": {
  "kernelspec": {
   "display_name": "Python 2",
   "language": "python",
   "name": "python2"
  },
  "language_info": {
   "codemirror_mode": {
    "name": "ipython",
    "version": 2
   },
   "file_extension": ".py",
   "mimetype": "text/x-python",
   "name": "python",
   "nbconvert_exporter": "python",
   "pygments_lexer": "ipython2",
   "version": "2.7.15"
  }
 },
 "nbformat": 4,
 "nbformat_minor": 4
}
