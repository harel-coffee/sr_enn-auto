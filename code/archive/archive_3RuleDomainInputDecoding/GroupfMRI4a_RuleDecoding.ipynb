{
 "cells": [
  {
   "cell_type": "markdown",
   "metadata": {},
   "source": [
    "# Cross-subject decoding rule representations\n",
    "\n",
    "#### Takuya Ito\n",
    "#### 2/28/2018\n",
    "##### Last updated: 11/20/2019"
   ]
  },
  {
   "cell_type": "code",
   "execution_count": 4,
   "metadata": {},
   "outputs": [],
   "source": [
    "import numpy as np\n",
    "import matplotlib.pyplot as plt\n",
    "%matplotlib inline\n",
    "import multiprocessing as mp\n",
    "import scipy.stats as stats\n",
    "import os\n",
    "os.environ['OMP_NUM_THREADS'] = str(1)\n",
    "import statsmodels.sandbox.stats.multicomp as mc\n",
    "import seaborn as sns\n",
    "import h5py\n",
    "import tools_group_rsa as tools_group\n",
    "import nibabel as nib\n",
    "tools_group = reload(tools_group)\n",
    "\n",
    "sns.set_style(\"whitegrid\")\n",
    "plt.rcParams[\"font.family\"] = \"FreeSans\"\n"
   ]
  },
  {
   "cell_type": "code",
   "execution_count": 5,
   "metadata": {},
   "outputs": [],
   "source": [
    "# Excluding 084\n",
    "subjNums = ['013','014','016','017','018','021','023','024','026','027','028','030','031','032','033',\n",
    "            '034','035','037','038','039','040','041','042','043','045','046','047','048','049','050',\n",
    "            '053','055','056','057','058','062','063','066','067','068','069','070','072','074','075',\n",
    "            '076','077','081','085','086','087','088','090','092','093','094','095','097','098','099',\n",
    "            '101','102','103','104','105','106','108','109','110','111','112','114','115','117','119',\n",
    "            '120','121','122','123','124','125','126','127','128','129','130','131','132','134','135',\n",
    "            '136','137','138','139','140','141']\n",
    "\n",
    "\n",
    "\n",
    "basedir = '/projects3/SRActFlow/'\n",
    "\n",
    "# Using final partition\n",
    "networkdef = np.loadtxt('/projects3/NetworkDiversity/data/network_partition.txt')\n",
    "networkorder = np.asarray(sorted(range(len(networkdef)), key=lambda k: networkdef[k]))\n",
    "networkorder.shape = (len(networkorder),1)\n",
    "# network mappings for final partition set\n",
    "networkmappings = {'fpn':7, 'vis1':1, 'vis2':2, 'smn':3, 'aud':8, 'lan':6, 'dan':5, 'con':4, 'dmn':9, \n",
    "                   'pmulti':10, 'none1':11, 'none2':12}\n",
    "networks = networkmappings.keys()\n",
    "\n",
    "xticks = {}\n",
    "reorderednetworkaffil = networkdef[networkorder]\n",
    "for net in networks:\n",
    "    netNum = networkmappings[net]\n",
    "    netind = np.where(reorderednetworkaffil==netNum)[0]\n",
    "    tick = np.max(netind)\n",
    "    xticks[tick] = net\n",
    "\n",
    "## General parameters/variables\n",
    "nParcels = 360\n",
    "nSubjs = len(subjNums)\n",
    "\n",
    "glasserfile2 = '/projects/AnalysisTools/ParcelsGlasser2016/Q1-Q6_RelatedParcellation210.LR.CorticalAreas_dil_Colors.32k_fs_RL.dlabel.nii'\n",
    "glasser2 = nib.load(glasserfile2).get_data()\n",
    "glasser2 = np.squeeze(glasser2)\n",
    "\n",
    "sortednets = np.sort(xticks.keys())\n",
    "orderednetworks = []\n",
    "for net in sortednets: orderednetworks.append(xticks[net])\n",
    "    \n",
    "networkpalette = ['royalblue','slateblue','paleturquoise','darkorchid','limegreen',\n",
    "                  'lightseagreen','yellow','orchid','r','peru','orange','olivedrab']\n",
    "networkpalette = np.asarray(networkpalette)\n",
    "\n",
    "OrderedNetworks = ['VIS1','VIS2','SMN','CON','DAN','LAN','FPN','AUD','DMN','PMM','VMM','ORA']"
   ]
  },
  {
   "cell_type": "markdown",
   "metadata": {},
   "source": [
    "## 1.0 Load data for LOGIC rules"
   ]
  },
  {
   "cell_type": "code",
   "execution_count": 9,
   "metadata": {},
   "outputs": [
    {
     "name": "stderr",
     "output_type": "stream",
     "text": [
      "/home/tito/miniconda2/lib/python2.7/site-packages/ipykernel_launcher.py:8: ComplexWarning: Casting complex values to real discards the imaginary part\n",
      "  \n"
     ]
    }
   ],
   "source": [
    "# gsr = True\n",
    "nStims = 4\n",
    "data_task = np.zeros((len(glasser2),nStims,len(subjNums)))\n",
    "rule = 'Logic'\n",
    "\n",
    "scount = 0\n",
    "for subj in subjNums:\n",
    "    data_task[:,:,scount] = tools_group.loadInputActivity(subj,rule)\n",
    "    scount += 1"
   ]
  },
  {
   "cell_type": "markdown",
   "metadata": {},
   "source": [
    "#### Run decoding "
   ]
  },
  {
   "cell_type": "code",
   "execution_count": 10,
   "metadata": {},
   "outputs": [],
   "source": [
    "nproc = 30\n",
    "ncvs = 1\n",
    "rois = np.arange(nParcels)\n",
    "\n",
    "distances_baseline_logic = tools_group.conditionDecodings(data_task, rois, motorOutput=False, ncvs=ncvs, nproc=nproc)"
   ]
  },
  {
   "cell_type": "markdown",
   "metadata": {},
   "source": [
    "#### Compute statistics"
   ]
  },
  {
   "cell_type": "code",
   "execution_count": 11,
   "metadata": {},
   "outputs": [
    {
     "name": "stdout",
     "output_type": "stream",
     "text": [
      "Number of ROIs significant for Logic Stimuli: 251\n",
      "Accuracies: [0.3671875  0.3046875  0.36197917 0.36197917 0.38541667 0.296875\n",
      " 0.375      0.34635417 0.36979167 0.359375   0.35416667 0.359375\n",
      " 0.375      0.34895833 0.35416667 0.31510417 0.3359375  0.3046875\n",
      " 0.3125     0.40885417 0.33333333 0.359375   0.35677083 0.36197917\n",
      " 0.3515625  0.33072917 0.29427083 0.46354167 0.43489583 0.36197917\n",
      " 0.32552083 0.32291667 0.3515625  0.34114583 0.3203125  0.296875\n",
      " 0.30208333 0.40364583 0.29166667 0.31510417 0.34635417 0.38802083\n",
      " 0.328125   0.40625    0.38020833 0.29166667 0.34375    0.39322917\n",
      " 0.3046875  0.42447917 0.296875   0.30989583 0.35677083 0.32552083\n",
      " 0.34895833 0.44010417 0.38020833 0.41927083 0.30729167 0.32552083\n",
      " 0.30729167 0.40364583 0.35677083 0.32291667 0.29947917 0.35416667\n",
      " 0.29166667 0.36197917 0.30208333 0.3203125  0.3515625  0.36979167\n",
      " 0.30208333 0.29166667 0.359375   0.34375    0.30729167 0.36979167\n",
      " 0.30208333 0.41666667 0.36197917 0.40364583 0.328125   0.29427083\n",
      " 0.35677083 0.31510417 0.35677083 0.375      0.3203125  0.31770833\n",
      " 0.3125     0.33333333 0.29427083 0.31770833 0.34635417 0.35677083\n",
      " 0.31770833 0.38020833 0.390625   0.35677083 0.29427083 0.30989583\n",
      " 0.375      0.40104167 0.36979167 0.31510417 0.32291667 0.33333333\n",
      " 0.35677083 0.40885417 0.38020833 0.44791667 0.40104167 0.36197917\n",
      " 0.43229167 0.296875   0.33333333 0.3203125  0.31510417 0.296875\n",
      " 0.29166667 0.3671875  0.35416667 0.3125     0.34375    0.29947917\n",
      " 0.29947917 0.3359375  0.36458333 0.33333333 0.41666667 0.3203125\n",
      " 0.33854167 0.359375   0.34895833 0.32291667 0.37760417 0.328125\n",
      " 0.3359375  0.3515625  0.3203125  0.38020833 0.29427083 0.33333333\n",
      " 0.30989583 0.29947917 0.34635417 0.36458333 0.33072917 0.3515625\n",
      " 0.36979167 0.32291667 0.34114583 0.34635417 0.29166667 0.32291667\n",
      " 0.296875   0.30729167 0.33854167 0.43489583 0.375      0.30989583\n",
      " 0.30989583 0.3515625  0.31510417 0.3203125  0.35677083 0.29166667\n",
      " 0.32552083 0.3046875  0.328125   0.36979167 0.37760417 0.296875\n",
      " 0.421875   0.40885417 0.29947917 0.35416667 0.38541667 0.3515625\n",
      " 0.3671875  0.30208333 0.3203125  0.34635417 0.390625   0.37239583\n",
      " 0.3125     0.35677083 0.35416667 0.359375   0.32552083 0.34635417\n",
      " 0.33333333 0.30729167 0.36197917 0.30989583 0.37760417 0.32291667\n",
      " 0.35677083 0.29427083 0.3984375  0.38020833 0.33854167 0.375\n",
      " 0.3515625  0.31770833 0.32291667 0.3046875  0.31770833 0.375\n",
      " 0.29427083 0.30989583 0.30989583 0.34635417 0.31770833 0.30729167\n",
      " 0.29427083 0.35416667 0.38020833 0.32552083 0.38020833 0.32291667\n",
      " 0.4375     0.30989583 0.30989583 0.35416667 0.328125   0.36458333\n",
      " 0.33072917 0.37760417 0.38020833 0.38802083 0.36979167 0.3671875\n",
      " 0.38020833 0.29166667 0.31510417 0.30729167 0.29427083 0.31770833\n",
      " 0.31510417 0.29427083 0.3046875  0.34375    0.3671875  0.3046875\n",
      " 0.32552083 0.29166667 0.296875   0.359375   0.36458333]\n"
     ]
    },
    {
     "data": {
      "text/plain": [
       "0"
      ]
     },
     "execution_count": 11,
     "metadata": {},
     "output_type": "execute_result"
    }
   ],
   "source": [
    "rule = 'Logic'\n",
    "statistics_logic = np.zeros((len(rois),3)) # acc, q, acc_thresh\n",
    "for roicount in range(len(rois)):\n",
    "    ntrials = distances_baseline_logic.shape[1]\n",
    "    p = stats.binom_test(np.mean(distances_baseline_logic[roicount,:])*ntrials,n=ntrials,p=1/float(nStims))\n",
    "    if np.mean(distances_baseline_logic[roicount,:])>1/float(nStims):\n",
    "        p = p/2.0\n",
    "    else:\n",
    "        p = 1.0-p/2.0\n",
    "        \n",
    "\n",
    "    statistics_logic[roicount,0] = np.mean(distances_baseline_logic[roicount,:])\n",
    "    statistics_logic[roicount,1] = p\n",
    "\n",
    "h0, qs = mc.fdrcorrection0(statistics_logic[:,1])\n",
    "for roicount in range(len(rois)):\n",
    "    statistics_logic[roicount,1] = qs[roicount]\n",
    "    statistics_logic[roicount,2] = h0[roicount]*statistics_logic[roicount,0]\n",
    "    \n",
    "# Count number of significant ROIs for LH decoding\n",
    "sig_ind = np.where(statistics_logic[:,1]<0.05)[0]\n",
    "print 'Number of ROIs significant for', rule, 'Stimuli:', sig_ind.shape[0]\n",
    "print 'Accuracies:', statistics_logic[sig_ind,0]\n",
    "\n",
    "#### Map back to surface\n",
    "# Put all data into a single matrix (since we only run a single classification)\n",
    "inputStim = np.zeros((glasser2.shape[0],3))\n",
    "\n",
    "roicount = 0\n",
    "for roi in rois:\n",
    "    vertex_ind = np.where(glasser2==roi+1)[0]\n",
    "    inputStim[vertex_ind,0] = statistics_logic[roicount,0]\n",
    "    inputStim[vertex_ind,1] = statistics_logic[roicount,1]\n",
    "    inputStim[vertex_ind,2] = statistics_logic[roicount,2]\n",
    "\n",
    "    roicount += 1\n",
    "\n",
    "np.savetxt('/projects3/SRActFlow/data/results/GroupfMRI/RuleDecoding/LogicRule_Regions.csv', np.where(statistics_logic[:,1]<0.05)[0], delimiter=',')\n",
    "    \n",
    "#### \n",
    "# Write file to csv and run wb_command\n",
    "outdir = '/projects3/SRActFlow/data/results/GroupfMRI/RuleDecoding/'\n",
    "filename = rule + 'Decoding'\n",
    "np.savetxt(outdir + filename + '.csv', inputStim,fmt='%s')\n",
    "wb_file = filename + '.dscalar.nii'\n",
    "wb_command = 'wb_command -cifti-convert -from-text ' + outdir + filename + '.csv ' + glasserfile2 + ' ' + outdir + wb_file + ' -reset-scalars'\n",
    "os.system(wb_command)\n"
   ]
  },
  {
   "cell_type": "markdown",
   "metadata": {},
   "source": [
    "## 2.0 Load data for SENSORY rules"
   ]
  },
  {
   "cell_type": "code",
   "execution_count": 13,
   "metadata": {},
   "outputs": [
    {
     "name": "stderr",
     "output_type": "stream",
     "text": [
      "/home/tito/miniconda2/lib/python2.7/site-packages/ipykernel_launcher.py:8: ComplexWarning: Casting complex values to real discards the imaginary part\n",
      "  \n"
     ]
    }
   ],
   "source": [
    "# gsr = True\n",
    "nStims = 4\n",
    "data_task = np.zeros((len(glasser2),nStims,len(subjNums)))\n",
    "rule = 'Sensory'\n",
    "\n",
    "scount = 0\n",
    "for subj in subjNums:\n",
    "    data_task[:,:,scount] = tools_group.loadInputActivity(subj,rule)\n",
    "    scount += 1"
   ]
  },
  {
   "cell_type": "markdown",
   "metadata": {},
   "source": [
    "#### Run decoding "
   ]
  },
  {
   "cell_type": "code",
   "execution_count": 14,
   "metadata": {},
   "outputs": [],
   "source": [
    "nproc = 30\n",
    "ncvs = 1\n",
    "rois = np.arange(nParcels)\n",
    "\n",
    "distances_baseline_sensory = tools_group.conditionDecodings(data_task, rois, motorOutput=False, ncvs=ncvs, nproc=nproc)"
   ]
  },
  {
   "cell_type": "markdown",
   "metadata": {},
   "source": [
    "#### Compute statistics"
   ]
  },
  {
   "cell_type": "code",
   "execution_count": 15,
   "metadata": {},
   "outputs": [
    {
     "name": "stdout",
     "output_type": "stream",
     "text": [
      "Number of ROIs significant for Sensory Stimuli: 84\n",
      "Accuracies: [0.41927083 0.38541667 0.32552083 0.390625   0.33072917 0.3515625\n",
      " 0.34375    0.32552083 0.36979167 0.32291667 0.31770833 0.31770833\n",
      " 0.3515625  0.38020833 0.3046875  0.30989583 0.31510417 0.3203125\n",
      " 0.33072917 0.35677083 0.31510417 0.3046875  0.31770833 0.31510417\n",
      " 0.30989583 0.34375    0.3203125  0.328125   0.3984375  0.33072917\n",
      " 0.32552083 0.3203125  0.34635417 0.36458333 0.32552083 0.32552083\n",
      " 0.39322917 0.4140625  0.34114583 0.31770833 0.34375    0.37239583\n",
      " 0.36979167 0.31770833 0.33072917 0.30208333 0.3125     0.34375\n",
      " 0.30729167 0.4296875  0.40104167 0.37760417 0.37239583 0.328125\n",
      " 0.31510417 0.32291667 0.31770833 0.33854167 0.3046875  0.34895833\n",
      " 0.3359375  0.3203125  0.3046875  0.38020833 0.30208333 0.3046875\n",
      " 0.3125     0.30208333 0.34375    0.30729167 0.328125   0.31770833\n",
      " 0.30989583 0.31510417 0.3046875  0.34114583 0.3125     0.3125\n",
      " 0.32552083 0.34895833 0.32291667 0.34895833 0.32291667 0.30208333]\n"
     ]
    },
    {
     "data": {
      "text/plain": [
       "0"
      ]
     },
     "execution_count": 15,
     "metadata": {},
     "output_type": "execute_result"
    }
   ],
   "source": [
    "rule = 'Sensory'\n",
    "statistics_sensory = np.zeros((len(rois),3)) # acc, q, acc_thresh\n",
    "for roicount in range(len(rois)):\n",
    "    ntrials = distances_baseline_sensory.shape[1]\n",
    "    p = stats.binom_test(np.mean(distances_baseline_sensory[roicount,:])*ntrials,n=ntrials,p=1/float(nStims))\n",
    "    if np.mean(distances_baseline_sensory[roicount,:])>1/float(nStims):\n",
    "        p = p/2.0\n",
    "    else:\n",
    "        p = 1.0-p/2.0\n",
    "        \n",
    "\n",
    "    statistics_sensory[roicount,0] = np.mean(distances_baseline_sensory[roicount,:])\n",
    "    statistics_sensory[roicount,1] = p\n",
    "\n",
    "h0, qs = mc.fdrcorrection0(statistics_sensory[:,1])\n",
    "for roicount in range(len(rois)):\n",
    "    statistics_sensory[roicount,1] = qs[roicount]\n",
    "    statistics_sensory[roicount,2] = h0[roicount]*statistics_sensory[roicount,0]\n",
    "    \n",
    "# Count number of significant ROIs for LH decoding\n",
    "sig_ind = np.where(statistics_sensory[:,1]<0.05)[0]\n",
    "print 'Number of ROIs significant for', rule, 'Stimuli:', sig_ind.shape[0]\n",
    "print 'Accuracies:', statistics_sensory[sig_ind,0]\n",
    "\n",
    "#### Map back to surface\n",
    "# Put all data into a single matrix (since we only run a single classification)\n",
    "inputStim = np.zeros((glasser2.shape[0],3))\n",
    "\n",
    "roicount = 0\n",
    "for roi in rois:\n",
    "    vertex_ind = np.where(glasser2==roi+1)[0]\n",
    "    inputStim[vertex_ind,0] = statistics_sensory[roicount,0]\n",
    "    inputStim[vertex_ind,1] = statistics_sensory[roicount,1]\n",
    "    inputStim[vertex_ind,2] = statistics_sensory[roicount,2]\n",
    "\n",
    "    roicount += 1\n",
    "\n",
    "np.savetxt('/projects3/SRActFlow/data/results/GroupfMRI/RuleDecoding/SensoryRule_Regions.csv', np.where(statistics_sensory[:,1]<0.05)[0], delimiter=',')\n",
    "    \n",
    "#### \n",
    "# Write file to csv and run wb_command\n",
    "outdir = '/projects3/SRActFlow/data/results/GroupfMRI/RuleDecoding/'\n",
    "filename = rule + 'Decoding'\n",
    "np.savetxt(outdir + filename + '.csv', inputStim,fmt='%s')\n",
    "wb_file = filename + '.dscalar.nii'\n",
    "wb_command = 'wb_command -cifti-convert -from-text ' + outdir + filename + '.csv ' + glasserfile2 + ' ' + outdir + wb_file + ' -reset-scalars'\n",
    "os.system(wb_command)\n"
   ]
  },
  {
   "cell_type": "markdown",
   "metadata": {},
   "source": [
    "## 3.0 Load data for MOTOR rules"
   ]
  },
  {
   "cell_type": "code",
   "execution_count": 17,
   "metadata": {},
   "outputs": [
    {
     "name": "stderr",
     "output_type": "stream",
     "text": [
      "/home/tito/miniconda2/lib/python2.7/site-packages/ipykernel_launcher.py:8: ComplexWarning: Casting complex values to real discards the imaginary part\n",
      "  \n"
     ]
    }
   ],
   "source": [
    "# gsr = True\n",
    "nStims = 4\n",
    "data_task = np.zeros((len(glasser2),nStims,len(subjNums)))\n",
    "rule = 'Motor'\n",
    "\n",
    "scount = 0\n",
    "for subj in subjNums:\n",
    "    data_task[:,:,scount] = tools_group.loadInputActivity(subj,rule)\n",
    "    scount += 1"
   ]
  },
  {
   "cell_type": "markdown",
   "metadata": {},
   "source": [
    "#### Run decoding "
   ]
  },
  {
   "cell_type": "code",
   "execution_count": 18,
   "metadata": {},
   "outputs": [],
   "source": [
    "nproc = 30\n",
    "ncvs = 1\n",
    "rois = np.arange(nParcels)\n",
    "\n",
    "distances_baseline_motor = tools_group.conditionDecodings(data_task, rois, motorOutput=False, ncvs=ncvs, nproc=nproc)"
   ]
  },
  {
   "cell_type": "markdown",
   "metadata": {},
   "source": [
    "#### Compute statistics"
   ]
  },
  {
   "cell_type": "code",
   "execution_count": 19,
   "metadata": {},
   "outputs": [
    {
     "name": "stdout",
     "output_type": "stream",
     "text": [
      "Number of ROIs significant for Motor Stimuli: 105\n",
      "Accuracies: [0.36979167 0.3125     0.3359375  0.390625   0.35416667 0.49479167\n",
      " 0.5        0.390625   0.3515625  0.30989583 0.3046875  0.30729167\n",
      " 0.40104167 0.33072917 0.32552083 0.41927083 0.35416667 0.359375\n",
      " 0.3828125  0.38541667 0.4921875  0.43489583 0.484375   0.4140625\n",
      " 0.328125   0.328125   0.32552083 0.31770833 0.34375    0.32291667\n",
      " 0.30208333 0.30208333 0.484375   0.31510417 0.34375    0.40625\n",
      " 0.34895833 0.29947917 0.31510417 0.359375   0.34375    0.30208333\n",
      " 0.3125     0.3125     0.29947917 0.375      0.44010417 0.3046875\n",
      " 0.31510417 0.30989583 0.32291667 0.3203125  0.36979167 0.33333333\n",
      " 0.3671875  0.29947917 0.30208333 0.3984375  0.36197917 0.32552083\n",
      " 0.3046875  0.5        0.51041667 0.33854167 0.3125     0.3046875\n",
      " 0.3203125  0.328125   0.4296875  0.40625    0.40364583 0.43229167\n",
      " 0.33072917 0.3046875  0.34895833 0.34375    0.31510417 0.31510417\n",
      " 0.4921875  0.4609375  0.47135417 0.41666667 0.390625   0.33333333\n",
      " 0.3984375  0.34895833 0.32291667 0.45052083 0.3046875  0.390625\n",
      " 0.40104167 0.35677083 0.29947917 0.36458333 0.30208333 0.33072917\n",
      " 0.35416667 0.328125   0.43489583 0.42708333 0.3359375  0.3203125\n",
      " 0.29947917 0.30208333 0.29947917]\n"
     ]
    },
    {
     "data": {
      "text/plain": [
       "0"
      ]
     },
     "execution_count": 19,
     "metadata": {},
     "output_type": "execute_result"
    }
   ],
   "source": [
    "rule = 'Motor'\n",
    "statistics_motor = np.zeros((len(rois),3)) # acc, q, acc_thresh\n",
    "for roicount in range(len(rois)):\n",
    "    ntrials = distances_baseline_motor.shape[1]\n",
    "    p = stats.binom_test(np.mean(distances_baseline_motor[roicount,:])*ntrials,n=ntrials,p=1/float(nStims))\n",
    "    if np.mean(distances_baseline_motor[roicount,:])>1/float(nStims):\n",
    "        p = p/2.0\n",
    "    else:\n",
    "        p = 1.0-p/2.0\n",
    "        \n",
    "\n",
    "    statistics_motor[roicount,0] = np.mean(distances_baseline_motor[roicount,:])\n",
    "    statistics_motor[roicount,1] = p\n",
    "\n",
    "h0, qs = mc.fdrcorrection0(statistics_motor[:,1])\n",
    "for roicount in range(len(rois)):\n",
    "    statistics_motor[roicount,1] = qs[roicount]\n",
    "    statistics_motor[roicount,2] = h0[roicount]*statistics_motor[roicount,0]\n",
    "    \n",
    "# Count number of significant ROIs for LH decoding\n",
    "sig_ind = np.where(statistics_motor[:,1]<0.05)[0]\n",
    "print 'Number of ROIs significant for', rule, 'Stimuli:', sig_ind.shape[0]\n",
    "print 'Accuracies:', statistics_motor[sig_ind,0]\n",
    "\n",
    "#### Map back to surface\n",
    "# Put all data into a single matrix (since we only run a single classification)\n",
    "inputStim = np.zeros((glasser2.shape[0],3))\n",
    "\n",
    "roicount = 0\n",
    "for roi in rois:\n",
    "    vertex_ind = np.where(glasser2==roi+1)[0]\n",
    "    inputStim[vertex_ind,0] = statistics_motor[roicount,0]\n",
    "    inputStim[vertex_ind,1] = statistics_motor[roicount,1]\n",
    "    inputStim[vertex_ind,2] = statistics_motor[roicount,2]\n",
    "\n",
    "    roicount += 1\n",
    "\n",
    "np.savetxt('/projects3/SRActFlow/data/results/GroupfMRI/RuleDecoding/MotorRule_Regions.csv', np.where(statistics_motor[:,1]<0.05)[0], delimiter=',')\n",
    "    \n",
    "#### \n",
    "# Write file to csv and run wb_command\n",
    "outdir = '/projects3/SRActFlow/data/results/GroupfMRI/RuleDecoding/'\n",
    "filename = rule + 'Decoding'\n",
    "np.savetxt(outdir + filename + '.csv', inputStim,fmt='%s')\n",
    "wb_file = filename + '.dscalar.nii'\n",
    "wb_command = 'wb_command -cifti-convert -from-text ' + outdir + filename + '.csv ' + glasserfile2 + ' ' + outdir + wb_file + ' -reset-scalars'\n",
    "os.system(wb_command)\n"
   ]
  },
  {
   "cell_type": "markdown",
   "metadata": {},
   "source": [
    "# Evaluate Overlap of accuracy/representations "
   ]
  },
  {
   "cell_type": "code",
   "execution_count": 20,
   "metadata": {},
   "outputs": [
    {
     "name": "stdout",
     "output_type": "stream",
     "text": [
      "Number of signifiicant overlaps: 29\n"
     ]
    },
    {
     "data": {
      "text/plain": [
       "0"
      ]
     },
     "execution_count": 20,
     "metadata": {},
     "output_type": "execute_result"
    }
   ],
   "source": [
    "rois = np.arange(nParcels)\n",
    "nStims = 4\n",
    "\n",
    "statistics_all = np.multiply(statistics_logic[:,1]<0.05,statistics_sensory[:,1]<0.05)\n",
    "statistics_all = np.multiply(statistics_all,statistics_motor[:,1]<0.05)\n",
    "\n",
    "print 'Number of signifiicant overlaps:', np.sum(statistics_all)\n",
    "        \n",
    "decodingROI = np.zeros((glasser2.shape[0],4)) # unthresh acc, thresh acc\n",
    "sig_acc = np.multiply(statistics_motor[:,0],statistics_motor[:,1]<0.05)\n",
    "for roi in range(nParcels):\n",
    "    roi_ind = np.where(glasser2==roi+1)[0]\n",
    "\n",
    "    decodingROI[roi_ind,0] = statistics_all[roi]\n",
    "    decodingROI[roi_ind,1] = np.multiply(statistics_all[roi],statistics_logic[roi,0])\n",
    "    decodingROI[roi_ind,2] = np.multiply(statistics_all[roi],statistics_sensory[roi,0])\n",
    "    decodingROI[roi_ind,3] = np.multiply(statistics_all[roi],statistics_motor[roi,0])\n",
    "\n",
    "# Compute effect size baseline (information content)\n",
    "outdir = '/projects3/SRActFlow/data/results/GroupfMRI/RuleDecoding/'\n",
    "filename = 'OverlapRuleDecoding_64k'\n",
    "np.savetxt(outdir + filename + '.csv', decodingROI,fmt='%s')\n",
    "wb_command = 'wb_command -cifti-convert -from-text ' + outdir + filename + '.csv ' + glasserfile2 + ' ' + outdir + filename + '.dscalar.nii -reset-scalars'\n",
    "os.system(wb_command)\n"
   ]
  }
 ],
 "metadata": {
  "kernelspec": {
   "display_name": "Python 2",
   "language": "python",
   "name": "python2"
  },
  "language_info": {
   "codemirror_mode": {
    "name": "ipython",
    "version": 2
   },
   "file_extension": ".py",
   "mimetype": "text/x-python",
   "name": "python",
   "nbconvert_exporter": "python",
   "pygments_lexer": "ipython2",
   "version": "2.7.15"
  }
 },
 "nbformat": 4,
 "nbformat_minor": 2
}
