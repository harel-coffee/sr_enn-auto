{
 "cells": [
  {
   "cell_type": "markdown",
   "metadata": {},
   "source": [
    "# StroopActFlow\n",
    "### Identify stimuli localizers for input layer for Stroop Model\n",
    "### Identify top-down task rule inputs (e.g., PFC) for Stroop Model\n",
    "### First use MVPA to identify ROIs for each stimulus type; then use GLM to find activation patterns\n",
    "### Using new GLM with rule and trial beta series model\n",
    "\n",
    "\n",
    "#### Taku Ito\n",
    "#### 02/22/17\n"
   ]
  },
  {
   "cell_type": "code",
   "execution_count": 1,
   "metadata": {
    "collapsed": true
   },
   "outputs": [],
   "source": [
    "import numpy as np\n",
    "import matplotlib.pyplot as plt\n",
    "%matplotlib inline\n",
    "import scipy.stats as stats\n",
    "import statsmodels.sandbox.stats.multicomp as mc\n",
    "import os\n",
    "import nibabel as nib\n",
    "from sklearn.svm import SVC\n",
    "import utils"
   ]
  },
  {
   "cell_type": "code",
   "execution_count": 2,
   "metadata": {
    "collapsed": true
   },
   "outputs": [],
   "source": [
    "def convertCSVToCIFTI64k(inputfilename,outputfilename):\n",
    "    ciftitemplate = '/projects3/StroopActFlow/data/Q1-Q6_RelatedParcellation210.LR.CorticalAreas_dil_Colors.32k_fs_LR.dlabel.nii'\n",
    "    wb_command = 'wb_command -cifti-convert -from-text' \n",
    "    wb_command += ' ' + inputfilename \n",
    "    wb_command += ' ' + ciftitemplate\n",
    "    wb_command += ' ' + outputfilename\n",
    "    wb_command += \" -col-delim ','\"\n",
    "    wb_command += ' -reset-scalars'\n",
    "    os.system(wb_command)\n",
    "#     print wb_command"
   ]
  },
  {
   "cell_type": "markdown",
   "metadata": {},
   "source": [
    "## 0.0 Set up"
   ]
  },
  {
   "cell_type": "code",
   "execution_count": 3,
   "metadata": {
    "collapsed": false
   },
   "outputs": [],
   "source": [
    "subjNums = ['101', '102']\n",
    "\n",
    "basedir = '/projects3/StroopActFlow/data/'\n",
    "resultsdir = basedir + 'results/'\n",
    "restdir = resultsdir + 'glmRest_GlasserParcels/'\n",
    "\n",
    "glasser_nets = np.loadtxt('/projects/AnalysisTools/netpartitions/ColeLabNetPartition_v1.1/community_order.txt', delimiter=',')\n",
    "# Make into python numbering (starts from 0)\n",
    "glasser_nets -= 1.0\n",
    "networkorder = glasser_nets.astype(int)\n",
    "networkorder.shape = (len(networkorder),1)\n",
    "\n",
    "networkmappings = {'fpn':7, 'vis':1, 'smn':2, 'con':3, 'dmn':6, 'aud1':8, 'aud2':9, 'dan':11}\n",
    "networks = networkmappings.keys()\n",
    "\n",
    "networkdef = '/projects/AnalysisTools/netpartitions/ColeLabNetPartition_v1.1/parcel_network_assignments.txt'\n",
    "networkdef = np.loadtxt(networkdef, delimiter=',')\n",
    "xticks = {}\n",
    "reorderednetworkaffil = networkdef[networkorder]\n",
    "for net in networks:\n",
    "    netNum = networkmappings[net]\n",
    "    netind = np.where(reorderednetworkaffil==netNum)[0]\n",
    "    tick = np.max(netind)\n",
    "    xticks[tick] = net\n",
    "    \n",
    "# Load in Glasser parcels\n",
    "glasserfile = '/projects3/StroopActFlow/data/Q1-Q6_RelatedParcellation210.LR.CorticalAreas_dil_Colors.32k_fs_LR.dlabel.nii'\n",
    "glasser = nib.load(glasserfile).get_data()\n",
    "glasser = np.squeeze(glasser)"
   ]
  },
  {
   "cell_type": "markdown",
   "metadata": {},
   "source": [
    "## 2.0 Run task activation analysis on 64k Surface for 2 rule encodings"
   ]
  },
  {
   "cell_type": "code",
   "execution_count": 4,
   "metadata": {
    "collapsed": true
   },
   "outputs": [],
   "source": [
    "def loadStimBetas(subj):\n",
    "    datadir = '/projects3/StroopActFlow/data/results/glm_ruleStimBetaSeries/'\n",
    "    betas = np.loadtxt(datadir + subj + '_RuleAndStimBetaSeries_taskBetas_Surface64k.csv',delimiter=',')\n",
    "    \n",
    "    nruleBetas = 60\n",
    "    \n",
    "    betas = betas[:,18+nruleBetas:] # 18 onwards are the two task betas\n",
    "    return betas"
   ]
  },
  {
   "cell_type": "markdown",
   "metadata": {},
   "source": [
    "## 2.1 Run MVPA analysis between color and rule encodings\n",
    "* Rule 1: Color rule\n",
    "* Rule 2: Word rule"
   ]
  },
  {
   "cell_type": "markdown",
   "metadata": {},
   "source": [
    "##### Load in data as dicts"
   ]
  },
  {
   "cell_type": "code",
   "execution_count": 27,
   "metadata": {
    "collapsed": false
   },
   "outputs": [
    {
     "name": "stdout",
     "output_type": "stream",
     "text": [
      "Loading betas for subject 101\n",
      "Loading betas for subject 102\n"
     ]
    }
   ],
   "source": [
    "nrules = 2\n",
    "\n",
    "beta_dict = {}\n",
    "behavdata = {}\n",
    "allbetas = {}\n",
    "# Organize subject betas by stimulus\n",
    "for subj in subjNums:\n",
    "    print 'Loading betas for subject', subj\n",
    "    betas = loadStimBetas(subj)\n",
    "    behavdata[subj] = utils.loadBehavData(subj)   \n",
    "    # Get indices for task rule blocks\n",
    "    left_ind = np.where(behavdata[subj]['response']=='y')[0]\n",
    "    right_ind = np.where(behavdata[subj]['response']=='g')[0]\n",
    "    neutral_ind = np.where(behavdata[subj]['condition']=='neutral')[0]\n",
    "    left_ind = np.intersect1d(left_ind,neutral_ind)\n",
    "    right_ind = np.intersect1d(right_ind,neutral_ind)\n",
    "    \n",
    "    nminsamples = np.min([left_ind.shape[0],right_ind.shape[0]])\n",
    "    # Organize beta dict\n",
    "    beta_dict[subj] = np.zeros((betas.shape[0],nminsamples,nrules))\n",
    "    beta_dict[subj][:,:,0] = betas[:,left_ind[:nminsamples]]\n",
    "    beta_dict[subj][:,:,1] = betas[:,right_ind[:nminsamples]]\n",
    "    \n",
    "    # Create all betas for ECDF purposes\n",
    "    allbetas[subj] = np.vstack((beta_dict[subj][:,:,0],beta_dict[subj][:,:,1]))\n",
    "\n",
    "jointbetas = np.hstack((beta_dict['101'],beta_dict['102']))\n",
    "        "
   ]
  },
  {
   "cell_type": "code",
   "execution_count": 46,
   "metadata": {
    "collapsed": false
   },
   "outputs": [
    {
     "data": {
      "text/plain": [
       "[<matplotlib.lines.Line2D at 0x7ff615985750>]"
      ]
     },
     "execution_count": 46,
     "metadata": {},
     "output_type": "execute_result"
    },
    {
     "data": {
      "image/png": "[encoded data removed]",
      "text/plain": [
       "<matplotlib.figure.Figure at 0x7ff61a8603d0>"
      ]
     },
     "metadata": {},
     "output_type": "display_data"
    }
   ],
   "source": [
    "import statsmodels.api as sm\n",
    "import matplotlib.pyplot as plt\n",
    "\n",
    "sample = allbetas[subj][10,:]\n",
    "ecdf = sm.distributions.ECDF(sample)\n",
    "\n",
    "x = np.linspace(min(sample), max(sample),num=100)\n",
    "y = ecdf(x)\n",
    "plt.step(x, y)"
   ]
  },
  {
   "cell_type": "markdown",
   "metadata": {},
   "source": [
    "#### Run actual code/cross-validations"
   ]
  },
  {
   "cell_type": "markdown",
   "metadata": {},
   "source": [
    "#### Run FDR correction for each test"
   ]
  },
  {
   "cell_type": "code",
   "execution_count": 59,
   "metadata": {
    "collapsed": false
   },
   "outputs": [],
   "source": [
    "qmat = {}\n",
    "mvpa_mask = {}\n",
    "\n",
    "ttest = {}\n",
    "ttest = np.zeros((jointbetas.shape[0],2)) # raw t-vals and thresholded t-vals\n",
    "ps = np.zeros((jointbetas.shape[0],))\n",
    "# Only include SMN vertices\n",
    "rois = np.where(networkdef==networkmappings['smn'])[0]\n",
    "roi_ind = []\n",
    "for roi in rois:\n",
    "    roi_ind.extend(np.where(glasser==roi)[0])\n",
    "roi_ind = np.reshape(np.asarray(roi_ind),-1)\n",
    "\n",
    "# Run t-test\n",
    "for v in roi_ind:\n",
    "    t, ps[v] = stats.ttest_rel(jointbetas[v,:,0],jointbetas[v,:,1])\n",
    "    ttest[v,0] = t\n",
    "\n",
    "# Run FDR-correction\n",
    "h0, q = mc.fdrcorrection0(ps[roi_ind])\n",
    "ttest[roi_ind,1] = np.multiply(ttest[roi_ind,0],ps[roi_ind]<.05)\n"
   ]
  },
  {
   "cell_type": "code",
   "execution_count": 61,
   "metadata": {
    "collapsed": false
   },
   "outputs": [],
   "source": [
    "basedir = '/projects3/StroopActFlow/data/results/glm_ruleStimBetaSeries/motorResponse_localizer/'\n",
    "# for subj in subjNums:\n",
    "\n",
    "filename_mvpa = basedir + 'joint_motorResponse_ttest_LeftVRight_v3'\n",
    "\n",
    "np.savetxt(filename_mvpa + '.csv', ttest, delimiter=',')\n",
    "convertCSVToCIFTI64k(filename_mvpa+'.csv', filename_mvpa+'.dscalar.nii')\n"
   ]
  },
  {
   "cell_type": "code",
   "execution_count": 23,
   "metadata": {
    "collapsed": false
   },
   "outputs": [],
   "source": [
    "qmat = {}\n",
    "mvpa_mask = {}\n",
    "\n",
    "ttest = {}\n",
    "for subj in subjNums:\n",
    "    ttest[subj] = np.zeros((beta_dict[subj].shape[0],2)) # raw t-vals and thresholded t-vals\n",
    "    ps = np.zeros((beta_dict[subj].shape[0],))\n",
    "    # Only include SMN vertices\n",
    "    rois = np.where(networkdef==networkmappings['smn'])[0]\n",
    "    roi_ind = []\n",
    "    for roi in rois:\n",
    "        roi_ind.extend(np.where(glasser==roi)[0])\n",
    "    roi_ind = np.reshape(np.asarray(roi_ind),-1)\n",
    "    \n",
    "    # Run t-test\n",
    "    for v in roi_ind:\n",
    "        t, ps[v] = stats.ttest_rel(beta_dict[subj][v,:,0],beta_dict[subj][v,:,1])\n",
    "        ttest[subj][v,0] = t\n",
    "        \n",
    "    # Run FDR-correction\n",
    "    h0, q = mc.fdrcorrection0(ps[roi_ind])\n",
    "    ttest[subj][roi_ind,1] = np.multiply(ttest[subj][roi_ind,0],ps[roi_ind]<.05)\n"
   ]
  },
  {
   "cell_type": "markdown",
   "metadata": {},
   "source": [
    "### 2.2 Save MVPA maps to CSV and dscalar files"
   ]
  },
  {
   "cell_type": "code",
   "execution_count": 26,
   "metadata": {
    "collapsed": false
   },
   "outputs": [],
   "source": [
    "basedir = '/projects3/StroopActFlow/data/results/glm_ruleStimBetaSeries/motorResponse_localizer/'\n",
    "for subj in subjNums:\n",
    "    \n",
    "    filename_mvpa = basedir + subj + '_motorResponse_ttest_LeftVRight_v3'\n",
    "        \n",
    "    np.savetxt(filename_mvpa + '.csv', ttest[subj], delimiter=',')\n",
    "    convertCSVToCIFTI64k(filename_mvpa+'.csv', filename_mvpa+'.dscalar.nii')\n"
   ]
  }
 ],
 "metadata": {
  "kernelspec": {
   "display_name": "Python 2",
   "language": "python",
   "name": "python2"
  },
  "language_info": {
   "codemirror_mode": {
    "name": "ipython",
    "version": 2
   },
   "file_extension": ".py",
   "mimetype": "text/x-python",
   "name": "python",
   "nbconvert_exporter": "python",
   "pygments_lexer": "ipython2",
   "version": "2.7.11"
  }
 },
 "nbformat": 4,
 "nbformat_minor": 0
}
