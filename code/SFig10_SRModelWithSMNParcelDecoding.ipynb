{
 "cells": [
  {
   "cell_type": "markdown",
   "metadata": {},
   "source": [
    "\n",
    "# Reviewer request -- identify motor output regions using parcel decoding, and then run S-R simulations + decoding\n",
    "\n",
    "#### 10/25/21"
   ]
  },
  {
   "cell_type": "code",
   "execution_count": 1,
   "metadata": {},
   "outputs": [],
   "source": [
    "import numpy as np\n",
    "import matplotlib.pyplot as plt\n",
    "%matplotlib inline\n",
    "import scipy.stats as stats\n",
    "import os\n",
    "os.environ['OMP_NUM_THREADS'] = str(1)\n",
    "import statsmodels.sandbox.stats.multicomp as mc\n",
    "import seaborn as sns\n",
    "import h5py\n",
    "import tools\n",
    "import nibabel as nib\n",
    "plt.rcParams[\"font.family\"] = \"Arial\"\n",
    "import pandas as pd\n",
    "import time\n",
    "from importlib import reload"
   ]
  },
  {
   "cell_type": "code",
   "execution_count": 2,
   "metadata": {},
   "outputs": [],
   "source": [
    "datadir = '../../data/results/MAIN/srModelPredictionAccuracies/'\n",
    "labels = ['Motor decoding', 'Motor decoding (null)', \n",
    "          'S-R Model', 'S-R Model (null)', \n",
    "          'S-R Model SMN parcels', 'S-R Model SMN parcels (null)']\n",
    "\n",
    "## Load in data\n",
    "# Create data dict\n",
    "acc_dict = {}\n",
    "acc_dict['Hand'] = []\n",
    "acc_dict['Model'] = []\n",
    "acc_dict['Accuracy'] = []\n",
    "##\n",
    "# Motor decoding\n",
    "# rh = np.loadtxt(datadir + 'BaselineMotorDecoding/RH_decoding_noncirc.txt')*100.0\n",
    "# lh = np.loadtxt(datadir + 'BaselineMotorDecoding/LH_decoding_noncirc.txt')*100.0\n",
    "# for i in range(len(rh)):\n",
    "#     acc_dict['Model'].append('Motor decoding')\n",
    "#     acc_dict['Hand'].append('Right hand')\n",
    "#     acc_dict['Accuracy'].append(rh[i])\n",
    "# for i in range(len(lh)):\n",
    "#     acc_dict['Model'].append('Motor decoding')\n",
    "#     acc_dict['Hand'].append('Left hand')\n",
    "#     acc_dict['Accuracy'].append(lh[i])\n",
    "# ##\n",
    "# S-R Model \n",
    "rh = np.loadtxt(datadir + 'SRActFlowFull/RH_decoding.txt')*100.0\n",
    "lh = np.loadtxt(datadir + 'SRActFlowFull/LH_decoding.txt')*100.0\n",
    "for i in range(len(rh)):\n",
    "    acc_dict['Model'].append('S-R Model')\n",
    "    acc_dict['Hand'].append('Right hand')\n",
    "    acc_dict['Accuracy'].append(rh[i])\n",
    "for i in range(len(lh)):\n",
    "    acc_dict['Model'].append('S-R Model')\n",
    "    acc_dict['Hand'].append('Left hand')\n",
    "    acc_dict['Accuracy'].append(lh[i])\n",
    "##\n",
    "# S-R model on SMN parcels\n",
    "rh = np.loadtxt(datadir + 'SRActFlowFullSMNNetwork/RH_decoding.txt')*100.0\n",
    "lh = np.loadtxt(datadir + 'SRActFlowFullSMNNetwork/LH_decoding.txt')*100.0\n",
    "for i in range(len(rh)):\n",
    "    acc_dict['Model'].append('SMN parcels')\n",
    "    acc_dict['Hand'].append('Right hand')\n",
    "    acc_dict['Accuracy'].append(rh[i])\n",
    "for i in range(len(lh)):\n",
    "    acc_dict['Model'].append('SMN parcels')\n",
    "    acc_dict['Hand'].append('Left hand')\n",
    "    acc_dict['Accuracy'].append(lh[i])\n",
    "##\n",
    "\n",
    "df_acc = pd.DataFrame(data=acc_dict)"
   ]
  },
  {
   "cell_type": "code",
   "execution_count": 3,
   "metadata": {},
   "outputs": [],
   "source": [
    "datadir = '../../data/results/MAIN/srModelPredictionAccuracies/'\n",
    "\n",
    "\n",
    "## Load in data\n",
    "# Create data dict\n",
    "acc_dict = {}\n",
    "acc_dict['Hand'] = []\n",
    "acc_dict['Model'] = []\n",
    "acc_dict['Accuracy'] = []\n",
    "##\n",
    "# Motor decoding\n",
    "# rh = np.loadtxt(datadir + 'BaselineMotorDecoding/RH_null_decoding_noncirc.txt')*100.0\n",
    "# lh = np.loadtxt(datadir + 'BaselineMotorDecoding/LH_null_decoding_noncirc.txt')*100.0\n",
    "# for i in range(len(rh)):\n",
    "#     acc_dict['Model'].append('Motor decoding')\n",
    "#     acc_dict['Hand'].append('Right hand')\n",
    "#     acc_dict['Accuracy'].append(rh[i])\n",
    "# for i in range(len(lh)):\n",
    "#     acc_dict['Model'].append('Motor decoding')\n",
    "#     acc_dict['Hand'].append('Left hand')\n",
    "#     acc_dict['Accuracy'].append(lh[i])\n",
    "##\n",
    "# S-R Model \n",
    "rh = np.loadtxt(datadir + 'SRActFlowFull/RH_null_decoding.txt')*100.0\n",
    "lh = np.loadtxt(datadir + 'SRActFlowFull/LH_null_decoding.txt')*100.0\n",
    "for i in range(len(rh)):\n",
    "    acc_dict['Model'].append('S-R Model')\n",
    "    acc_dict['Hand'].append('Right hand')\n",
    "    acc_dict['Accuracy'].append(rh[i])\n",
    "for i in range(len(lh)):\n",
    "    acc_dict['Model'].append('S-R Model')\n",
    "    acc_dict['Hand'].append('Left hand')\n",
    "    acc_dict['Accuracy'].append(lh[i])\n",
    "##\n",
    "# S-R model on SMN parcels\n",
    "rh = np.loadtxt(datadir + 'SRActFlowFullSMNNetwork/RH_null_decoding.txt')*100.0\n",
    "lh = np.loadtxt(datadir + 'SRActFlowFullSMNNetwork/LH_null_decoding.txt')*100.0\n",
    "for i in range(len(rh)):\n",
    "    acc_dict['Model'].append('SMN parcels')\n",
    "    acc_dict['Hand'].append('Right hand')\n",
    "    acc_dict['Accuracy'].append(rh[i])\n",
    "for i in range(len(lh)):\n",
    "    acc_dict['Model'].append('SMN parcels')\n",
    "    acc_dict['Hand'].append('Left hand')\n",
    "    acc_dict['Accuracy'].append(lh[i])\n",
    "##\n",
    "\n",
    "df_acc_null = pd.DataFrame(data=acc_dict)"
   ]
  },
  {
   "cell_type": "code",
   "execution_count": 8,
   "metadata": {},
   "outputs": [
    {
     "data": {
      "image/png": "[encoded data removed]",
      "text/plain": [
       "<Figure size 216x216 with 1 Axes>"
      ]
     },
     "metadata": {
      "needs_background": "light"
     },
     "output_type": "display_data"
    }
   ],
   "source": [
    "plt.figure(figsize=(3,3))\n",
    "sns.boxplot(x=\"Model\",y=\"Accuracy\",hue=\"Hand\",data=df_acc_null,\n",
    "           medianprops={'linestyle':'-','alpha':0.1},sym='',whis=[2.5,97.5],palette=['grey','grey'], boxprops=dict(alpha=.3))\n",
    "ax = sns.stripplot(x=\"Model\",y=\"Accuracy\",hue=\"Hand\",data=df_acc_null,\n",
    "              dodge=True,alpha=0.1,palette=['grey','grey'],zorder=0,size=3)\n",
    "ax = sns.boxplot(x=\"Model\",y=\"Accuracy\",hue=\"Hand\",data=df_acc,\n",
    "           medianprops={'linestyle':'-'},sym='',whis=[2.5,97.5],palette=\"pastel\")\n",
    "ax = sns.stripplot(x=\"Model\",y=\"Accuracy\",hue=\"Hand\",data=df_acc,\n",
    "              dodge=True,palette=\"pastel\",zorder=2,size=3)\n",
    "plt.plot(np.arange(-0.5, 2.5),np.repeat(50.0,3),'grey',linestyle='--',label='Chance - 50%')\n",
    "plt.xticks(rotation=0,fontsize=10)\n",
    "plt.yticks(fontsize=10)\n",
    "plt.ylabel('Accuracy (%)',fontsize=10)\n",
    "plt.xlabel('Model', fontsize=10)\n",
    "plt.title('S-R model comparison\\nwith parcel-level decoding', fontsize=12)\n",
    "handles, labels = ax.get_legend_handles_labels()\n",
    "\n",
    "l = plt.legend(handles[-2:], labels[-2:], loc=1, borderaxespad=0., prop={'size': 8})\n",
    "plt.tight_layout()\n",
    "sns.despine()\n",
    "# plt.savefig('../figures/manuscriptFigures/SFig_SRModel_SMNParcels/DecodingFigure.png',dpi=300)\n",
    "\n",
    "write = False\n",
    "if write:\n",
    "    with pd.ExcelWriter(\"../../data/NatComms_SourceData.xlsx\",mode='a', engine=\"openpyxl\") as writer:\n",
    "        df_acc.insert(df_acc.shape[1], 'Testing', np.repeat('Unshuffled',len(df_acc)))\n",
    "        df_acc_null.insert(df_acc_null.shape[1], 'Testing', np.repeat('Shuffled',len(df_acc_null)))\n",
    "        df_full = df_acc.append(df_acc_null)\n",
    "        df_full.to_excel(writer,sheet_name='SFig10c')"
   ]
  },
  {
   "cell_type": "markdown",
   "metadata": {},
   "source": [
    "## Perform statistical tests and print table"
   ]
  },
  {
   "cell_type": "code",
   "execution_count": 35,
   "metadata": {},
   "outputs": [
    {
     "data": {
      "text/html": [
       "<div>\n",
       "<style scoped>\n",
       "    .dataframe tbody tr th:only-of-type {\n",
       "        vertical-align: middle;\n",
       "    }\n",
       "\n",
       "    .dataframe tbody tr th {\n",
       "        vertical-align: top;\n",
       "    }\n",
       "\n",
       "    .dataframe thead th {\n",
       "        text-align: right;\n",
       "    }\n",
       "</style>\n",
       "<table border=\"1\" class=\"dataframe\">\n",
       "  <thead>\n",
       "    <tr style=\"text-align: right;\">\n",
       "      <th></th>\n",
       "      <th>Accuracy (RH)</th>\n",
       "      <th>P-value (RH)</th>\n",
       "      <th>Accuracy (LH)</th>\n",
       "      <th>P-value (LH)</th>\n",
       "    </tr>\n",
       "  </thead>\n",
       "  <tbody>\n",
       "    <tr>\n",
       "      <th>S-R Model</th>\n",
       "      <td>62.65</td>\n",
       "      <td>0.029667</td>\n",
       "      <td>77.58</td>\n",
       "      <td>0.000018</td>\n",
       "    </tr>\n",
       "    <tr>\n",
       "      <th>SMN parcels</th>\n",
       "      <td>62.98</td>\n",
       "      <td>0.022551</td>\n",
       "      <td>54.92</td>\n",
       "      <td>0.211641</td>\n",
       "    </tr>\n",
       "  </tbody>\n",
       "</table>\n",
       "</div>"
      ],
      "text/plain": [
       "             Accuracy (RH)  P-value (RH)  Accuracy (LH)  P-value (LH)\n",
       "S-R Model            62.65      0.029667          77.58      0.000018\n",
       "SMN parcels          62.98      0.022551          54.92      0.211641"
      ]
     },
     "execution_count": 35,
     "metadata": {},
     "output_type": "execute_result"
    }
   ],
   "source": [
    "index = ['Accuracy (RH)', 'P-value (RH)', 'Accuracy (LH)', 'P-value (LH)']\n",
    "df_stats = {}\n",
    "#### Motor decoding\n",
    "# df_stats['Motor decoding'] = []\n",
    "# # Right hand\n",
    "# tmp = df_acc.loc[df_acc.Model=='Motor decoding']\n",
    "# tmp_rh = df_acc.loc[df_acc.Hand=='Right hand'].loc[df_acc.Model=='Motor decoding']\n",
    "# tmp_rh_null = df_acc_null.loc[df_acc_null.Hand=='Right hand'].loc[df_acc_null.Model=='Motor decoding']\n",
    "# acc_rh = np.mean(tmp_rh.Accuracy.values)\n",
    "# # For each crossvalidation, compute p-value, then average\n",
    "# tmppvals = []\n",
    "# for a in tmp_rh.Accuracy.values: \n",
    "#     tmppvals.append(np.mean(a<tmp_rh_null.Accuracy.values))\n",
    "# pval_rh = np.mean(tmppvals)\n",
    "# df_stats['Motor decoding'].append(round(acc_rh,2))\n",
    "# df_stats['Motor decoding'].append(pval_rh)\n",
    "# # Left hand\n",
    "# tmp = df_acc.loc[df_acc.Model=='Motor decoding']\n",
    "# tmp_lh = df_acc.loc[df_acc.Hand=='Left hand'].loc[df_acc.Model=='Motor decoding']\n",
    "# tmp_lh_null = df_acc_null.loc[df_acc_null.Hand=='Left hand'].loc[df_acc_null.Model=='Motor decoding']\n",
    "# acc_lh = np.mean(tmp_lh.Accuracy.values)\n",
    "# # For each crossvalidation, compute p-value, then average\n",
    "# tmppvals = []\n",
    "# for a in tmp_lh.Accuracy.values: \n",
    "#     tmppvals.append(np.mean(a<tmp_lh_null.Accuracy.values))\n",
    "# pval_lh = np.mean(tmppvals)\n",
    "# df_stats['Motor decoding'].append(round(acc_lh,2))\n",
    "# df_stats['Motor decoding'].append(pval_lh)\n",
    "\n",
    "#### S-R Model\n",
    "df_stats['S-R Model'] = []\n",
    "# Right hand\n",
    "tmp = df_acc.loc[df_acc.Model=='S-R Model']\n",
    "tmp_rh = df_acc.loc[df_acc.Hand=='Right hand'].loc[df_acc.Model=='S-R Model']\n",
    "tmp_rh_null = df_acc_null.loc[df_acc_null.Hand=='Right hand'].loc[df_acc_null.Model=='S-R Model']\n",
    "acc_rh = np.mean(tmp_rh.Accuracy.values)\n",
    "# For each crossvalidation, compute p-value, then average\n",
    "tmppvals = []\n",
    "for a in tmp_rh.Accuracy.values: \n",
    "    tmppvals.append(np.mean(a<tmp_rh_null.Accuracy.values))\n",
    "pval_rh = np.mean(tmppvals)\n",
    "df_stats['S-R Model'].append(round(acc_rh,2))\n",
    "df_stats['S-R Model'].append(pval_rh)\n",
    "# Left hand\n",
    "tmp = df_acc.loc[df_acc.Model=='S-R Model']\n",
    "tmp_lh = df_acc.loc[df_acc.Hand=='Left hand'].loc[df_acc.Model=='S-R Model']\n",
    "tmp_lh_null = df_acc_null.loc[df_acc_null.Hand=='Left hand'].loc[df_acc_null.Model=='S-R Model']\n",
    "acc_lh = np.mean(tmp_lh.Accuracy.values)\n",
    "# For each crossvalidation, compute p-value, then average\n",
    "tmppvals = []\n",
    "for a in tmp_lh.Accuracy.values: \n",
    "    tmppvals.append(np.mean(a<tmp_lh_null.Accuracy.values))\n",
    "pval_lh = np.mean(tmppvals)\n",
    "df_stats['S-R Model'].append(round(acc_lh,2))\n",
    "df_stats['S-R Model'].append(pval_lh)\n",
    "\n",
    "#### No hidden\n",
    "df_stats['SMN parcels'] = []\n",
    "# Right hand\n",
    "tmp = df_acc.loc[df_acc.Model=='SMN parcels']\n",
    "tmp_rh = df_acc.loc[df_acc.Hand=='Right hand'].loc[df_acc.Model=='SMN parcels']\n",
    "tmp_rh_null = df_acc_null.loc[df_acc_null.Hand=='Right hand'].loc[df_acc_null.Model=='SMN parcels']\n",
    "acc_rh = np.mean(tmp_rh.Accuracy.values)\n",
    "# For each crossvalidation, compute p-value, then average\n",
    "tmppvals = []\n",
    "for a in tmp_rh.Accuracy.values: \n",
    "    tmppvals.append(np.mean(a<tmp_rh_null.Accuracy.values))\n",
    "pval_rh = np.mean(tmppvals)\n",
    "df_stats['SMN parcels'].append(round(acc_rh,2))\n",
    "df_stats['SMN parcels'].append(pval_rh)\n",
    "# Left hand\n",
    "tmp = df_acc.loc[df_acc.Model=='SMN parcels']\n",
    "tmp_lh = df_acc.loc[df_acc.Hand=='Left hand'].loc[df_acc.Model=='SMN parcels']\n",
    "tmp_lh_null = df_acc_null.loc[df_acc_null.Hand=='Left hand'].loc[df_acc_null.Model=='SMN parcels']\n",
    "acc_lh = np.mean(tmp_lh.Accuracy.values)\n",
    "# For each crossvalidation, compute p-value, then average\n",
    "tmppvals = []\n",
    "for a in tmp_lh.Accuracy.values: \n",
    "    tmppvals.append(np.mean(a<tmp_lh_null.Accuracy.values))\n",
    "pval_lh = np.mean(tmppvals)\n",
    "df_stats['SMN parcels'].append(round(acc_lh,2))\n",
    "df_stats['SMN parcels'].append(pval_lh)\n",
    "\n",
    "df_stats = pd.DataFrame.from_dict(df_stats, orient='index', columns=index)\n",
    "\n",
    "df_stats\n"
   ]
  },
  {
   "cell_type": "markdown",
   "metadata": {},
   "source": [
    "# Is there any overlap with hidden parcels?"
   ]
  },
  {
   "cell_type": "code",
   "execution_count": 5,
   "metadata": {},
   "outputs": [],
   "source": [
    "motor_rh = np.loadtxt('../../data/results/MAIN/MotorResponseDecoding/MotorResponseRegions_RH.csv')\n",
    "motor_lh = np.loadtxt('../../data/results/MAIN/MotorResponseDecoding/MotorResponseRegions_LH.csv')\n",
    "hidden = np.loadtxt('../../data/results/MAIN/RSA/RSA_Similarity_SortedRegions2.txt')[:10]"
   ]
  },
  {
   "cell_type": "code",
   "execution_count": 6,
   "metadata": {},
   "outputs": [
    {
     "data": {
      "text/plain": [
       "array([221.])"
      ]
     },
     "execution_count": 6,
     "metadata": {},
     "output_type": "execute_result"
    }
   ],
   "source": [
    "np.intersect1d(motor_lh,hidden)"
   ]
  },
  {
   "cell_type": "markdown",
   "metadata": {},
   "source": [
    "# Plot the number of features for each decoding"
   ]
  },
  {
   "cell_type": "code",
   "execution_count": 9,
   "metadata": {},
   "outputs": [],
   "source": [
    "glasser2 = nib.load('../../data/Q1-Q6_RelatedParcellation210.LR.CorticalAreas_dil_Colors.32k_fs_RL.dlabel.nii').get_fdata()\n",
    "df_features = {}\n",
    "df_features['Number of features'] = []\n",
    "df_features['Decoding'] = []\n",
    "df_features['Hand'] = []\n",
    "\n",
    "vertex_rh = nib.load('../../data/results/MAIN/MotorRegionsMasksPerSubj/sractflow_smn_outputRH_mask.dscalar.nii').get_fdata()\n",
    "df_features['Number of features'].append(len(np.where(vertex_rh!=0)[1]))\n",
    "df_features['Decoding'].append('S-R Model')\n",
    "df_features['Hand'].append('Right hand')\n",
    "\n",
    "vertex_lh = nib.load('../../data/results/MAIN/MotorRegionsMasksPerSubj/sractflow_smn_outputLH_mask.dscalar.nii').get_fdata()\n",
    "df_features['Number of features'].append(len(np.where(vertex_lh!=0)[1]))\n",
    "df_features['Decoding'].append('S-R Model')\n",
    "df_features['Hand'].append('Left hand')\n",
    "\n",
    "count = 0\n",
    "for roi in motor_rh:\n",
    "    ind = np.where(glasser2==roi+1)[0]\n",
    "    count += len(ind)\n",
    "df_features['Number of features'].append(count)\n",
    "df_features['Decoding'].append('SMN parcels')\n",
    "df_features['Hand'].append('Right hand')\n",
    "\n",
    "count = 0\n",
    "for roi in motor_lh:\n",
    "    ind = np.where(glasser2==roi+1)[0]\n",
    "    count += len(ind)\n",
    "df_features['Number of features'].append(count)\n",
    "df_features['Decoding'].append('SMN parcels')\n",
    "df_features['Hand'].append('Left hand')\n",
    "\n",
    "df_features = pd.DataFrame(df_features)"
   ]
  },
  {
   "cell_type": "code",
   "execution_count": 12,
   "metadata": {},
   "outputs": [
    {
     "data": {
      "image/png": "[encoded data removed]",
      "text/plain": [
       "<Figure size 216x216 with 1 Axes>"
      ]
     },
     "metadata": {
      "needs_background": "light"
     },
     "output_type": "display_data"
    }
   ],
   "source": [
    "plt.figure(figsize=(3,3))\n",
    "# ax = sns.boxplot(x=\"Decoding\",y=\"Number of features\",hue=\"Hand\",data=df_features,\n",
    "#            medianprops={'linestyle':'-'},sym='',whis=[2.5,97.5],palette=\"pastel\")\n",
    "ax = sns.barplot(x=\"Decoding\",y=\"Number of features\",hue=\"Hand\",data=df_features,\n",
    "              dodge=True,palette=\"pastel\")\n",
    "plt.xticks(rotation=0,fontsize=10)\n",
    "plt.yticks(fontsize=10)\n",
    "plt.ylabel('Number of features',fontsize=10)\n",
    "plt.xlabel('Decoding style', fontsize=10)\n",
    "plt.title('Number of decoding features', fontsize=12)\n",
    "handles, labels = ax.get_legend_handles_labels()\n",
    "\n",
    "l = plt.legend(handles[-2:], labels[-2:], loc=2, prop={'size': 8})\n",
    "plt.tight_layout()\n",
    "sns.despine()\n",
    "# plt.savefig('../figures/manuscriptFigures/SFig_SRModel_SMNParcels/NumFeaturesPerDecoder.png',dpi=300)\n",
    "\n",
    "write = False\n",
    "if write:\n",
    "    with pd.ExcelWriter(\"../../data/NatComms_SourceData.xlsx\",mode='a', engine=\"openpyxl\") as writer:\n",
    "        df_features.to_excel(writer,sheet_name='SFig10d')"
   ]
  },
  {
   "cell_type": "code",
   "execution_count": 64,
   "metadata": {},
   "outputs": [
    {
     "data": {
      "text/html": [
       "<div>\n",
       "<style scoped>\n",
       "    .dataframe tbody tr th:only-of-type {\n",
       "        vertical-align: middle;\n",
       "    }\n",
       "\n",
       "    .dataframe tbody tr th {\n",
       "        vertical-align: top;\n",
       "    }\n",
       "\n",
       "    .dataframe thead th {\n",
       "        text-align: right;\n",
       "    }\n",
       "</style>\n",
       "<table border=\"1\" class=\"dataframe\">\n",
       "  <thead>\n",
       "    <tr style=\"text-align: right;\">\n",
       "      <th></th>\n",
       "      <th>Number of features</th>\n",
       "      <th>Decoding</th>\n",
       "      <th>Hand</th>\n",
       "    </tr>\n",
       "  </thead>\n",
       "  <tbody>\n",
       "    <tr>\n",
       "      <th>0</th>\n",
       "      <td>136</td>\n",
       "      <td>S-R Model</td>\n",
       "      <td>Right hand</td>\n",
       "    </tr>\n",
       "    <tr>\n",
       "      <th>1</th>\n",
       "      <td>122</td>\n",
       "      <td>S-R Model</td>\n",
       "      <td>Left hand</td>\n",
       "    </tr>\n",
       "    <tr>\n",
       "      <th>2</th>\n",
       "      <td>4765</td>\n",
       "      <td>SMN parcels</td>\n",
       "      <td>Right hand</td>\n",
       "    </tr>\n",
       "    <tr>\n",
       "      <th>3</th>\n",
       "      <td>3877</td>\n",
       "      <td>SMN parcels</td>\n",
       "      <td>Left hand</td>\n",
       "    </tr>\n",
       "  </tbody>\n",
       "</table>\n",
       "</div>"
      ],
      "text/plain": [
       "   Number of features     Decoding        Hand\n",
       "0                 136    S-R Model  Right hand\n",
       "1                 122    S-R Model   Left hand\n",
       "2                4765  SMN parcels  Right hand\n",
       "3                3877  SMN parcels   Left hand"
      ]
     },
     "execution_count": 64,
     "metadata": {},
     "output_type": "execute_result"
    }
   ],
   "source": [
    "df_features"
   ]
  }
 ],
 "metadata": {
  "kernelspec": {
   "display_name": "Python 3",
   "language": "python",
   "name": "python3"
  },
  "language_info": {
   "codemirror_mode": {
    "name": "ipython",
    "version": 3
   },
   "file_extension": ".py",
   "mimetype": "text/x-python",
   "name": "python",
   "nbconvert_exporter": "python",
   "pygments_lexer": "ipython3",
   "version": "3.7.3"
  }
 },
 "nbformat": 4,
 "nbformat_minor": 4
}
