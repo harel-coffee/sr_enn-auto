{
 "cells": [
  {
   "cell_type": "markdown",
   "metadata": {},
   "source": [
    "# StroopActFlow\n",
    "### Identify motor response layer for Stroop Model\n",
    "### Using GLM with for motor responses for neutral trials only\n",
    "\n",
    "### Limit only to SMN network\n",
    "\n",
    "\n",
    "#### Taku Ito\n",
    "#### 02/22/17\n"
   ]
  },
  {
   "cell_type": "code",
   "execution_count": 124,
   "metadata": {
    "collapsed": true
   },
   "outputs": [],
   "source": [
    "import numpy as np\n",
    "import matplotlib.pyplot as plt\n",
    "%matplotlib inline\n",
    "import scipy.stats as stats\n",
    "import statsmodels.sandbox.stats.multicomp as mc\n",
    "import os\n",
    "import nibabel as nib\n",
    "from sklearn.svm import SVC\n",
    "import utils\n",
    "glasserfile = '/projects3/StroopActFlow/data/Q1-Q6_RelatedParcellation210.LR.CorticalAreas_dil_Colors.32k_fs_LR.dlabel.nii'"
   ]
  },
  {
   "cell_type": "markdown",
   "metadata": {},
   "source": [
    "## 0.0 Specify functions for rest of script"
   ]
  },
  {
   "cell_type": "code",
   "execution_count": 125,
   "metadata": {
    "collapsed": true
   },
   "outputs": [],
   "source": [
    "def convertCSVToCIFTI64k(inputfilename,outputfilename):\n",
    "    ciftitemplate = glasserfile\n",
    "    wb_command = 'wb_command -cifti-convert -from-text' \n",
    "    wb_command += ' ' + inputfilename \n",
    "    wb_command += ' ' + ciftitemplate\n",
    "    wb_command += ' ' + outputfilename\n",
    "    wb_command += \" -col-delim ','\"\n",
    "    wb_command += ' -reset-scalars'\n",
    "    os.system(wb_command)\n",
    "#     print wb_command"
   ]
  },
  {
   "cell_type": "code",
   "execution_count": 126,
   "metadata": {
    "collapsed": false
   },
   "outputs": [],
   "source": [
    "def loadBetas(subj):\n",
    "    datadir = '/projects3/StroopActFlow/data/results/GlasserResults/glm_motorResponseLocalizer/'\n",
    "    betas = np.loadtxt(datadir + subj + '_motorResponse_taskBetas_Surface64k.csv',delimiter=',')\n",
    "        \n",
    "    betas = betas[:,-2:] # last two betas are the condition manipulation betas\n",
    "    return betas\n",
    "\n",
    "def loadTvals(subj):\n",
    "    datadir = '/projects3/StroopActFlow/data/results/GlasserResults/glm_motorResponseLocalizer/'\n",
    "    tvals = np.loadtxt(datadir + subj + '_motorResponse_taskTstat_Surface64k.csv',delimiter=',')\n",
    "        \n",
    "    tvals = tvals[:,-2:] # last two betas are the condition manipulation betas\n",
    "    return tvals\n",
    "\n",
    "\n",
    "def loadSmoothedBetas(subj):\n",
    "    datadir = '/projects3/StroopActFlow/data/results/GlasserResults/glm_motorResponseLocalizer/'\n",
    "    sm_filename = datadir + subj + '_motorResponse_taskBetas_Surface64k_sm'\n",
    "\n",
    "    betas = nib.load(sm_filename+'.dscalar.nii').get_data()\n",
    "    betas = np.squeeze(betas).T\n",
    "    betas = betas[:,-2:]\n",
    "    return betas"
   ]
  },
  {
   "cell_type": "code",
   "execution_count": 127,
   "metadata": {
    "collapsed": true
   },
   "outputs": [],
   "source": [
    "def smoothMap(subj):\n",
    "    print 'Subject', subj\n",
    "    glmdir = '/projects3/StroopActFlow/data/results/glm_motorResponseLocalizer/' \n",
    "    \n",
    "    print 'Converting CSV to dscalar...'\n",
    "    filename = glmdir + subj + '_motorResponse_taskBetas_Surface64k'\n",
    "    convertCSVToCIFTI64k(filename+'.csv', filename+'.dscalar.nii')\n",
    "    \n",
    "    print 'Smoothing surface files...'\n",
    "    sm_filename = glmdir + subj + '_motorResponse_taskBetas_Surface64k_sm'\n",
    "    subjdir = '/projects3/StroopActFlow/data/' + subj + '/MNINonLinear/fsaverage_LR32k/'\n",
    "    lsurf = subjdir + subj + '.L.inflated.32k_fs_LR.surf.gii'\n",
    "    rsurf = subjdir + subj + '.R.inflated.32k_fs_LR.surf.gii'\n",
    "    \n",
    "    wb_command = 'wb_command -cifti-smoothing ' + filename+'.dscalar.nii' + ' 4 4 COLUMN ' + sm_filename+'.dscalar.nii'\n",
    "    wb_command += ' -left-surface ' + lsurf\n",
    "    wb_command += ' -right-surface ' + rsurf\n",
    "    os.system(wb_command)"
   ]
  },
  {
   "cell_type": "markdown",
   "metadata": {},
   "source": [
    "## 0.1 Set up"
   ]
  },
  {
   "cell_type": "code",
   "execution_count": 128,
   "metadata": {
    "collapsed": false
   },
   "outputs": [],
   "source": [
    "subjNums = ['101', '102']\n",
    "\n",
    "basedir = '/projects3/StroopActFlow/data/'\n",
    "resultsdir = basedir + 'results/'\n",
    "restdir = resultsdir + 'glmRest_GlasserParcels/'\n",
    "\n",
    "glasser_nets = np.loadtxt(basedir + 'NetworkPartitions3.1/indexsort.txt', delimiter=',')\n",
    "# Make into python numbering (starts from 0)\n",
    "glasser_nets -= 1.0\n",
    "networkorder = glasser_nets.astype(int)\n",
    "networkorder.shape = (len(networkorder),1)\n",
    "\n",
    "networkmappings = {'fpn':6, 'vis':1, 'smn':2, 'con':3, 'dmn':8, 'aud':7, 'van':5, 'dan':4}\n",
    "networks = networkmappings.keys()\n",
    "\n",
    "networkdef = basedir + 'NetworkPartitions3.1/network_partition.txt'\n",
    "networkdef = np.loadtxt(networkdef, delimiter=',')\n",
    "networkdef2 = np.zeros((networkdef.shape))\n",
    "networkdef2[0:180] = networkdef[180:]\n",
    "networkdef2[180:] = networkdef[0:180]\n",
    "networkdef = networkdef2\n",
    "\n",
    "xticks = {}\n",
    "reorderednetworkaffil = networkdef[networkorder]\n",
    "for net in networks:\n",
    "    netNum = networkmappings[net]\n",
    "    netind = np.where(reorderednetworkaffil==netNum)[0]\n",
    "    tick = np.max(netind)\n",
    "    xticks[tick] = net\n",
    "    \n",
    "# Load in Glasser parcels\n",
    "glasser = nib.load(glasserfile).get_data()\n",
    "glasser = np.squeeze(glasser)"
   ]
  },
  {
   "cell_type": "markdown",
   "metadata": {},
   "source": [
    "## 2.1 Run GLM analysis between left and right motor response\n",
    "* Rule 1: Color rule\n",
    "* Rule 2: Word rule"
   ]
  },
  {
   "cell_type": "markdown",
   "metadata": {},
   "source": [
    "##### Load in data as dicts"
   ]
  },
  {
   "cell_type": "code",
   "execution_count": 129,
   "metadata": {
    "collapsed": true
   },
   "outputs": [],
   "source": [
    "behavdata= {}\n",
    "for subj in subjNums:\n",
    "    behavdata[subj] = utils.loadBehavData(subj)   \n"
   ]
  },
  {
   "cell_type": "markdown",
   "metadata": {},
   "source": [
    "## 2.2 Load in beta maps for each hand response, and compute the difference maps. Then Z-score the maps\n",
    "\n",
    "##### This is not a rigorous statistical test. Perform this for each subject, and then compute an 'average' contrast t-map"
   ]
  },
  {
   "cell_type": "code",
   "execution_count": 130,
   "metadata": {
    "collapsed": false
   },
   "outputs": [
    {
     "name": "stdout",
     "output_type": "stream",
     "text": [
      "Loading betas for subject 101\n",
      "Loading betas for subject 102\n"
     ]
    }
   ],
   "source": [
    "nrules = 2\n",
    "zthresh = 0\n",
    "\n",
    "beta_dict = {}\n",
    "zcontrast = {}\n",
    "behavdata = {}\n",
    "\n",
    "# Organize subject betas by stimulus\n",
    "zcontrast = np.zeros((360,3)) # 1st subj; 2nd subj; average\n",
    "i = 0\n",
    "for subj in subjNums:\n",
    "    beta_dict[subj] = np.zeros((zcontrast.shape[0],2))\n",
    "    print 'Loading betas for subject', subj\n",
    "#     smoothMap(subj)\n",
    "    beta_dict[subj][:,:] = loadBetas(subj)\n",
    "    # Only include SMN vertices\n",
    "    rois = np.where(networkdef==networkmappings['smn'])[0]\n",
    "#     rois = rois + 1\n",
    "    roi_ind = []\n",
    "    for roi in rois:\n",
    "        roi_ind.append(roi)\n",
    "    roi_ind = np.reshape(np.asarray(roi_ind),-1)\n",
    "#     left_ind = stats.zscore(beta_dict[subj][roi_ind,0],axis=0)\n",
    "#     right_ind = stats.zscore(beta_dict[subj][roi_ind,1],axis=0)\n",
    "    left_ind = beta_dict[subj][roi_ind,0]\n",
    "#     tmp = np.abs(left_ind)\n",
    "#     left_ind = np.multiply(left_ind,tmp)\n",
    "    right_ind = beta_dict[subj][roi_ind,1]\n",
    "#     tmp = np.abs(right_ind)\n",
    "#     right_ind = np.multiply(right_ind,tmp)\n",
    "    zcontrast[roi_ind,i] = stats.zscore(left_ind - right_ind,axis=0)\n",
    "    thresh = np.abs(zcontrast[roi_ind,i]) > zthresh \n",
    "    zcontrast[roi_ind,i] = np.multiply(zcontrast[roi_ind,i],thresh)\n",
    "    zcontrast[roi_ind,2] = zcontrast[roi_ind,2] + (left_ind - right_ind)*.5\n",
    "    i += 1\n",
    "# Average\n",
    "zcontrast[roi_ind,2] = stats.zscore(zcontrast[roi_ind,2],axis=0)\n",
    "thresh = np.abs(zcontrast[roi_ind,2]) > zthresh\n",
    "zcontrast[roi_ind,2] = np.multiply(zcontrast[roi_ind,2],thresh)\n",
    "\n",
    "\n",
    "        "
   ]
  },
  {
   "cell_type": "markdown",
   "metadata": {},
   "source": [
    "## 2.3 Save t-statistic contrast maps for each subject and average to CSV and dscalar files"
   ]
  },
  {
   "cell_type": "code",
   "execution_count": 131,
   "metadata": {
    "collapsed": false
   },
   "outputs": [],
   "source": [
    "basedir = '/projects3/StroopActFlow/data/results/GlasserResults/glm_motorResponseLocalizer/'\n",
    "filerule = basedir+'zcontrast_motorresponse'\n",
    "\n",
    "# Remap to vertices\n",
    "zcontrast_64k = np.zeros((glasser.shape[0],zcontrast.shape[1]))\n",
    "roicount = 0\n",
    "for roi in np.unique(glasser):\n",
    "    v_ind = np.where(glasser==roi)[0]\n",
    "    for v in v_ind:\n",
    "        zcontrast_64k[v,0] = zcontrast[roicount,0]\n",
    "        zcontrast_64k[v,1] = zcontrast[roicount,1]\n",
    "        zcontrast_64k[v,2] = zcontrast[roicount,2]\n",
    "    roicount += 1\n",
    "\n",
    "# zcontrast_64k[:29706,:] = 0\n",
    "\n",
    "np.savetxt(filerule+'.csv', zcontrast_64k, delimiter=',')\n",
    "\n",
    "convertCSVToCIFTI64k(filerule+'.csv', filerule+'.dscalar.nii')\n"
   ]
  },
  {
   "cell_type": "markdown",
   "metadata": {},
   "source": [
    "# End"
   ]
  },
  {
   "cell_type": "markdown",
   "metadata": {},
   "source": [
    "___"
   ]
  },
  {
   "cell_type": "markdown",
   "metadata": {},
   "source": [
    "##### Run 2 classifications"
   ]
  },
  {
   "cell_type": "markdown",
   "metadata": {},
   "source": [
    "Function for cross-validation"
   ]
  },
  {
   "cell_type": "code",
   "execution_count": 12,
   "metadata": {
    "collapsed": true
   },
   "outputs": [],
   "source": [
    "def runCV(svmmat, labels, cvs=10, leaveout=5, replacement=False):\n",
    "    \"\"\"\n",
    "    Runs a cross validation given an svm matrix, labels, number of cross validations, and \n",
    "    number of leave outs for test predictions\n",
    "    \n",
    "    Assumes cross validation without replacement (for each train v. test prediction)\n",
    "    \"\"\"\n",
    "    # Get number of classes\n",
    "    classes = np.unique(labels)\n",
    "    \n",
    "    # Run cross-validation using Linear SVMs\n",
    "    leaveout_total = leaveout*len(classes)\n",
    "\n",
    "    # Spatially demean (across features, to ensure that mean activity does not factor into classification)\n",
    "    spatialmean = np.mean(svmmat,axis=1)\n",
    "    spatialmean.shape = (len(spatialmean),1)\n",
    "    svmmat = svmmat - spatialmean\n",
    "    \n",
    "    # Start cross-validation\n",
    "    nsamples = svmmat.shape[0]\n",
    "    acc = []\n",
    "    for cv in range(cvs):\n",
    "        test_ind = []\n",
    "        for stim in classes:\n",
    "            stimlabs = np.where(labels==stim)[0]\n",
    "            test_ind.extend(np.random.choice(stimlabs,leaveout,replace=replacement))\n",
    "            \n",
    "        test_ind = np.asarray(test_ind)\n",
    "        train_ind = np.delete(np.arange(nsamples),test_ind)\n",
    "\n",
    "        trainset = svmmat[train_ind,:]\n",
    "        testset = svmmat[test_ind,:]\n",
    "        # normalize train and test set according to train set mean & std\n",
    "        mean = np.mean(trainset,axis=0)\n",
    "        std = np.std(trainset,axis=0)\n",
    "        trainset = np.divide((trainset - mean),std)\n",
    "        testset = np.divide((testset - mean),std)\n",
    "\n",
    "        # Construct classifier and fit\n",
    "        svc = SVC(kernel='linear')\n",
    "        svc.fit(trainset,labels[train_ind])\n",
    "        # Get acc\n",
    "        acc.append(svc.score(testset,labels[test_ind]))\n",
    "\n",
    "    # Get average accuracy\n",
    "#     accmat[subj][roi_ind,0] = np.mean(acc)\n",
    "    avg_acc = np.mean(acc)\n",
    "\n",
    "    \n",
    "    # Perform within-subject binomial test\n",
    "    ntotal = leaveout_total*cvs\n",
    "    nsuccess = avg_acc*ntotal\n",
    "    chance = 1.0/len(classes)\n",
    "    p = stats.binom_test(nsuccess,ntotal,p=chance)\n",
    "\n",
    "    # Make sure it's a one-sided binomial test\n",
    "    if avg_acc > chance:\n",
    "        p = p/2.0\n",
    "    else:\n",
    "        p = 1.0 - p/2.0\n",
    "    \n",
    "    return avg_acc, p\n"
   ]
  },
  {
   "cell_type": "markdown",
   "metadata": {},
   "source": [
    "#### Run actual code/cross-validations"
   ]
  },
  {
   "cell_type": "code",
   "execution_count": 13,
   "metadata": {
    "collapsed": false
   },
   "outputs": [
    {
     "name": "stdout",
     "output_type": "stream",
     "text": [
      "Running classifications for subject 101\n",
      "Running classifications for subject 102\n"
     ]
    }
   ],
   "source": [
    "accmat = {}\n",
    "pmat = {}\n",
    "qmat = {}\n",
    "accmat_thresh = {}\n",
    "nparcels = 360\n",
    "\n",
    "for subj in subjNums:\n",
    "    print 'Running classifications for subject', subj\n",
    "    accmat[subj] = np.zeros((glasser.shape[0],2)) # 2 for accuracies and thresholded accuracies    \n",
    "    pmat[subj] = np.zeros((nparcels,))\n",
    "    \n",
    "    for roi in range(nparcels):\n",
    "        if nparcels%100==0:\n",
    "            print 'Running classifications on ROI,', roi + 1\n",
    "        roi_ind = np.where(glasser==roi+1)[0]\n",
    "        \n",
    "        ####\n",
    "        ## Color V Word Rule classification        \n",
    "        # Set up SVM Matrix\n",
    "        mat_tmp = [] # For a 2-way classification\n",
    "        labels_tmp = [] \n",
    "        for rule in range(nrules):\n",
    "            mat_tmp.append(beta_dict[subj][roi_ind,:,rule].T)\n",
    "            labels_tmp.append(np.ones((nsamples_perrule,1))*rule)\n",
    "        svmmat_color = np.vstack(mat_tmp)\n",
    "        labels_color = np.squeeze(np.vstack(labels_tmp))\n",
    "        \n",
    "        # Run cross-validation using Linear SVMs\n",
    "        crossvalidations = 30 # 30-fold cross validation; 60 samples, 58 train; 2 test\n",
    "        leaveout = 2 # leave out 2 samples of each stim\n",
    "\n",
    "        acc, p = runCV(svmmat_color, labels_color, cvs=crossvalidations, leaveout=leaveout, replacement=False)\n",
    "        accmat[subj][roi_ind,0] = acc\n",
    "        pmat[subj][roi] = p\n",
    "#         h0, qs = mc.fdrcorrection0(pmat[subj][:,0])\n",
    "        \n",
    "   "
   ]
  },
  {
   "cell_type": "markdown",
   "metadata": {},
   "source": [
    "#### Run FDR correction for each test"
   ]
  },
  {
   "cell_type": "code",
   "execution_count": 14,
   "metadata": {
    "collapsed": false
   },
   "outputs": [
    {
     "data": {
      "text/plain": [
       "(59412, 2)"
      ]
     },
     "execution_count": 14,
     "metadata": {},
     "output_type": "execute_result"
    }
   ],
   "source": [
    "accmat['101'].shape"
   ]
  },
  {
   "cell_type": "code",
   "execution_count": 16,
   "metadata": {
    "collapsed": false
   },
   "outputs": [],
   "source": [
    "qmat = {}\n",
    "mvpa_mask = {}\n",
    "\n",
    "for subj in subjNums:\n",
    "    mvpa_mask[subj] = np.zeros(accmat[subj].shape)\n",
    "    \n",
    "    h0,qs = mc.fdrcorrection0(pmat[subj])\n",
    "\n",
    "    # Iterate through each ROI and make sure it is significant\n",
    "    for roi in range(nparcels):\n",
    "        roi_ind = np.where(glasser==roi+1)[0]\n",
    "        if qs[roi] < 0.05:\n",
    "            mvpa_mask[subj][roi_ind,0] = 1.0\n",
    "            accmat[subj][roi_ind,1] = accmat[subj][roi_ind,0]\n",
    "#     tmp = np.max(accmat[subj][:,0])\n",
    "#     roi_ind = accmat[subj][:,0] == tmp\n",
    "#     for roi in rois: \n",
    "#         roi_ind = np.where(glasser==roi+1)[0]\n",
    "#     mvpa_mask[subj][roi_ind,0] = 1.0\n",
    "#     mvpa_mask[subj][:,0] = 1.0\n",
    "#     accmat[subj][roi_ind,1] = accmat[subj][roi_ind,0]\n",
    "            \n"
   ]
  },
  {
   "cell_type": "markdown",
   "metadata": {},
   "source": [
    "### 2.2 Save MVPA maps to CSV and dscalar files"
   ]
  },
  {
   "cell_type": "code",
   "execution_count": 17,
   "metadata": {
    "collapsed": false
   },
   "outputs": [],
   "source": [
    "basedir = '/projects3/StroopActFlow/data/results/glm_ruleStimBetaSeries/taskRule_localizer/'\n",
    "for subj in subjNums:\n",
    "    \n",
    "    filename_mvpa = basedir + subj + '_taskEncoding_MVPA_WordVColor_v2'\n",
    "        \n",
    "    np.savetxt(filename_mvpa + '.csv', accmat[subj], delimiter=',')\n",
    "    convertCSVToCIFTI64k(filename_mvpa+'.csv', filename_mvpa+'.dscalar.nii')\n"
   ]
  }
 ],
 "metadata": {
  "kernelspec": {
   "display_name": "Python 2",
   "language": "python",
   "name": "python2"
  },
  "language_info": {
   "codemirror_mode": {
    "name": "ipython",
    "version": 2
   },
   "file_extension": ".py",
   "mimetype": "text/x-python",
   "name": "python",
   "nbconvert_exporter": "python",
   "pygments_lexer": "ipython2",
   "version": "2.7.11"
  }
 },
 "nbformat": 4,
 "nbformat_minor": 0
}
