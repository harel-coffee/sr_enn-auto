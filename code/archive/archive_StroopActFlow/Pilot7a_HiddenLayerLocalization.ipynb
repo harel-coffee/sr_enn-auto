{
 "cells": [
  {
   "cell_type": "markdown",
   "metadata": {},
   "source": [
    "# StroopActFlow\n",
    "### Localize hidden units for Stroop Model\n",
    "### Use neutral trials only for S-R associations for different task contexts\n",
    "### Color task hidden units: Green color input -> Green response; Red color input ->  Red response\n",
    "### Word task hidden units: GREEN word input -> Green response; RED word input -> Red response\n",
    "\n",
    "#### Taku Ito\n",
    "#### 02/24/17\n"
   ]
  },
  {
   "cell_type": "code",
   "execution_count": 18,
   "metadata": {
    "collapsed": true
   },
   "outputs": [],
   "source": [
    "import numpy as np\n",
    "import matplotlib.pyplot as plt\n",
    "%matplotlib inline\n",
    "import scipy.stats as stats\n",
    "import statsmodels.sandbox.stats.multicomp as mc\n",
    "import os\n",
    "import nibabel as nib\n",
    "from sklearn.svm import SVC\n",
    "import utils\n",
    "glasserfile = '/projects3/StroopActFlow/data/Q1-Q6_RelatedParcellation210.LR.CorticalAreas_dil_Colors.32k_fs_LR.dlabel.nii'"
   ]
  },
  {
   "cell_type": "code",
   "execution_count": 19,
   "metadata": {
    "collapsed": true
   },
   "outputs": [],
   "source": [
    "def convertCSVToCIFTI64k(inputfilename,outputfilename):\n",
    "    basedir = '/projects/AnalysisTools/ParcelsGlasser2016/'\n",
    "    ciftitemplate = glasserfile\n",
    "    wb_command = 'wb_command -cifti-convert -from-text' \n",
    "    wb_command += ' ' + inputfilename \n",
    "    wb_command += ' ' + ciftitemplate\n",
    "    wb_command += ' ' + outputfilename\n",
    "    wb_command += \" -col-delim ','\"\n",
    "    wb_command += ' -reset-scalars'\n",
    "    os.system(wb_command)\n",
    "#     print wb_command"
   ]
  },
  {
   "cell_type": "markdown",
   "metadata": {},
   "source": [
    "## 0.0 Set up"
   ]
  },
  {
   "cell_type": "code",
   "execution_count": 20,
   "metadata": {
    "collapsed": false
   },
   "outputs": [],
   "source": [
    "subjNums = ['101', '102']\n",
    "\n",
    "basedir = '/projects3/StroopActFlow/data/'\n",
    "resultsdir = basedir + 'results/'\n",
    "restdir = resultsdir + 'glmRest_GlasserParcels/'\n",
    "\n",
    "glasser_nets = np.loadtxt(basedir + 'NetworkPartitions3.1/indexsort.txt', delimiter=',')\n",
    "# Make into python numbering (starts from 0)\n",
    "glasser_nets -= 1.0\n",
    "networkorder = glasser_nets.astype(int)\n",
    "networkorder.shape = (len(networkorder),1)\n",
    "\n",
    "networkmappings = {'fpn':6, 'vis':1, 'smn':2, 'con':3, 'dmn':8, 'aud':7, 'van':5, 'dan':4}\n",
    "networks = networkmappings.keys()\n",
    "\n",
    "networkdef = basedir + 'NetworkPartitions3.1/network_partition.txt'\n",
    "networkdef = np.loadtxt(networkdef, delimiter=',')\n",
    "networkdef2 = np.zeros((networkdef.shape))\n",
    "networkdef2[0:180] = networkdef[180:]\n",
    "networkdef2[180:] = networkdef[0:180]\n",
    "networkdef = networkdef2\n",
    "\n",
    "# glasserparcels = lg.loadGlasserParcels()\n",
    "# networkdef2 = lg.loadGlasserNetworks()\n",
    "\n",
    "xticks = {}\n",
    "reorderednetworkaffil = networkdef[networkorder]\n",
    "for net in networks:\n",
    "    netNum = networkmappings[net]\n",
    "    netind = np.where(reorderednetworkaffil==netNum)[0]\n",
    "    tick = np.max(netind)\n",
    "    xticks[tick] = net\n",
    "    \n",
    "# Load in Glasser parcels\n",
    "# glasserfile = '/projects3/StroopActFlow/data/Q1-Q6_RelatedParcellation210.LR.CorticalAreas_dil_Colors.32k_fs_LR.dlabel.nii'\n",
    "glasser = nib.load(glasserfile).get_data()\n",
    "glasser = np.squeeze(glasser)"
   ]
  },
  {
   "cell_type": "markdown",
   "metadata": {},
   "source": [
    "## 2.0 Run task activation analysis on 64k Surface for 2 rule encodings"
   ]
  },
  {
   "cell_type": "code",
   "execution_count": 21,
   "metadata": {
    "collapsed": true
   },
   "outputs": [],
   "source": [
    "def loadBetas(subj):\n",
    "    datadir = '/projects3/StroopActFlow/data/results/glm_hiddenLayerLocalizer/'\n",
    "    betas = np.loadtxt(datadir + subj + '_hiddenLayer_taskBetas_Surface64k.csv',delimiter=',')\n",
    "    \n",
    "#     nruleBetas = 60\n",
    "    \n",
    "    betas = betas[:,-4:] # Last 2 are the task rule betas\n",
    "    return betas"
   ]
  },
  {
   "cell_type": "markdown",
   "metadata": {},
   "source": [
    "## 2.1 Run GLM contrast between color V. word S-R associations\n",
    "* Hidden units 1: Color rule hidden units\n",
    "* Hidden units 2: Word rule hidden units"
   ]
  },
  {
   "cell_type": "markdown",
   "metadata": {},
   "source": [
    "##### Load in data as dicts"
   ]
  },
  {
   "cell_type": "code",
   "execution_count": 59,
   "metadata": {
    "collapsed": false
   },
   "outputs": [
    {
     "name": "stdout",
     "output_type": "stream",
     "text": [
      "Loading betas for subject 101\n",
      "Loading betas for subject 102\n"
     ]
    }
   ],
   "source": [
    "nrules = 2\n",
    "\n",
    "beta_dict = {}\n",
    "behavdata = {}\n",
    "\n",
    "# Organize subject betas by stimulus\n",
    "zcontrast = np.zeros((glasser.shape[0],3)) # 1st subj; 2nd subj; average\n",
    "i = 0\n",
    "for subj in subjNums:\n",
    "    beta_dict[subj] = np.zeros((glasser.shape[0],2))\n",
    "    print 'Loading betas for subject', subj\n",
    "#     smoothMap(subj)\n",
    "    # Average together the COLOR representations\n",
    "    beta_dict[subj][:,0] = np.mean(loadBetas(subj)[:,0:2],axis=1) ### 0-1 are the COLOR indices\n",
    "    # Average together the WORD representations\n",
    "    beta_dict[subj][:,1] = np.mean(loadBetas(subj)[:,2:],axis=1) ### 2-3 are the WORD indices\n",
    "    \n",
    "#     pval_mask = loadPvals(subj)[:,0:2] < 0.05\n",
    "    # Only include SMN vertices\n",
    "    rois = []\n",
    "    rois.extend(np.where(networkdef==networkmappings['van'])[0])\n",
    "    rois.extend(np.where(networkdef==networkmappings['dan'])[0])\n",
    "    \n",
    "    roi_ind = []\n",
    "    for roi in rois:\n",
    "        roi_ind.extend(np.where(glasser==roi+1)[0])\n",
    "    roi_ind = np.reshape(np.asarray(roi_ind),-1)\n",
    "#     left_ind = stats.zscore(beta_dict[subj][roi_ind,0],axis=0)\n",
    "#     right_ind = stats.zscore(beta_dict[subj][roi_ind,1],axis=0)\n",
    "    color_ind = beta_dict[subj][roi_ind,0]\n",
    "    word_ind = beta_dict[subj][roi_ind,1]\n",
    "    zcontrast[roi_ind,i] = stats.zscore(color_ind - word_ind, axis=0)\n",
    "    zcontrast[roi_ind,2] = zcontrast[roi_ind,2] + (color_ind - word_ind)\n",
    "    i += 1\n",
    "# Average\n",
    "zcontrast[roi_ind,2] = stats.zscore(zcontrast[roi_ind,2]/2.0,axis=0)\n",
    "\n",
    "# Apply threshold\n",
    "zthresh = 0 # p < 0.05 for z-values\n",
    "for i in range(zcontrast.shape[1]):\n",
    "    tmp = np.abs(zcontrast[:,i]) > zthresh\n",
    "    zcontrast[:,i] = np.multiply(zcontrast[:,i],tmp)\n",
    "    \n",
    "# Identify vertices sensitive to color, and vertices sensitive to word (for future contrast)\n",
    "color_ind = {}\n",
    "word_ind = {}\n",
    "for i in range(zcontrast.shape[1]):\n",
    "    color_ind[i] = np.where(zcontrast[:,i] > 0)[0]\n",
    "    word_ind[i] = np.where(zcontrast[:,i] < 0)[0]"
   ]
  },
  {
   "cell_type": "markdown",
   "metadata": {},
   "source": [
    "## 2.1.2 Save t-statistic contrast maps for each subject and average to CSV and dscalar file"
   ]
  },
  {
   "cell_type": "code",
   "execution_count": 23,
   "metadata": {
    "collapsed": true
   },
   "outputs": [],
   "source": [
    "basedir = '/projects3/StroopActFlow/data/results/glm_hiddenLayerLocalizer//'\n",
    "filerule = basedir+'zcontrast_ColorVWord_HiddenLayerLocalization'\n",
    "np.savetxt(filerule+'.csv', zcontrast, delimiter=',')\n",
    "\n",
    "convertCSVToCIFTI64k(filerule+'.csv', filerule+'.dscalar.nii')\n"
   ]
  },
  {
   "cell_type": "markdown",
   "metadata": {},
   "source": [
    "## 2.2 Hidden layer color representation localization: Load in t-maps (obtained from regressors against 0) for each COLOR stimulus, and contrast the t-maps\n",
    "\n",
    "##### This is not a rigorous statistical test. Perform this for each subject, and then compute an 'average' contrast t-map"
   ]
  },
  {
   "cell_type": "code",
   "execution_count": 60,
   "metadata": {
    "collapsed": false
   },
   "outputs": [
    {
     "name": "stdout",
     "output_type": "stream",
     "text": [
      "Loading betas for subject 101\n",
      "Loading betas for subject 102\n"
     ]
    }
   ],
   "source": [
    "nrules = 2\n",
    "\n",
    "beta_dict = {}\n",
    "behavdata = {}\n",
    "\n",
    "# Organize subject betas by stimulus\n",
    "zcontrast_color = np.zeros((glasser.shape[0],3)) # 1st subj; 2nd subj; average\n",
    "i = 0\n",
    "for subj in subjNums:\n",
    "    beta_dict[subj] = np.zeros((glasser.shape[0],2))\n",
    "    print 'Loading betas for subject', subj\n",
    "#     smoothMap(subj)\n",
    "    beta_dict[subj][:,:] = loadBetas(subj)[:,0:2] ### 0-2 are the COLOR indices\n",
    "#     pval_mask = loadPvals(subj)[:,0:2] < 0.05\n",
    "#     # Only include VIS vertices\n",
    "#     rois = np.where(networkdef==networkmappings['vis'])[0]\n",
    "#     roi_ind = []\n",
    "#     for roi in rois:\n",
    "#         roi_ind.extend(np.where(glasser==roi)[0])\n",
    "#     roi_ind = np.reshape(np.asarray(roi_ind),-1)\n",
    "#     left_ind = stats.zscore(beta_dict[subj][roi_ind,0],axis=0)\n",
    "#     right_ind = stats.zscore(beta_dict[subj][roi_ind,1],axis=0)\n",
    "    green_ind = beta_dict[subj][color_ind[i],0]\n",
    "    red_ind = beta_dict[subj][color_ind[i],1]\n",
    "    zcontrast_color[color_ind[i],i] = stats.zscore(green_ind - red_ind, axis=0)\n",
    "    zcontrast_color[color_ind[2],2] = zcontrast_color[color_ind[2],2] + (beta_dict[subj][color_ind[2],0] - beta_dict[subj][color_ind[2],1])\n",
    "    i += 1\n",
    "# Average\n",
    "zcontrast_color[color_ind[2],2] = stats.zscore(zcontrast_color[color_ind[2],2]/2.0,axis=0)\n",
    "\n",
    "\n",
    "        "
   ]
  },
  {
   "cell_type": "markdown",
   "metadata": {},
   "source": [
    "## 2.3 Save t-statistic contrast maps for each subject and average to CSV and dscalar files"
   ]
  },
  {
   "cell_type": "code",
   "execution_count": 26,
   "metadata": {
    "collapsed": true
   },
   "outputs": [],
   "source": [
    "basedir = '/projects3/StroopActFlow/data/results/glm_hiddenLayerLocalizer/'\n",
    "filerule = basedir+'zcontrast_hiddenLayerColor_GreenVRed'\n",
    "\n",
    "np.savetxt(filerule+'.csv', zcontrast_color, delimiter=',')\n",
    "\n",
    "convertCSVToCIFTI64k(filerule+'.csv', filerule+'.dscalar.nii')\n"
   ]
  },
  {
   "cell_type": "markdown",
   "metadata": {},
   "source": [
    "## 2.4 Word representation localization: Load in t-maps (obtained from regressors against 0) for each WORD stimulus, and contrast the t-maps\n",
    "\n",
    "##### This is not a rigorous statistical test. Perform this for each subject, and then compute an 'average' contrast t-map"
   ]
  },
  {
   "cell_type": "code",
   "execution_count": 61,
   "metadata": {
    "collapsed": false
   },
   "outputs": [
    {
     "name": "stdout",
     "output_type": "stream",
     "text": [
      "Loading betas for subject 101\n",
      "Loading betas for subject 102\n"
     ]
    }
   ],
   "source": [
    "nrules = 2\n",
    "\n",
    "beta_dict = {}\n",
    "behavdata = {}\n",
    "\n",
    "# Organize subject betas by stimulus\n",
    "zcontrast_word = np.zeros((glasser.shape[0],3)) # 1st subj; 2nd subj; average\n",
    "i = 0\n",
    "for subj in subjNums:\n",
    "    beta_dict[subj] = np.zeros((glasser.shape[0],2))\n",
    "    print 'Loading betas for subject', subj\n",
    "#     smoothMap(subj)\n",
    "    beta_dict[subj][:,:] = loadBetas(subj)[:,2:] ### 2: are the WORD indices\n",
    "#     # Only include VIS vertices\n",
    "#     rois = np.where(networkdef==networkmappings['vis'])[0]\n",
    "#     roi_ind = []\n",
    "#     for roi in rois:\n",
    "#         roi_ind.extend(np.where(glasser==roi)[0])\n",
    "#     roi_ind = np.reshape(np.asarray(roi_ind),-1)\n",
    "#     left_ind = stats.zscore(beta_dict[subj][roi_ind,0],axis=0)\n",
    "#     right_ind = stats.zscore(beta_dict[subj][roi_ind,1],axis=0)\n",
    "    green_ind = beta_dict[subj][word_ind[i],0]\n",
    "    red_ind = beta_dict[subj][word_ind[i],1]\n",
    "    zcontrast_word[word_ind[i],i] = stats.zscore(green_ind - red_ind, axis=0)\n",
    "    zcontrast_word[word_ind[2],2] = zcontrast_word[word_ind[2],2] + (beta_dict[subj][word_ind[2],0] - beta_dict[subj][word_ind[2],1])\n",
    "    i += 1\n",
    "# Average\n",
    "zcontrast_word[word_ind[2],2] = stats.zscore(zcontrast_word[word_ind[2],2]/2.0,axis=0)\n",
    "\n",
    "        "
   ]
  },
  {
   "cell_type": "markdown",
   "metadata": {},
   "source": [
    "## 2.5 Save t-statistic contrast maps for each subject and average to CSV and dscalar files"
   ]
  },
  {
   "cell_type": "code",
   "execution_count": 28,
   "metadata": {
    "collapsed": true
   },
   "outputs": [],
   "source": [
    "basedir = '/projects3/StroopActFlow/data/results/glm_hiddenLayerLocalizer/'\n",
    "filerule = basedir+'zcontrast_hiddenLayerWord_GreenVRed'\n",
    "\n",
    "np.savetxt(filerule+'.csv', zcontrast_word, delimiter=',')\n",
    "\n",
    "convertCSVToCIFTI64k(filerule+'.csv', filerule+'.dscalar.nii')\n"
   ]
  },
  {
   "cell_type": "markdown",
   "metadata": {},
   "source": [
    "# 3.0 Estimate biases for each hidden unit"
   ]
  },
  {
   "cell_type": "markdown",
   "metadata": {},
   "source": [
    "#### Now loadStimBetas"
   ]
  },
  {
   "cell_type": "code",
   "execution_count": 31,
   "metadata": {
    "collapsed": true
   },
   "outputs": [],
   "source": [
    "def loadStimBetas(subj):\n",
    "    datadir = '/projects3/StroopActFlow/data/results/glm_ruleStimBetaSeries/'\n",
    "    betas = np.loadtxt(datadir + subj + '_RuleAndStimBetaSeries_taskBetas_Surface64k.csv',delimiter=',')\n",
    "    \n",
    "    nruleBetas = 60\n",
    "    \n",
    "    betas = betas[:,18+nruleBetas:] # 18 onwards are the two task betas\n",
    "    return betas"
   ]
  },
  {
   "cell_type": "markdown",
   "metadata": {},
   "source": [
    "## 3.1 First estimate biases for color hidden units"
   ]
  },
  {
   "cell_type": "code",
   "execution_count": 228,
   "metadata": {
    "collapsed": false
   },
   "outputs": [
    {
     "name": "stdout",
     "output_type": "stream",
     "text": [
      "Loading betas for subject 101\n",
      "Loading betas for subject 102\n"
     ]
    }
   ],
   "source": [
    "nrules = 2\n",
    "\n",
    "beta_dict = {}\n",
    "behavdata = {}\n",
    "allbetas = {}\n",
    "# Organize subject betas by stimulus\n",
    "for subj in subjNums:\n",
    "    print 'Loading betas for subject', subj\n",
    "    betas = loadStimBetas(subj)\n",
    "    behavdata[subj] = utils.loadBehavData(subj)   \n",
    "    # Get indices for task rule blocks\n",
    "#     left_ind = np.where(behavdata[subj]['response']=='y')[0]\n",
    "#     right_ind = np.where(behavdata[subj]['response']=='g')[0]\n",
    "    neutral_ind = np.where(behavdata[subj]['condition']=='neutral')[0]\n",
    "#     color = np.where(behavdata[subj]['taskRule']=='color')[0]\n",
    "#     neutral_ind = np.intersect1d(neutral_ind,color)\n",
    "#     left_ind = np.intersect1d(left_ind,neutral_ind)\n",
    "#     right_ind = np.intersect1d(right_ind,neutral_ind)\n",
    "    \n",
    "#     nminsamples = np.min([left_ind.shape[0],right_ind.shape[0]])\n",
    "    nminsamples = neutral_ind.shape[0]\n",
    "    # Organize beta dict\n",
    "#     beta_dict[subj] = np.zeros((betas.shape[0],nminsamples,nrules))\n",
    "#     beta_dict[subj][:,:,0] = betas[:,left_ind[:nminsamples]]\n",
    "#     beta_dict[subj][:,:,1] = betas[:,right_ind[:nminsamples]]\n",
    "    \n",
    "    # Create all betas for ECDF purposes\n",
    "#     allbetas[subj] = np.vstack((beta_dict[subj][:,:,0],beta_dict[subj][:,:,1]))\n",
    "    allbetas[subj] = betas[:,:]\n",
    "\n",
    "# jointbetas = np.hstack((beta_dict['101'],beta_dict['102']))\n",
    "        "
   ]
  },
  {
   "cell_type": "code",
   "execution_count": 233,
   "metadata": {
    "collapsed": false
   },
   "outputs": [
    {
     "data": {
      "image/png": "[encoded data removed]",
      "text/plain": [
       "<matplotlib.figure.Figure at 0x7f103963a2d0>"
      ]
     },
     "metadata": {},
     "output_type": "display_data"
    },
    {
     "data": {
      "image/png": "[encoded data removed]",
      "text/plain": [
       "<matplotlib.figure.Figure at 0x7f10396e2b10>"
      ]
     },
     "metadata": {},
     "output_type": "display_data"
    }
   ],
   "source": [
    "import statsmodels.api as sm\n",
    "import matplotlib.pyplot as plt\n",
    "\n",
    "bias_curves = {}\n",
    "i = 0\n",
    "for subj in subjNums:\n",
    "    bias_curves[subj] = {}\n",
    "    color_green = np.where(zcontrast_color > 0)[0]\n",
    "    color_red = np.where(zcontrast_color < 0)[0]\n",
    "    word_green = np.where(zcontrast_word > 0)[0]\n",
    "    word_red = np.where(zcontrast_word < 0)[0]\n",
    "    neutral_ind = np.where(behavdata[subj]['condition']=='neutral')[0]\n",
    "\n",
    "    bias_curves[subj]['colorGreen'] = np.mean(allbetas[subj][color_green,:][:,neutral_ind],axis=0)\n",
    "    bias_curves[subj]['colorRed'] = np.mean(allbetas[subj][color_red,:][:,neutral_ind],axis=0)\n",
    "    bias_curves[subj]['wordGreen'] = np.mean(allbetas[subj][word_green,:][:,neutral_ind],axis=0)\n",
    "    bias_curves[subj]['wordRed'] = np.mean(allbetas[subj][word_red,:][:,neutral_ind],axis=0)\n",
    "\n",
    "    plt.figure()\n",
    "    plt.title('Activation Curves for Hidden Units:' + subj, fontsize=18, y=1.04)\n",
    "    plt.ylabel('ECDF', fontsize=16)\n",
    "    plt.xlabel('Range of Betas for Neutral Trials', fontsize=16)\n",
    "    for key in bias_curves[subj].keys():\n",
    "        sample = bias_curves[subj][key]\n",
    "        ecdf = sm.distributions.ECDF(sample)\n",
    "        x = np.linspace(min(sample), max(sample),num=sample.shape[0])\n",
    "        y = ecdf(x)\n",
    "#         bias = np.where(y==0.5)[0]\n",
    "#         bias = x[bias]\n",
    "        plt.step(x, y, label=key)\n",
    "#         bias = x[sample.shape[0]/2]*-1 #(bias is negative of midway point)\n",
    "    plt.legend(loc=2)\n",
    "    plt.savefig(subj+'_ActivationCurve_HiddenLayers.pdf')\n",
    "\n",
    "    \n",
    "\n",
    "    i += 1"
   ]
  },
  {
   "cell_type": "code",
   "execution_count": 240,
   "metadata": {
    "collapsed": false
   },
   "outputs": [
    {
     "data": {
      "image/png": "[encoded data removed]",
      "text/plain": [
       "<matplotlib.figure.Figure at 0x7f10398c9c10>"
      ]
     },
     "metadata": {},
     "output_type": "display_data"
    },
    {
     "data": {
      "image/png": "[encoded data removed]",
      "text/plain": [
       "<matplotlib.figure.Figure at 0x7f105ca3b890>"
      ]
     },
     "metadata": {},
     "output_type": "display_data"
    }
   ],
   "source": [
    "import statsmodels.api as sm\n",
    "import matplotlib.pyplot as plt\n",
    "\n",
    "bias_curves = {}\n",
    "i = 0\n",
    "for subj in subjNums:\n",
    "    bias_curves[subj] = {}\n",
    "    color_green = np.where(zcontrast_color > 0)[0]\n",
    "    color_red = np.where(zcontrast_color < 0)[0]\n",
    "    word_green = np.where(zcontrast_word > 0)[0]\n",
    "    word_red = np.where(zcontrast_word < 0)[0]\n",
    "    neutral_ind = np.where(behavdata[subj]['condition']=='neutral')[0]\n",
    "    color_i = np.where(behavdata[subj]['taskRule']=='color')[0]\n",
    "    word_i = np.where(behavdata[subj]['taskRule']=='word')[0]\n",
    "    neutral_color = np.intersect1d(neutral_ind,color_i)\n",
    "    neutral_word = np.intersect1d(neutral_ind,word_i)\n",
    "\n",
    "    bias_curves[subj]['colorGreenUnits_colorRule'] = np.mean(allbetas[subj][color_green,:][:,neutral_color],axis=0)\n",
    "    bias_curves[subj]['colorGreenUnits_wordRule'] = np.mean(allbetas[subj][color_green,:][:,neutral_word],axis=0)\n",
    "#     bias_curves[subj]['wordGreen'] = np.mean(allbetas[subj][word_green,:][:,neutral_ind],axis=0)\n",
    "#     bias_curves[subj]['wordRed'] = np.mean(allbetas[subj][word_red,:][:,neutral_ind],axis=0)\n",
    "\n",
    "    plt.figure()\n",
    "    plt.title('Activation Curves for Hidden Units:' + subj, fontsize=18, y=1.04)\n",
    "    plt.ylabel('ECDF', fontsize=16)\n",
    "    plt.xlabel('Range of Betas for Neutral Trials', fontsize=16)\n",
    "    for key in bias_curves[subj].keys():\n",
    "        sample = bias_curves[subj][key]\n",
    "        ecdf = sm.distributions.ECDF(sample)\n",
    "        x = np.linspace(min(sample), max(sample),num=sample.shape[0])\n",
    "        y = ecdf(x)\n",
    "#         bias = np.where(y==0.5)[0]\n",
    "#         bias = x[bias]\n",
    "        plt.step(x, y, label=key)\n",
    "#         bias = x[sample.shape[0]/2]*-1 #(bias is negative of midway point)\n",
    "    plt.legend(loc=2)\n",
    "    plt.savefig(subj+'_colorGreenUnitsECDFs_HiddenLayers.pdf')\n",
    "\n",
    "    \n",
    "\n",
    "    i += 1"
   ]
  },
  {
   "cell_type": "markdown",
   "metadata": {},
   "source": [
    "___"
   ]
  },
  {
   "cell_type": "markdown",
   "metadata": {},
   "source": [
    "##### Run 2 classifications"
   ]
  },
  {
   "cell_type": "markdown",
   "metadata": {},
   "source": [
    "Function for cross-validation"
   ]
  },
  {
   "cell_type": "code",
   "execution_count": 109,
   "metadata": {
    "collapsed": true
   },
   "outputs": [],
   "source": [
    "def runCV(svmmat, labels, cvs=10, leaveout=5, replacement=False):\n",
    "    \"\"\"\n",
    "    Runs a cross validation given an svm matrix, labels, number of cross validations, and \n",
    "    number of leave outs for test predictions\n",
    "    \n",
    "    Assumes cross validation without replacement (for each train v. test prediction)\n",
    "    \"\"\"\n",
    "    # Get number of classes\n",
    "    classes = np.unique(labels)\n",
    "    \n",
    "    # Run cross-validation using Linear SVMs\n",
    "    leaveout_total = leaveout*len(classes)\n",
    "\n",
    "    # Spatially demean (across features, to ensure that mean activity does not factor into classification)\n",
    "    spatialmean = np.mean(svmmat,axis=1)\n",
    "    spatialmean.shape = (len(spatialmean),1)\n",
    "    svmmat = svmmat - spatialmean\n",
    "    \n",
    "    # Start cross-validation\n",
    "    nsamples = svmmat.shape[0]\n",
    "    acc = []\n",
    "    for cv in range(cvs):\n",
    "        test_ind = []\n",
    "        for stim in classes:\n",
    "            stimlabs = np.where(labels==stim)[0]\n",
    "            test_ind.extend(np.random.choice(stimlabs,leaveout,replace=replacement))\n",
    "            \n",
    "        test_ind = np.asarray(test_ind)\n",
    "        train_ind = np.delete(np.arange(nsamples),test_ind)\n",
    "\n",
    "        trainset = svmmat[train_ind,:]\n",
    "        testset = svmmat[test_ind,:]\n",
    "        # normalize train and test set according to train set mean & std\n",
    "        mean = np.mean(trainset,axis=0)\n",
    "        std = np.std(trainset,axis=0)\n",
    "        trainset = np.divide((trainset - mean),std)\n",
    "        testset = np.divide((testset - mean),std)\n",
    "\n",
    "        # Construct classifier and fit\n",
    "        svc = SVC(kernel='linear')\n",
    "        svc.fit(trainset,labels[train_ind])\n",
    "        # Get acc\n",
    "        acc.append(svc.score(testset,labels[test_ind]))\n",
    "\n",
    "    # Get average accuracy\n",
    "#     accmat[subj][roi_ind,0] = np.mean(acc)\n",
    "    avg_acc = np.mean(acc)\n",
    "\n",
    "    \n",
    "    # Perform within-subject binomial test\n",
    "    ntotal = leaveout_total*cvs\n",
    "    nsuccess = avg_acc*ntotal\n",
    "    chance = 1.0/len(classes)\n",
    "    p = stats.binom_test(nsuccess,ntotal,p=chance)\n",
    "\n",
    "    # Make sure it's a one-sided binomial test\n",
    "    if avg_acc > chance:\n",
    "        p = p/2.0\n",
    "    else:\n",
    "        p = 1.0 - p/2.0\n",
    "    \n",
    "    return avg_acc, p\n"
   ]
  },
  {
   "cell_type": "markdown",
   "metadata": {},
   "source": [
    "#### Run actual code/cross-validations"
   ]
  },
  {
   "cell_type": "code",
   "execution_count": 13,
   "metadata": {
    "collapsed": false
   },
   "outputs": [
    {
     "name": "stdout",
     "output_type": "stream",
     "text": [
      "Running classifications for subject 101\n",
      "Running classifications for subject 102\n"
     ]
    }
   ],
   "source": [
    "accmat = {}\n",
    "pmat = {}\n",
    "qmat = {}\n",
    "accmat_thresh = {}\n",
    "nparcels = 360\n",
    "\n",
    "for subj in subjNums:\n",
    "    print 'Running classifications for subject', subj\n",
    "    accmat[subj] = np.zeros((glasser.shape[0],2)) # 2 for accuracies and thresholded accuracies    \n",
    "    pmat[subj] = np.zeros((nparcels,))\n",
    "    \n",
    "    for roi in range(nparcels):\n",
    "        if nparcels%100==0:\n",
    "            print 'Running classifications on ROI,', roi + 1\n",
    "        roi_ind = np.where(glasser==roi+1)[0]\n",
    "        \n",
    "        ####\n",
    "        ## Color V Word Rule classification        \n",
    "        # Set up SVM Matrix\n",
    "        mat_tmp = [] # For a 2-way classification\n",
    "        labels_tmp = [] \n",
    "        for rule in range(nrules):\n",
    "            mat_tmp.append(beta_dict[subj][roi_ind,:,rule].T)\n",
    "            labels_tmp.append(np.ones((nsamples_perrule,1))*rule)\n",
    "        svmmat_color = np.vstack(mat_tmp)\n",
    "        labels_color = np.squeeze(np.vstack(labels_tmp))\n",
    "        \n",
    "        # Run cross-validation using Linear SVMs\n",
    "        crossvalidations = 30 # 30-fold cross validation; 60 samples, 58 train; 2 test\n",
    "        leaveout = 2 # leave out 2 samples of each stim\n",
    "\n",
    "        acc, p = runCV(svmmat_color, labels_color, cvs=crossvalidations, leaveout=leaveout, replacement=False)\n",
    "        accmat[subj][roi_ind,0] = acc\n",
    "        pmat[subj][roi] = p\n",
    "#         h0, qs = mc.fdrcorrection0(pmat[subj][:,0])\n",
    "        \n",
    "   "
   ]
  },
  {
   "cell_type": "markdown",
   "metadata": {},
   "source": [
    "#### Run FDR correction for each test"
   ]
  },
  {
   "cell_type": "code",
   "execution_count": 14,
   "metadata": {
    "collapsed": false
   },
   "outputs": [
    {
     "data": {
      "text/plain": [
       "(59412, 2)"
      ]
     },
     "execution_count": 14,
     "metadata": {},
     "output_type": "execute_result"
    }
   ],
   "source": [
    "accmat['101'].shape"
   ]
  },
  {
   "cell_type": "code",
   "execution_count": 16,
   "metadata": {
    "collapsed": false
   },
   "outputs": [],
   "source": [
    "qmat = {}\n",
    "mvpa_mask = {}\n",
    "\n",
    "for subj in subjNums:\n",
    "    mvpa_mask[subj] = np.zeros(accmat[subj].shape)\n",
    "    \n",
    "    h0,qs = mc.fdrcorrection0(pmat[subj])\n",
    "\n",
    "    # Iterate through each ROI and make sure it is significant\n",
    "    for roi in range(nparcels):\n",
    "        roi_ind = np.where(glasser==roi+1)[0]\n",
    "        if qs[roi] < 0.05:\n",
    "            mvpa_mask[subj][roi_ind,0] = 1.0\n",
    "            accmat[subj][roi_ind,1] = accmat[subj][roi_ind,0]\n",
    "#     tmp = np.max(accmat[subj][:,0])\n",
    "#     roi_ind = accmat[subj][:,0] == tmp\n",
    "#     for roi in rois: \n",
    "#         roi_ind = np.where(glasser==roi+1)[0]\n",
    "#     mvpa_mask[subj][roi_ind,0] = 1.0\n",
    "#     mvpa_mask[subj][:,0] = 1.0\n",
    "#     accmat[subj][roi_ind,1] = accmat[subj][roi_ind,0]\n",
    "            \n"
   ]
  },
  {
   "cell_type": "markdown",
   "metadata": {},
   "source": [
    "### 2.2 Save MVPA maps to CSV and dscalar files"
   ]
  },
  {
   "cell_type": "code",
   "execution_count": 17,
   "metadata": {
    "collapsed": false
   },
   "outputs": [],
   "source": [
    "basedir = '/projects3/StroopActFlow/data/results/glm_ruleStimBetaSeries/taskRule_localizer/'\n",
    "for subj in subjNums:\n",
    "    \n",
    "    filename_mvpa = basedir + subj + '_taskEncoding_MVPA_WordVColor_v2'\n",
    "        \n",
    "    np.savetxt(filename_mvpa + '.csv', accmat[subj], delimiter=',')\n",
    "    convertCSVToCIFTI64k(filename_mvpa+'.csv', filename_mvpa+'.dscalar.nii')\n"
   ]
  },
  {
   "cell_type": "markdown",
   "metadata": {},
   "source": [
    "## 3.0 Run GLM analysis on MVPA masks for Word V Color Rule separately"
   ]
  },
  {
   "cell_type": "markdown",
   "metadata": {},
   "source": [
    "### 3.1 Perform univariate t-test on color stims"
   ]
  },
  {
   "cell_type": "code",
   "execution_count": 22,
   "metadata": {
    "collapsed": false
   },
   "outputs": [],
   "source": [
    "ttest_loc = {}\n",
    "\n",
    "for subj in subjNums:\n",
    "    # 1st column is for t-vals; 2nd for p; 3rd for FDR-corrected t-values\n",
    "    # Vertex X stats matrix\n",
    "    ttest_loc[subj] = np.zeros((mvpa_mask[subj].shape[0],2)) \n",
    "\n",
    "    # significant vertices in MVPA mask\n",
    "    rule_ind = np.where(mvpa_mask[subj][:,0])[0]\n",
    "    rule_ind = np.arange(mvpa_mask[subj].shape[0])\n",
    "    \n",
    "    # Perform color t-test first\n",
    "    for v in rule_ind:\n",
    "        t, p = stats.ttest_rel(beta_dict[subj][v,:,0],\n",
    "                               beta_dict[subj][v,:,1])\n",
    "        ttest_loc[subj][v,0], ttest_loc[subj][v,1] = t, p\n",
    "    # Perform FDR-correction\n",
    "#     h0, q = mc.fdrcorrection0(ttest_loc[subj]['color'][color_ind,1])\n",
    "    h0 = ttest_loc[subj][rule_ind,1] < 0.05\n",
    "    ttest_loc[subj][rule_ind,1] = np.multiply(h0,ttest_loc[subj][rule_ind,0])\n",
    "        \n",
    "        \n",
    "    \n",
    "        \n",
    "        "
   ]
  },
  {
   "cell_type": "markdown",
   "metadata": {},
   "source": [
    "### 3.2 Save statistical maps to CSV and dscalar files"
   ]
  },
  {
   "cell_type": "code",
   "execution_count": 23,
   "metadata": {
    "collapsed": true
   },
   "outputs": [],
   "source": [
    "for subj in subjNums:\n",
    "    basedir = '/projects3/StroopActFlow/data/results/glm_ruleStimBetaSeries/taskRule_localizer/'\n",
    "    filerule = basedir+subj+'_MVPAconstrained_ttestContrast_rules_v2'\n",
    "    \n",
    "    np.savetxt(filerule+'.csv', ttest_loc[subj], delimiter=',')\n",
    "    \n",
    "    convertCSVToCIFTI64k(filerule+'.csv', filerule+'.dscalar.nii')\n"
   ]
  }
 ],
 "metadata": {
  "kernelspec": {
   "display_name": "Python 2",
   "language": "python",
   "name": "python2"
  },
  "language_info": {
   "codemirror_mode": {
    "name": "ipython",
    "version": 2
   },
   "file_extension": ".py",
   "mimetype": "text/x-python",
   "name": "python",
   "nbconvert_exporter": "python",
   "pygments_lexer": "ipython2",
   "version": "2.7.11"
  }
 },
 "nbformat": 4,
 "nbformat_minor": 0
}
